{
 "cells": [
  {
   "cell_type": "markdown",
   "metadata": {},
   "source": [
    "# Clean-up raw job logs"
   ]
  },
  {
   "cell_type": "code",
   "execution_count": 1,
   "metadata": {},
   "outputs": [],
   "source": [
    "import pandas as pd\n",
    "import numpy as np\n",
    "import matplotlib.pyplot as plt"
   ]
  },
  {
   "cell_type": "code",
   "execution_count": 2,
   "metadata": {},
   "outputs": [],
   "source": [
    "import sys, os\n",
    "sys.path.append('..')\n",
    "from tools import read_request_logs"
   ]
  },
  {
   "cell_type": "markdown",
   "metadata": {},
   "source": [
    "## Read the raw job logs\n",
    "Load raw job logs from the much more performant Parquet storage format, if already available..."
   ]
  },
  {
   "cell_type": "code",
   "execution_count": 3,
   "metadata": {},
   "outputs": [],
   "source": [
    "if os.path.isfile('job_logs_raw.parquet'):\n",
    "    job_logs_raw = pd.read_parquet('job_logs_raw.parquet')\n",
    "else:\n",
    "    job_logs_raw = read_request_logs('../request_logs/', '*.tar.gz')\n",
    "    job_logs_raw.to_parquet('job_logs_raw.parquet', index=False, compression='gzip')"
   ]
  },
  {
   "cell_type": "code",
   "execution_count": 4,
   "metadata": {},
   "outputs": [
    {
     "data": {
      "text/html": [
       "<div>\n",
       "<style scoped>\n",
       "    .dataframe tbody tr th:only-of-type {\n",
       "        vertical-align: middle;\n",
       "    }\n",
       "\n",
       "    .dataframe tbody tr th {\n",
       "        vertical-align: top;\n",
       "    }\n",
       "\n",
       "    .dataframe thead th {\n",
       "        text-align: right;\n",
       "    }\n",
       "</style>\n",
       "<table border=\"1\" class=\"dataframe\">\n",
       "  <thead>\n",
       "    <tr style=\"text-align: right;\">\n",
       "      <th></th>\n",
       "      <th>Queue</th>\n",
       "      <th>Pri</th>\n",
       "      <th>STT</th>\n",
       "      <th>S</th>\n",
       "      <th>Memory</th>\n",
       "      <th>CPU</th>\n",
       "      <th>Elapse</th>\n",
       "      <th>R</th>\n",
       "      <th>H</th>\n",
       "      <th>M</th>\n",
       "      <th>Jobs</th>\n",
       "      <th>Identifier</th>\n",
       "      <th>Time</th>\n",
       "      <th>Filename</th>\n",
       "    </tr>\n",
       "  </thead>\n",
       "  <tbody>\n",
       "    <tr>\n",
       "      <th>0</th>\n",
       "      <td>clbigmem</td>\n",
       "      <td>0</td>\n",
       "      <td>RUN</td>\n",
       "      <td>-</td>\n",
       "      <td>45.40</td>\n",
       "      <td>10000.86</td>\n",
       "      <td>560223.0</td>\n",
       "      <td>Y</td>\n",
       "      <td>Y</td>\n",
       "      <td>Y</td>\n",
       "      <td>1.0</td>\n",
       "      <td>50f38293dabf53e9</td>\n",
       "      <td>2020-02-06 19:53:11+01:00</td>\n",
       "      <td>../request_logs/cycle_2020-02-06-19-52-28.tar.gz</td>\n",
       "    </tr>\n",
       "    <tr>\n",
       "      <th>1</th>\n",
       "      <td>clbigmem</td>\n",
       "      <td>0</td>\n",
       "      <td>RUN</td>\n",
       "      <td>-</td>\n",
       "      <td>66.43</td>\n",
       "      <td>1461501.36</td>\n",
       "      <td>181504.0</td>\n",
       "      <td>Y</td>\n",
       "      <td>Y</td>\n",
       "      <td>Y</td>\n",
       "      <td>1.0</td>\n",
       "      <td>1cadd9af115874fc</td>\n",
       "      <td>2020-02-06 19:53:11+01:00</td>\n",
       "      <td>../request_logs/cycle_2020-02-06-19-52-28.tar.gz</td>\n",
       "    </tr>\n",
       "    <tr>\n",
       "      <th>2</th>\n",
       "      <td>clbigmem</td>\n",
       "      <td>0</td>\n",
       "      <td>RUN</td>\n",
       "      <td>-</td>\n",
       "      <td>44.20</td>\n",
       "      <td>2973694.55</td>\n",
       "      <td>93235.0</td>\n",
       "      <td>Y</td>\n",
       "      <td>Y</td>\n",
       "      <td>Y</td>\n",
       "      <td>1.0</td>\n",
       "      <td>84b513a49a615a33</td>\n",
       "      <td>2020-02-06 19:53:11+01:00</td>\n",
       "      <td>../request_logs/cycle_2020-02-06-19-52-28.tar.gz</td>\n",
       "    </tr>\n",
       "    <tr>\n",
       "      <th>3</th>\n",
       "      <td>clbigmem</td>\n",
       "      <td>0</td>\n",
       "      <td>RUN</td>\n",
       "      <td>-</td>\n",
       "      <td>2.01</td>\n",
       "      <td>1166604.28</td>\n",
       "      <td>36574.0</td>\n",
       "      <td>Y</td>\n",
       "      <td>Y</td>\n",
       "      <td>Y</td>\n",
       "      <td>3.0</td>\n",
       "      <td>817f139219e72642</td>\n",
       "      <td>2020-02-06 19:53:11+01:00</td>\n",
       "      <td>../request_logs/cycle_2020-02-06-19-52-28.tar.gz</td>\n",
       "    </tr>\n",
       "    <tr>\n",
       "      <th>4</th>\n",
       "      <td>clbigmem</td>\n",
       "      <td>0</td>\n",
       "      <td>RUN</td>\n",
       "      <td>-</td>\n",
       "      <td>30.28</td>\n",
       "      <td>138055.86</td>\n",
       "      <td>4353.0</td>\n",
       "      <td>Y</td>\n",
       "      <td>Y</td>\n",
       "      <td>Y</td>\n",
       "      <td>1.0</td>\n",
       "      <td>fc3ffa2fca1e77be</td>\n",
       "      <td>2020-02-06 19:53:11+01:00</td>\n",
       "      <td>../request_logs/cycle_2020-02-06-19-52-28.tar.gz</td>\n",
       "    </tr>\n",
       "    <tr>\n",
       "      <th>...</th>\n",
       "      <td>...</td>\n",
       "      <td>...</td>\n",
       "      <td>...</td>\n",
       "      <td>...</td>\n",
       "      <td>...</td>\n",
       "      <td>...</td>\n",
       "      <td>...</td>\n",
       "      <td>...</td>\n",
       "      <td>...</td>\n",
       "      <td>...</td>\n",
       "      <td>...</td>\n",
       "      <td>...</td>\n",
       "      <td>...</td>\n",
       "      <td>...</td>\n",
       "    </tr>\n",
       "    <tr>\n",
       "      <th>3998495</th>\n",
       "      <td>vequeue</td>\n",
       "      <td>0</td>\n",
       "      <td>QUE</td>\n",
       "      <td>-</td>\n",
       "      <td>0.00</td>\n",
       "      <td>0.00</td>\n",
       "      <td>0.0</td>\n",
       "      <td>Y</td>\n",
       "      <td>Y</td>\n",
       "      <td>Y</td>\n",
       "      <td>1.0</td>\n",
       "      <td>f4cb580b6bec844d</td>\n",
       "      <td>2020-06-04 09:11:32+02:00</td>\n",
       "      <td>../request_logs/cycle_2020-04-28-10-32-05.tar.gz</td>\n",
       "    </tr>\n",
       "    <tr>\n",
       "      <th>3998496</th>\n",
       "      <td>vequeue</td>\n",
       "      <td>0</td>\n",
       "      <td>QUE</td>\n",
       "      <td>-</td>\n",
       "      <td>0.00</td>\n",
       "      <td>0.00</td>\n",
       "      <td>0.0</td>\n",
       "      <td>Y</td>\n",
       "      <td>Y</td>\n",
       "      <td>Y</td>\n",
       "      <td>1.0</td>\n",
       "      <td>c4975bdf8e8eed3e</td>\n",
       "      <td>2020-06-04 09:11:32+02:00</td>\n",
       "      <td>../request_logs/cycle_2020-04-28-10-32-05.tar.gz</td>\n",
       "    </tr>\n",
       "    <tr>\n",
       "      <th>3998497</th>\n",
       "      <td>vequeue</td>\n",
       "      <td>0</td>\n",
       "      <td>QUE</td>\n",
       "      <td>-</td>\n",
       "      <td>0.00</td>\n",
       "      <td>0.00</td>\n",
       "      <td>0.0</td>\n",
       "      <td>Y</td>\n",
       "      <td>Y</td>\n",
       "      <td>Y</td>\n",
       "      <td>1.0</td>\n",
       "      <td>1f285dcb7a982b97</td>\n",
       "      <td>2020-06-04 09:11:32+02:00</td>\n",
       "      <td>../request_logs/cycle_2020-04-28-10-32-05.tar.gz</td>\n",
       "    </tr>\n",
       "    <tr>\n",
       "      <th>3998498</th>\n",
       "      <td>vequeue</td>\n",
       "      <td>0</td>\n",
       "      <td>QUE</td>\n",
       "      <td>-</td>\n",
       "      <td>0.00</td>\n",
       "      <td>0.00</td>\n",
       "      <td>0.0</td>\n",
       "      <td>Y</td>\n",
       "      <td>Y</td>\n",
       "      <td>Y</td>\n",
       "      <td>1.0</td>\n",
       "      <td>046400ed28c790fe</td>\n",
       "      <td>2020-06-04 09:11:32+02:00</td>\n",
       "      <td>../request_logs/cycle_2020-04-28-10-32-05.tar.gz</td>\n",
       "    </tr>\n",
       "    <tr>\n",
       "      <th>3998499</th>\n",
       "      <td>vequeue</td>\n",
       "      <td>0</td>\n",
       "      <td>QUE</td>\n",
       "      <td>-</td>\n",
       "      <td>0.00</td>\n",
       "      <td>0.00</td>\n",
       "      <td>0.0</td>\n",
       "      <td>Y</td>\n",
       "      <td>Y</td>\n",
       "      <td>Y</td>\n",
       "      <td>1.0</td>\n",
       "      <td>8b37c05d7c6857cf</td>\n",
       "      <td>2020-06-04 09:11:32+02:00</td>\n",
       "      <td>../request_logs/cycle_2020-04-28-10-32-05.tar.gz</td>\n",
       "    </tr>\n",
       "  </tbody>\n",
       "</table>\n",
       "<p>3998500 rows × 14 columns</p>\n",
       "</div>"
      ],
      "text/plain": [
       "            Queue  Pri  STT  S  Memory         CPU    Elapse  R  H  M  Jobs  \\\n",
       "0        clbigmem    0  RUN  -   45.40    10000.86  560223.0  Y  Y  Y   1.0   \n",
       "1        clbigmem    0  RUN  -   66.43  1461501.36  181504.0  Y  Y  Y   1.0   \n",
       "2        clbigmem    0  RUN  -   44.20  2973694.55   93235.0  Y  Y  Y   1.0   \n",
       "3        clbigmem    0  RUN  -    2.01  1166604.28   36574.0  Y  Y  Y   3.0   \n",
       "4        clbigmem    0  RUN  -   30.28   138055.86    4353.0  Y  Y  Y   1.0   \n",
       "...           ...  ...  ... ..     ...         ...       ... .. .. ..   ...   \n",
       "3998495   vequeue    0  QUE  -    0.00        0.00       0.0  Y  Y  Y   1.0   \n",
       "3998496   vequeue    0  QUE  -    0.00        0.00       0.0  Y  Y  Y   1.0   \n",
       "3998497   vequeue    0  QUE  -    0.00        0.00       0.0  Y  Y  Y   1.0   \n",
       "3998498   vequeue    0  QUE  -    0.00        0.00       0.0  Y  Y  Y   1.0   \n",
       "3998499   vequeue    0  QUE  -    0.00        0.00       0.0  Y  Y  Y   1.0   \n",
       "\n",
       "               Identifier                      Time  \\\n",
       "0        50f38293dabf53e9 2020-02-06 19:53:11+01:00   \n",
       "1        1cadd9af115874fc 2020-02-06 19:53:11+01:00   \n",
       "2        84b513a49a615a33 2020-02-06 19:53:11+01:00   \n",
       "3        817f139219e72642 2020-02-06 19:53:11+01:00   \n",
       "4        fc3ffa2fca1e77be 2020-02-06 19:53:11+01:00   \n",
       "...                   ...                       ...   \n",
       "3998495  f4cb580b6bec844d 2020-06-04 09:11:32+02:00   \n",
       "3998496  c4975bdf8e8eed3e 2020-06-04 09:11:32+02:00   \n",
       "3998497  1f285dcb7a982b97 2020-06-04 09:11:32+02:00   \n",
       "3998498  046400ed28c790fe 2020-06-04 09:11:32+02:00   \n",
       "3998499  8b37c05d7c6857cf 2020-06-04 09:11:32+02:00   \n",
       "\n",
       "                                                 Filename  \n",
       "0        ../request_logs/cycle_2020-02-06-19-52-28.tar.gz  \n",
       "1        ../request_logs/cycle_2020-02-06-19-52-28.tar.gz  \n",
       "2        ../request_logs/cycle_2020-02-06-19-52-28.tar.gz  \n",
       "3        ../request_logs/cycle_2020-02-06-19-52-28.tar.gz  \n",
       "4        ../request_logs/cycle_2020-02-06-19-52-28.tar.gz  \n",
       "...                                                   ...  \n",
       "3998495  ../request_logs/cycle_2020-04-28-10-32-05.tar.gz  \n",
       "3998496  ../request_logs/cycle_2020-04-28-10-32-05.tar.gz  \n",
       "3998497  ../request_logs/cycle_2020-04-28-10-32-05.tar.gz  \n",
       "3998498  ../request_logs/cycle_2020-04-28-10-32-05.tar.gz  \n",
       "3998499  ../request_logs/cycle_2020-04-28-10-32-05.tar.gz  \n",
       "\n",
       "[3998500 rows x 14 columns]"
      ]
     },
     "execution_count": 4,
     "metadata": {},
     "output_type": "execute_result"
    }
   ],
   "source": [
    "job_logs_raw"
   ]
  },
  {
   "cell_type": "markdown",
   "metadata": {},
   "source": [
    "## Information content assessment\n",
    "We go through each of the columns in the above Pandas dataframe and check which rows/columns contain valuable/necessary information for the follow-up analysis. We try to drop as many columns as possible."
   ]
  },
  {
   "cell_type": "code",
   "execution_count": 5,
   "metadata": {},
   "outputs": [],
   "source": [
    "def job_prevalence(logs, parameter):\n",
    "    grouped = logs.groupby(parameter)\n",
    "    total_job_number = logs['Time'].count()\n",
    "    print(grouped[parameter].count()/total_job_number*100)"
   ]
  },
  {
   "cell_type": "markdown",
   "metadata": {},
   "source": [
    "### Batch class\n",
    "The majority of job entries (about 94.7%) is located on the Linux cluster, i.e. in the `cl*` and the `feque` batch classes. We will limit the analysis to this most occupied part of the system and will drop job entries for the vector host `ve*` part (about 5.0%) and those for the interactive `clintera` and experimental `cltestqu` batch classes (about 0.3%). As the existence of distinct batch classes might affect user behaviour the column will be kept."
   ]
  },
  {
   "cell_type": "code",
   "execution_count": 6,
   "metadata": {},
   "outputs": [
    {
     "name": "stdout",
     "output_type": "stream",
     "text": [
      "Queue\n",
      "clbigmem     2.390521\n",
      "clexpres     0.856421\n",
      "clfo2        5.532650\n",
      "clintera     0.247543\n",
      "cllong      25.315218\n",
      "clmedium    58.808553\n",
      "cltestqu     0.030661\n",
      "feque        1.783469\n",
      "veexpres     1.194373\n",
      "veintera     0.034963\n",
      "vequeue      3.805627\n",
      "Name: Queue, dtype: float64\n"
     ]
    }
   ],
   "source": [
    "job_prevalence(job_logs_raw, 'Queue')"
   ]
  },
  {
   "cell_type": "code",
   "execution_count": 7,
   "metadata": {},
   "outputs": [
    {
     "data": {
      "text/plain": [
       "94.68683256221082"
      ]
     },
     "execution_count": 7,
     "metadata": {},
     "output_type": "execute_result"
    }
   ],
   "source": [
    "100*job_logs_raw['Queue'].str.contains('clbigmem|cllong|clmedium|clexpres|feque|clfo2').sum()/job_logs_raw['Time'].count()"
   ]
  },
  {
   "cell_type": "code",
   "execution_count": 8,
   "metadata": {},
   "outputs": [
    {
     "data": {
      "text/plain": [
       "5.034963111166688"
      ]
     },
     "execution_count": 8,
     "metadata": {},
     "output_type": "execute_result"
    }
   ],
   "source": [
    "100*job_logs_raw['Queue'].str.contains('veexpres|veintera|vequeue').sum()/job_logs_raw['Time'].count()"
   ]
  },
  {
   "cell_type": "code",
   "execution_count": 9,
   "metadata": {},
   "outputs": [
    {
     "data": {
      "text/plain": [
       "0.27820432662248346"
      ]
     },
     "execution_count": 9,
     "metadata": {},
     "output_type": "execute_result"
    }
   ],
   "source": [
    "100*job_logs_raw['Queue'].str.contains('clintera|cltestqu').sum()/job_logs_raw['Time'].count()"
   ]
  },
  {
   "cell_type": "markdown",
   "metadata": {},
   "source": [
    "### Job priority\n",
    "Apparently, all jobs entries have the same priority. There is no valuable information here, the `Pri` column will thus be dropped."
   ]
  },
  {
   "cell_type": "code",
   "execution_count": 10,
   "metadata": {},
   "outputs": [
    {
     "name": "stdout",
     "output_type": "stream",
     "text": [
      "Pri\n",
      "0    100.0\n",
      "Name: Pri, dtype: float64\n"
     ]
    }
   ],
   "source": [
    "job_prevalence(job_logs_raw, 'Pri')"
   ]
  },
  {
   "cell_type": "markdown",
   "metadata": {},
   "source": [
    "### Job status\n",
    "The majority of the job entries (about 99.4%) is either in a queued or running state. We keep the column with job status information, as these are important for the estimation of job characteristics. The job states will likely need a post-processing, but how that should be done will depend on the target analysis and will thus be done separately."
   ]
  },
  {
   "cell_type": "code",
   "execution_count": 11,
   "metadata": {},
   "outputs": [
    {
     "name": "stdout",
     "output_type": "stream",
     "text": [
      "STT\n",
      "EXT     0.296611\n",
      "HLD     0.083906\n",
      "POR     0.012805\n",
      "PRR     0.044267\n",
      "QUE    47.602926\n",
      "RUN    51.841666\n",
      "STG     0.008953\n",
      "WAT     0.108866\n",
      "Name: STT, dtype: float64\n"
     ]
    }
   ],
   "source": [
    "job_prevalence(job_logs_raw, 'STT')"
   ]
  },
  {
   "cell_type": "code",
   "execution_count": 12,
   "metadata": {},
   "outputs": [
    {
     "data": {
      "text/plain": [
       "99.4445917218957"
      ]
     },
     "execution_count": 12,
     "metadata": {},
     "output_type": "execute_result"
    }
   ],
   "source": [
    "100*job_logs_raw['STT'].str.contains('QUE|RUN').sum()/job_logs_raw['Time'].count()"
   ]
  },
  {
   "cell_type": "markdown",
   "metadata": {},
   "source": [
    "Job request states as documented in the [NQSV User's Guide Reference](https://www.hpc.nec/documents/index.en.xhtml#idm140221910547704) available at NEC.\n",
    "\n",
    "```\n",
    "ARI arriving\n",
    "CHK checkpointing\n",
    "EXT exiting\n",
    "FWD forwarding\n",
    "GQD global_queued\n",
    "HLD held\n",
    "HOL holding\n",
    "MIG migrating\n",
    "POR post-running\n",
    "PRR pre-running\n",
    "QUE queued\n",
    "RST restarting\n",
    "RUN running\n",
    "SUS suspending, suspended, resuming\n",
    "STG staging\n",
    "TRS transferring\n",
    "WAT waiting\n",
    "```"
   ]
  },
  {
   "cell_type": "markdown",
   "metadata": {},
   "source": [
    "### Stall status\n",
    "Jobs that are stalled (about 0.004% of the job entries and 0.002% of the individual jobs) will be dropped as they are elapsing w/o using CPU and memory resources. If we do this, the column can be dropped."
   ]
  },
  {
   "cell_type": "code",
   "execution_count": 13,
   "metadata": {},
   "outputs": [
    {
     "name": "stdout",
     "output_type": "stream",
     "text": [
      "S\n",
      "-    99.995698\n",
      "Y     0.004302\n",
      "Name: S, dtype: float64\n"
     ]
    }
   ],
   "source": [
    "job_prevalence(job_logs_raw, 'S')"
   ]
  },
  {
   "cell_type": "code",
   "execution_count": 14,
   "metadata": {},
   "outputs": [
    {
     "data": {
      "text/plain": [
       "0.0018707148936966261"
      ]
     },
     "execution_count": 14,
     "metadata": {},
     "output_type": "execute_result"
    }
   ],
   "source": [
    "these_identifiers = job_logs_raw[job_logs_raw['S']=='Y']['Identifier'].unique()\n",
    "100*these_identifiers.size/job_logs_raw['Identifier'].unique().size"
   ]
  },
  {
   "cell_type": "markdown",
   "metadata": {},
   "source": [
    "Stall states as documented in the [NQSV User's Guide Reference](https://www.hpc.nec/documents/index.en.xhtml#idm140221910547704) available at NEC.\n",
    "\n",
    "```\n",
    "Stall Status (S)\n",
    "Y Stall\n",
    "Normal\n",
    "```"
   ]
  },
  {
   "cell_type": "code",
   "execution_count": 15,
   "metadata": {},
   "outputs": [
    {
     "data": {
      "text/html": [
       "<div>\n",
       "<style scoped>\n",
       "    .dataframe tbody tr th:only-of-type {\n",
       "        vertical-align: middle;\n",
       "    }\n",
       "\n",
       "    .dataframe tbody tr th {\n",
       "        vertical-align: top;\n",
       "    }\n",
       "\n",
       "    .dataframe thead th {\n",
       "        text-align: right;\n",
       "    }\n",
       "</style>\n",
       "<table border=\"1\" class=\"dataframe\">\n",
       "  <thead>\n",
       "    <tr style=\"text-align: right;\">\n",
       "      <th></th>\n",
       "      <th>Queue</th>\n",
       "      <th>Pri</th>\n",
       "      <th>STT</th>\n",
       "      <th>S</th>\n",
       "      <th>Memory</th>\n",
       "      <th>CPU</th>\n",
       "      <th>Elapse</th>\n",
       "      <th>R</th>\n",
       "      <th>H</th>\n",
       "      <th>M</th>\n",
       "      <th>Jobs</th>\n",
       "      <th>Time</th>\n",
       "      <th>Filename</th>\n",
       "    </tr>\n",
       "    <tr>\n",
       "      <th>Identifier</th>\n",
       "      <th></th>\n",
       "      <th></th>\n",
       "      <th></th>\n",
       "      <th></th>\n",
       "      <th></th>\n",
       "      <th></th>\n",
       "      <th></th>\n",
       "      <th></th>\n",
       "      <th></th>\n",
       "      <th></th>\n",
       "      <th></th>\n",
       "      <th></th>\n",
       "      <th></th>\n",
       "    </tr>\n",
       "  </thead>\n",
       "  <tbody>\n",
       "    <tr>\n",
       "      <th>af04ba2641814a0e</th>\n",
       "      <td>clmedium</td>\n",
       "      <td>0</td>\n",
       "      <td>RUN</td>\n",
       "      <td>Y</td>\n",
       "      <td>0.0</td>\n",
       "      <td>0.0</td>\n",
       "      <td>68145.0</td>\n",
       "      <td>Y</td>\n",
       "      <td>Y</td>\n",
       "      <td>Y</td>\n",
       "      <td>NaN</td>\n",
       "      <td>2020-02-18 20:36:55+01:00</td>\n",
       "      <td>../request_logs/cycle_2020-02-06-19-52-28.tar.gz</td>\n",
       "    </tr>\n",
       "    <tr>\n",
       "      <th>af04ba2641814a0e</th>\n",
       "      <td>clmedium</td>\n",
       "      <td>0</td>\n",
       "      <td>RUN</td>\n",
       "      <td>Y</td>\n",
       "      <td>0.0</td>\n",
       "      <td>0.0</td>\n",
       "      <td>68750.0</td>\n",
       "      <td>Y</td>\n",
       "      <td>Y</td>\n",
       "      <td>Y</td>\n",
       "      <td>NaN</td>\n",
       "      <td>2020-02-18 20:47:00+01:00</td>\n",
       "      <td>../request_logs/cycle_2020-02-06-19-52-28.tar.gz</td>\n",
       "    </tr>\n",
       "    <tr>\n",
       "      <th>af04ba2641814a0e</th>\n",
       "      <td>clmedium</td>\n",
       "      <td>0</td>\n",
       "      <td>RUN</td>\n",
       "      <td>Y</td>\n",
       "      <td>0.0</td>\n",
       "      <td>0.0</td>\n",
       "      <td>69355.0</td>\n",
       "      <td>Y</td>\n",
       "      <td>Y</td>\n",
       "      <td>Y</td>\n",
       "      <td>NaN</td>\n",
       "      <td>2020-02-18 20:57:06+01:00</td>\n",
       "      <td>../request_logs/cycle_2020-02-06-19-52-28.tar.gz</td>\n",
       "    </tr>\n",
       "    <tr>\n",
       "      <th>af04ba2641814a0e</th>\n",
       "      <td>clmedium</td>\n",
       "      <td>0</td>\n",
       "      <td>RUN</td>\n",
       "      <td>Y</td>\n",
       "      <td>0.0</td>\n",
       "      <td>0.0</td>\n",
       "      <td>69959.0</td>\n",
       "      <td>Y</td>\n",
       "      <td>Y</td>\n",
       "      <td>Y</td>\n",
       "      <td>NaN</td>\n",
       "      <td>2020-02-18 21:07:09+01:00</td>\n",
       "      <td>../request_logs/cycle_2020-02-06-19-52-28.tar.gz</td>\n",
       "    </tr>\n",
       "    <tr>\n",
       "      <th>af04ba2641814a0e</th>\n",
       "      <td>clmedium</td>\n",
       "      <td>0</td>\n",
       "      <td>RUN</td>\n",
       "      <td>Y</td>\n",
       "      <td>0.0</td>\n",
       "      <td>0.0</td>\n",
       "      <td>70564.0</td>\n",
       "      <td>Y</td>\n",
       "      <td>Y</td>\n",
       "      <td>Y</td>\n",
       "      <td>NaN</td>\n",
       "      <td>2020-02-18 21:17:14+01:00</td>\n",
       "      <td>../request_logs/cycle_2020-02-06-19-52-28.tar.gz</td>\n",
       "    </tr>\n",
       "    <tr>\n",
       "      <th>...</th>\n",
       "      <td>...</td>\n",
       "      <td>...</td>\n",
       "      <td>...</td>\n",
       "      <td>...</td>\n",
       "      <td>...</td>\n",
       "      <td>...</td>\n",
       "      <td>...</td>\n",
       "      <td>...</td>\n",
       "      <td>...</td>\n",
       "      <td>...</td>\n",
       "      <td>...</td>\n",
       "      <td>...</td>\n",
       "      <td>...</td>\n",
       "    </tr>\n",
       "    <tr>\n",
       "      <th>af04ba2641814a0e</th>\n",
       "      <td>clmedium</td>\n",
       "      <td>0</td>\n",
       "      <td>RUN</td>\n",
       "      <td>Y</td>\n",
       "      <td>0.0</td>\n",
       "      <td>0.0</td>\n",
       "      <td>170975.0</td>\n",
       "      <td>Y</td>\n",
       "      <td>Y</td>\n",
       "      <td>Y</td>\n",
       "      <td>NaN</td>\n",
       "      <td>2020-02-20 01:10:45+01:00</td>\n",
       "      <td>../request_logs/cycle_2020-02-06-19-52-28.tar.gz</td>\n",
       "    </tr>\n",
       "    <tr>\n",
       "      <th>af04ba2641814a0e</th>\n",
       "      <td>clmedium</td>\n",
       "      <td>0</td>\n",
       "      <td>RUN</td>\n",
       "      <td>Y</td>\n",
       "      <td>0.0</td>\n",
       "      <td>0.0</td>\n",
       "      <td>171582.0</td>\n",
       "      <td>Y</td>\n",
       "      <td>Y</td>\n",
       "      <td>Y</td>\n",
       "      <td>NaN</td>\n",
       "      <td>2020-02-20 01:20:53+01:00</td>\n",
       "      <td>../request_logs/cycle_2020-02-06-19-52-28.tar.gz</td>\n",
       "    </tr>\n",
       "    <tr>\n",
       "      <th>af04ba2641814a0e</th>\n",
       "      <td>clmedium</td>\n",
       "      <td>0</td>\n",
       "      <td>RUN</td>\n",
       "      <td>Y</td>\n",
       "      <td>0.0</td>\n",
       "      <td>0.0</td>\n",
       "      <td>172189.0</td>\n",
       "      <td>Y</td>\n",
       "      <td>Y</td>\n",
       "      <td>Y</td>\n",
       "      <td>NaN</td>\n",
       "      <td>2020-02-20 01:31:00+01:00</td>\n",
       "      <td>../request_logs/cycle_2020-02-06-19-52-28.tar.gz</td>\n",
       "    </tr>\n",
       "    <tr>\n",
       "      <th>af04ba2641814a0e</th>\n",
       "      <td>clmedium</td>\n",
       "      <td>0</td>\n",
       "      <td>RUN</td>\n",
       "      <td>Y</td>\n",
       "      <td>0.0</td>\n",
       "      <td>0.0</td>\n",
       "      <td>172795.0</td>\n",
       "      <td>Y</td>\n",
       "      <td>Y</td>\n",
       "      <td>Y</td>\n",
       "      <td>NaN</td>\n",
       "      <td>2020-02-20 01:41:05+01:00</td>\n",
       "      <td>../request_logs/cycle_2020-02-06-19-52-28.tar.gz</td>\n",
       "    </tr>\n",
       "    <tr>\n",
       "      <th>102a0c978ccec1d3</th>\n",
       "      <td>clmedium</td>\n",
       "      <td>0</td>\n",
       "      <td>RUN</td>\n",
       "      <td>Y</td>\n",
       "      <td>0.0</td>\n",
       "      <td>0.0</td>\n",
       "      <td>13812.0</td>\n",
       "      <td>Y</td>\n",
       "      <td>Y</td>\n",
       "      <td>Y</td>\n",
       "      <td>NaN</td>\n",
       "      <td>2020-02-20 17:10:59+01:00</td>\n",
       "      <td>../request_logs/cycle_2020-02-06-19-52-28.tar.gz</td>\n",
       "    </tr>\n",
       "  </tbody>\n",
       "</table>\n",
       "<p>172 rows × 13 columns</p>\n",
       "</div>"
      ],
      "text/plain": [
       "                     Queue  Pri  STT  S  Memory  CPU    Elapse  R  H  M  Jobs  \\\n",
       "Identifier                                                                      \n",
       "af04ba2641814a0e  clmedium    0  RUN  Y     0.0  0.0   68145.0  Y  Y  Y   NaN   \n",
       "af04ba2641814a0e  clmedium    0  RUN  Y     0.0  0.0   68750.0  Y  Y  Y   NaN   \n",
       "af04ba2641814a0e  clmedium    0  RUN  Y     0.0  0.0   69355.0  Y  Y  Y   NaN   \n",
       "af04ba2641814a0e  clmedium    0  RUN  Y     0.0  0.0   69959.0  Y  Y  Y   NaN   \n",
       "af04ba2641814a0e  clmedium    0  RUN  Y     0.0  0.0   70564.0  Y  Y  Y   NaN   \n",
       "...                    ...  ...  ... ..     ...  ...       ... .. .. ..   ...   \n",
       "af04ba2641814a0e  clmedium    0  RUN  Y     0.0  0.0  170975.0  Y  Y  Y   NaN   \n",
       "af04ba2641814a0e  clmedium    0  RUN  Y     0.0  0.0  171582.0  Y  Y  Y   NaN   \n",
       "af04ba2641814a0e  clmedium    0  RUN  Y     0.0  0.0  172189.0  Y  Y  Y   NaN   \n",
       "af04ba2641814a0e  clmedium    0  RUN  Y     0.0  0.0  172795.0  Y  Y  Y   NaN   \n",
       "102a0c978ccec1d3  clmedium    0  RUN  Y     0.0  0.0   13812.0  Y  Y  Y   NaN   \n",
       "\n",
       "                                      Time  \\\n",
       "Identifier                                   \n",
       "af04ba2641814a0e 2020-02-18 20:36:55+01:00   \n",
       "af04ba2641814a0e 2020-02-18 20:47:00+01:00   \n",
       "af04ba2641814a0e 2020-02-18 20:57:06+01:00   \n",
       "af04ba2641814a0e 2020-02-18 21:07:09+01:00   \n",
       "af04ba2641814a0e 2020-02-18 21:17:14+01:00   \n",
       "...                                    ...   \n",
       "af04ba2641814a0e 2020-02-20 01:10:45+01:00   \n",
       "af04ba2641814a0e 2020-02-20 01:20:53+01:00   \n",
       "af04ba2641814a0e 2020-02-20 01:31:00+01:00   \n",
       "af04ba2641814a0e 2020-02-20 01:41:05+01:00   \n",
       "102a0c978ccec1d3 2020-02-20 17:10:59+01:00   \n",
       "\n",
       "                                                          Filename  \n",
       "Identifier                                                          \n",
       "af04ba2641814a0e  ../request_logs/cycle_2020-02-06-19-52-28.tar.gz  \n",
       "af04ba2641814a0e  ../request_logs/cycle_2020-02-06-19-52-28.tar.gz  \n",
       "af04ba2641814a0e  ../request_logs/cycle_2020-02-06-19-52-28.tar.gz  \n",
       "af04ba2641814a0e  ../request_logs/cycle_2020-02-06-19-52-28.tar.gz  \n",
       "af04ba2641814a0e  ../request_logs/cycle_2020-02-06-19-52-28.tar.gz  \n",
       "...                                                            ...  \n",
       "af04ba2641814a0e  ../request_logs/cycle_2020-02-06-19-52-28.tar.gz  \n",
       "af04ba2641814a0e  ../request_logs/cycle_2020-02-06-19-52-28.tar.gz  \n",
       "af04ba2641814a0e  ../request_logs/cycle_2020-02-06-19-52-28.tar.gz  \n",
       "af04ba2641814a0e  ../request_logs/cycle_2020-02-06-19-52-28.tar.gz  \n",
       "102a0c978ccec1d3  ../request_logs/cycle_2020-02-06-19-52-28.tar.gz  \n",
       "\n",
       "[172 rows x 13 columns]"
      ]
     },
     "execution_count": 15,
     "metadata": {},
     "output_type": "execute_result"
    }
   ],
   "source": [
    "these_jobs = job_logs_raw.set_index(\"Identifier\")['S'].str.contains('Y')\n",
    "job_logs_raw.set_index(\"Identifier\").loc[these_jobs]"
   ]
  },
  {
   "cell_type": "markdown",
   "metadata": {},
   "source": [
    "### Scheduler options\n",
    "The job re-execution, the job hold and the job migration scheduler options are set to `yes` for the majority of job entries. A closer investigation reveals that only jobs in the interactive batch classes `clintera` and `veintera` are marked with a `no` for this option. As jobs in these batch classes will be dropped anyway, the scheduler options column will be dropped too."
   ]
  },
  {
   "cell_type": "code",
   "execution_count": 16,
   "metadata": {},
   "outputs": [
    {
     "name": "stdout",
     "output_type": "stream",
     "text": [
      "R\n",
      "N     0.282506\n",
      "Y    99.717494\n",
      "Name: R, dtype: float64\n"
     ]
    }
   ],
   "source": [
    "job_prevalence(job_logs_raw, 'R')"
   ]
  },
  {
   "cell_type": "markdown",
   "metadata": {},
   "source": [
    "As documented in the [NQSV User's Guide Reference](https://www.hpc.nec/documents/index.en.xhtml#idm140221910547704) available at NEC.\n",
    "\n",
    "```\n",
    "Re-execution Possible/Not Possible (R)\n",
    "Y Request with re-execution option\n",
    "N Request without re-execution option\n",
    "```"
   ]
  },
  {
   "cell_type": "code",
   "execution_count": 17,
   "metadata": {},
   "outputs": [
    {
     "name": "stdout",
     "output_type": "stream",
     "text": [
      "H\n",
      "N     0.282506\n",
      "Y    99.717494\n",
      "Name: H, dtype: float64\n"
     ]
    }
   ],
   "source": [
    "job_prevalence(job_logs_raw, 'H')"
   ]
  },
  {
   "cell_type": "markdown",
   "metadata": {},
   "source": [
    "As documented in the [NQSV User's Guide Reference](https://www.hpc.nec/documents/index.en.xhtml#idm140221910547704) available at NEC.\n",
    "\n",
    "```\n",
    "Hold Possible/Not Possible (H)\n",
    "Y Request with hold option\n",
    "N Request without hold option\n",
    "```"
   ]
  },
  {
   "cell_type": "code",
   "execution_count": 18,
   "metadata": {},
   "outputs": [
    {
     "name": "stdout",
     "output_type": "stream",
     "text": [
      "M\n",
      "N     0.282506\n",
      "Y    99.717494\n",
      "Name: M, dtype: float64\n"
     ]
    }
   ],
   "source": [
    "job_prevalence(job_logs_raw, 'M')"
   ]
  },
  {
   "cell_type": "markdown",
   "metadata": {},
   "source": [
    "As documented in the [NQSV User's Guide Reference](https://www.hpc.nec/documents/index.en.xhtml#idm140221910547704) available at NEC.\n",
    "\n",
    "```\n",
    "Job Migration Possible/Not Possible (M)\n",
    "Y Request with Job Migration option\n",
    "N Request without Job Migration option\n",
    "```"
   ]
  },
  {
   "cell_type": "code",
   "execution_count": 20,
   "metadata": {},
   "outputs": [
    {
     "name": "stdout",
     "output_type": "stream",
     "text": [
      "R ['veintera' 'clintera']\n",
      "H ['veintera' 'clintera']\n",
      "M ['veintera' 'clintera']\n"
     ]
    }
   ],
   "source": [
    "for column in ['R', 'H', 'M']:\n",
    "    print(column, job_logs_raw.set_index(column).loc['N']['Queue'].unique())"
   ]
  },
  {
   "cell_type": "markdown",
   "metadata": {},
   "source": [
    "### Jobs per job request\n",
    "For full node requests this can be interpreted as total node number. This is valuable information and the column will thus be kept."
   ]
  },
  {
   "cell_type": "code",
   "execution_count": 21,
   "metadata": {},
   "outputs": [
    {
     "name": "stdout",
     "output_type": "stream",
     "text": [
      "Jobs\n",
      "1.0     81.863349\n",
      "2.0      2.475103\n",
      "3.0      2.274153\n",
      "4.0     11.900788\n",
      "5.0      0.058072\n",
      "6.0      0.107440\n",
      "7.0      0.056346\n",
      "8.0      0.929574\n",
      "10.0     0.048368\n",
      "16.0     0.251219\n",
      "29.0     0.000025\n",
      "30.0     0.002401\n",
      "32.0     0.028461\n",
      "64.0     0.000400\n",
      "Name: Jobs, dtype: float64\n"
     ]
    }
   ],
   "source": [
    "job_prevalence(job_logs_raw, 'Jobs')"
   ]
  },
  {
   "cell_type": "markdown",
   "metadata": {},
   "source": [
    "## Data integrity assessments\n",
    "There could be more of these..."
   ]
  },
  {
   "cell_type": "markdown",
   "metadata": {},
   "source": [
    "### Logging time step and identifier uniqueness\n",
    "The logging time step should be close to about ten minutes, which is the value currently set in the logging script. The way in which this analysis is implemented (grouping the job log entries by identifier and calculating time deltas separately for each identifier, which helps to circumvent the discontinuity at the termination and restart of log cycles in comparison to a purely log file name time step based approach) is also a quick check for job identifier uniqueness (note that only a cropped hash is written to disk by the logging script and that, though very unlikely, hashes could re-appear). We find, that the logging time step is mostly 10-11 minutes (never above 15:51 minutes), and thus also basically that no multiple job identifiers occur. Therefore, no clean-ups are necessary here."
   ]
  },
  {
   "cell_type": "code",
   "execution_count": 22,
   "metadata": {},
   "outputs": [],
   "source": [
    "delta_timestamp = job_logs_raw.groupby(\"Identifier\")[\"Time\"].apply(lambda subgroup: subgroup.diff().max())"
   ]
  },
  {
   "cell_type": "code",
   "execution_count": 23,
   "metadata": {},
   "outputs": [],
   "source": [
    "delta_timestamp = delta_timestamp.sort_values(ascending=False)"
   ]
  },
  {
   "cell_type": "code",
   "execution_count": 24,
   "metadata": {},
   "outputs": [
    {
     "data": {
      "text/plain": [
       "(Timedelta('0 days 00:10:00'), Timedelta('0 days 00:15:51'))"
      ]
     },
     "execution_count": 24,
     "metadata": {},
     "output_type": "execute_result"
    }
   ],
   "source": [
    "delta_timestamp.min(), delta_timestamp.max()"
   ]
  },
  {
   "cell_type": "code",
   "execution_count": 25,
   "metadata": {},
   "outputs": [
    {
     "data": {
      "text/plain": [
       "Text(0.5, 0, 'Logging period in minutes')"
      ]
     },
     "execution_count": 25,
     "metadata": {},
     "output_type": "execute_result"
    },
    {
     "data": {
      "image/png": "[encoded data removed]",
      "text/plain": [
       "<Figure size 432x288 with 1 Axes>"
      ]
     },
     "metadata": {
      "needs_background": "light"
     },
     "output_type": "display_data"
    }
   ],
   "source": [
    "(delta_timestamp.astype('timedelta64[s]')/60).hist(bins=np.arange(9.5,17.5,1))\n",
    "plt.xlabel('Logging period in minutes')"
   ]
  },
  {
   "cell_type": "markdown",
   "metadata": {},
   "source": [
    "### Number of batch classes per job"
   ]
  },
  {
   "cell_type": "markdown",
   "metadata": {},
   "source": [
    "We would expect that each job is assigned to exactly one batch class. However, there are a few jobs (about 0.01%) that were moved manually into another batch class after long waiting times... we keep this information for now."
   ]
  },
  {
   "cell_type": "code",
   "execution_count": 26,
   "metadata": {},
   "outputs": [
    {
     "data": {
      "text/plain": [
       "0.03086679574599433"
      ]
     },
     "execution_count": 26,
     "metadata": {},
     "output_type": "execute_result"
    }
   ],
   "source": [
    "queues_per_identifier = job_logs_raw.groupby(\"Identifier\")[\"Queue\"].nunique()\n",
    "100*(queues_per_identifier>1).sum()/queues_per_identifier.size"
   ]
  },
  {
   "cell_type": "code",
   "execution_count": 27,
   "metadata": {},
   "outputs": [],
   "source": [
    "these_identifiers = queues_per_identifier.index[queues_per_identifier > 1]"
   ]
  },
  {
   "cell_type": "code",
   "execution_count": 28,
   "metadata": {},
   "outputs": [
    {
     "data": {
      "text/html": [
       "<div>\n",
       "<style scoped>\n",
       "    .dataframe tbody tr th:only-of-type {\n",
       "        vertical-align: middle;\n",
       "    }\n",
       "\n",
       "    .dataframe tbody tr th {\n",
       "        vertical-align: top;\n",
       "    }\n",
       "\n",
       "    .dataframe thead th {\n",
       "        text-align: right;\n",
       "    }\n",
       "</style>\n",
       "<table border=\"1\" class=\"dataframe\">\n",
       "  <thead>\n",
       "    <tr style=\"text-align: right;\">\n",
       "      <th></th>\n",
       "      <th>Queue</th>\n",
       "      <th>Pri</th>\n",
       "      <th>STT</th>\n",
       "      <th>S</th>\n",
       "      <th>Memory</th>\n",
       "      <th>CPU</th>\n",
       "      <th>Elapse</th>\n",
       "      <th>R</th>\n",
       "      <th>H</th>\n",
       "      <th>M</th>\n",
       "      <th>Jobs</th>\n",
       "      <th>Time</th>\n",
       "      <th>Filename</th>\n",
       "    </tr>\n",
       "    <tr>\n",
       "      <th>Identifier</th>\n",
       "      <th></th>\n",
       "      <th></th>\n",
       "      <th></th>\n",
       "      <th></th>\n",
       "      <th></th>\n",
       "      <th></th>\n",
       "      <th></th>\n",
       "      <th></th>\n",
       "      <th></th>\n",
       "      <th></th>\n",
       "      <th></th>\n",
       "      <th></th>\n",
       "      <th></th>\n",
       "    </tr>\n",
       "  </thead>\n",
       "  <tbody>\n",
       "    <tr>\n",
       "      <th>15f8e91ac6df1c5a</th>\n",
       "      <td>clmedium</td>\n",
       "      <td>0</td>\n",
       "      <td>QUE</td>\n",
       "      <td>-</td>\n",
       "      <td>0.00</td>\n",
       "      <td>0.00</td>\n",
       "      <td>0.0</td>\n",
       "      <td>Y</td>\n",
       "      <td>Y</td>\n",
       "      <td>Y</td>\n",
       "      <td>4.0</td>\n",
       "      <td>2020-05-22 00:33:10+02:00</td>\n",
       "      <td>../request_logs/cycle_2020-04-28-10-32-05.tar.gz</td>\n",
       "    </tr>\n",
       "    <tr>\n",
       "      <th>15f8e91ac6df1c5a</th>\n",
       "      <td>clmedium</td>\n",
       "      <td>0</td>\n",
       "      <td>QUE</td>\n",
       "      <td>-</td>\n",
       "      <td>0.00</td>\n",
       "      <td>0.00</td>\n",
       "      <td>0.0</td>\n",
       "      <td>Y</td>\n",
       "      <td>Y</td>\n",
       "      <td>Y</td>\n",
       "      <td>4.0</td>\n",
       "      <td>2020-05-22 00:43:11+02:00</td>\n",
       "      <td>../request_logs/cycle_2020-04-28-10-32-05.tar.gz</td>\n",
       "    </tr>\n",
       "    <tr>\n",
       "      <th>15f8e91ac6df1c5a</th>\n",
       "      <td>clmedium</td>\n",
       "      <td>0</td>\n",
       "      <td>QUE</td>\n",
       "      <td>-</td>\n",
       "      <td>0.00</td>\n",
       "      <td>0.00</td>\n",
       "      <td>0.0</td>\n",
       "      <td>Y</td>\n",
       "      <td>Y</td>\n",
       "      <td>Y</td>\n",
       "      <td>4.0</td>\n",
       "      <td>2020-05-22 00:53:12+02:00</td>\n",
       "      <td>../request_logs/cycle_2020-04-28-10-32-05.tar.gz</td>\n",
       "    </tr>\n",
       "    <tr>\n",
       "      <th>15f8e91ac6df1c5a</th>\n",
       "      <td>clmedium</td>\n",
       "      <td>0</td>\n",
       "      <td>QUE</td>\n",
       "      <td>-</td>\n",
       "      <td>0.00</td>\n",
       "      <td>0.00</td>\n",
       "      <td>0.0</td>\n",
       "      <td>Y</td>\n",
       "      <td>Y</td>\n",
       "      <td>Y</td>\n",
       "      <td>4.0</td>\n",
       "      <td>2020-05-22 01:03:13+02:00</td>\n",
       "      <td>../request_logs/cycle_2020-04-28-10-32-05.tar.gz</td>\n",
       "    </tr>\n",
       "    <tr>\n",
       "      <th>15f8e91ac6df1c5a</th>\n",
       "      <td>clmedium</td>\n",
       "      <td>0</td>\n",
       "      <td>QUE</td>\n",
       "      <td>-</td>\n",
       "      <td>0.00</td>\n",
       "      <td>0.00</td>\n",
       "      <td>0.0</td>\n",
       "      <td>Y</td>\n",
       "      <td>Y</td>\n",
       "      <td>Y</td>\n",
       "      <td>4.0</td>\n",
       "      <td>2020-05-22 01:13:13+02:00</td>\n",
       "      <td>../request_logs/cycle_2020-04-28-10-32-05.tar.gz</td>\n",
       "    </tr>\n",
       "    <tr>\n",
       "      <th>...</th>\n",
       "      <td>...</td>\n",
       "      <td>...</td>\n",
       "      <td>...</td>\n",
       "      <td>...</td>\n",
       "      <td>...</td>\n",
       "      <td>...</td>\n",
       "      <td>...</td>\n",
       "      <td>...</td>\n",
       "      <td>...</td>\n",
       "      <td>...</td>\n",
       "      <td>...</td>\n",
       "      <td>...</td>\n",
       "      <td>...</td>\n",
       "    </tr>\n",
       "    <tr>\n",
       "      <th>15f8e91ac6df1c5a</th>\n",
       "      <td>clbigmem</td>\n",
       "      <td>0</td>\n",
       "      <td>RUN</td>\n",
       "      <td>-</td>\n",
       "      <td>2.22</td>\n",
       "      <td>359017.89</td>\n",
       "      <td>11287.0</td>\n",
       "      <td>Y</td>\n",
       "      <td>Y</td>\n",
       "      <td>Y</td>\n",
       "      <td>4.0</td>\n",
       "      <td>2020-05-22 11:55:26+02:00</td>\n",
       "      <td>../request_logs/cycle_2020-04-28-10-32-05.tar.gz</td>\n",
       "    </tr>\n",
       "    <tr>\n",
       "      <th>15f8e91ac6df1c5a</th>\n",
       "      <td>clbigmem</td>\n",
       "      <td>0</td>\n",
       "      <td>RUN</td>\n",
       "      <td>-</td>\n",
       "      <td>2.22</td>\n",
       "      <td>378150.57</td>\n",
       "      <td>11893.0</td>\n",
       "      <td>Y</td>\n",
       "      <td>Y</td>\n",
       "      <td>Y</td>\n",
       "      <td>4.0</td>\n",
       "      <td>2020-05-22 12:05:31+02:00</td>\n",
       "      <td>../request_logs/cycle_2020-04-28-10-32-05.tar.gz</td>\n",
       "    </tr>\n",
       "    <tr>\n",
       "      <th>15f8e91ac6df1c5a</th>\n",
       "      <td>clbigmem</td>\n",
       "      <td>0</td>\n",
       "      <td>RUN</td>\n",
       "      <td>-</td>\n",
       "      <td>2.22</td>\n",
       "      <td>397313.26</td>\n",
       "      <td>12494.0</td>\n",
       "      <td>Y</td>\n",
       "      <td>Y</td>\n",
       "      <td>Y</td>\n",
       "      <td>4.0</td>\n",
       "      <td>2020-05-22 12:15:33+02:00</td>\n",
       "      <td>../request_logs/cycle_2020-04-28-10-32-05.tar.gz</td>\n",
       "    </tr>\n",
       "    <tr>\n",
       "      <th>15f8e91ac6df1c5a</th>\n",
       "      <td>clbigmem</td>\n",
       "      <td>0</td>\n",
       "      <td>RUN</td>\n",
       "      <td>-</td>\n",
       "      <td>2.23</td>\n",
       "      <td>416476.14</td>\n",
       "      <td>13096.0</td>\n",
       "      <td>Y</td>\n",
       "      <td>Y</td>\n",
       "      <td>Y</td>\n",
       "      <td>4.0</td>\n",
       "      <td>2020-05-22 12:25:34+02:00</td>\n",
       "      <td>../request_logs/cycle_2020-04-28-10-32-05.tar.gz</td>\n",
       "    </tr>\n",
       "    <tr>\n",
       "      <th>15f8e91ac6df1c5a</th>\n",
       "      <td>clbigmem</td>\n",
       "      <td>0</td>\n",
       "      <td>RUN</td>\n",
       "      <td>-</td>\n",
       "      <td>2.23</td>\n",
       "      <td>435606.37</td>\n",
       "      <td>13697.0</td>\n",
       "      <td>Y</td>\n",
       "      <td>Y</td>\n",
       "      <td>Y</td>\n",
       "      <td>4.0</td>\n",
       "      <td>2020-05-22 12:35:35+02:00</td>\n",
       "      <td>../request_logs/cycle_2020-04-28-10-32-05.tar.gz</td>\n",
       "    </tr>\n",
       "  </tbody>\n",
       "</table>\n",
       "<p>73 rows × 13 columns</p>\n",
       "</div>"
      ],
      "text/plain": [
       "                     Queue  Pri  STT  S  Memory        CPU   Elapse  R  H  M  \\\n",
       "Identifier                                                                     \n",
       "15f8e91ac6df1c5a  clmedium    0  QUE  -    0.00       0.00      0.0  Y  Y  Y   \n",
       "15f8e91ac6df1c5a  clmedium    0  QUE  -    0.00       0.00      0.0  Y  Y  Y   \n",
       "15f8e91ac6df1c5a  clmedium    0  QUE  -    0.00       0.00      0.0  Y  Y  Y   \n",
       "15f8e91ac6df1c5a  clmedium    0  QUE  -    0.00       0.00      0.0  Y  Y  Y   \n",
       "15f8e91ac6df1c5a  clmedium    0  QUE  -    0.00       0.00      0.0  Y  Y  Y   \n",
       "...                    ...  ...  ... ..     ...        ...      ... .. .. ..   \n",
       "15f8e91ac6df1c5a  clbigmem    0  RUN  -    2.22  359017.89  11287.0  Y  Y  Y   \n",
       "15f8e91ac6df1c5a  clbigmem    0  RUN  -    2.22  378150.57  11893.0  Y  Y  Y   \n",
       "15f8e91ac6df1c5a  clbigmem    0  RUN  -    2.22  397313.26  12494.0  Y  Y  Y   \n",
       "15f8e91ac6df1c5a  clbigmem    0  RUN  -    2.23  416476.14  13096.0  Y  Y  Y   \n",
       "15f8e91ac6df1c5a  clbigmem    0  RUN  -    2.23  435606.37  13697.0  Y  Y  Y   \n",
       "\n",
       "                  Jobs                      Time  \\\n",
       "Identifier                                         \n",
       "15f8e91ac6df1c5a   4.0 2020-05-22 00:33:10+02:00   \n",
       "15f8e91ac6df1c5a   4.0 2020-05-22 00:43:11+02:00   \n",
       "15f8e91ac6df1c5a   4.0 2020-05-22 00:53:12+02:00   \n",
       "15f8e91ac6df1c5a   4.0 2020-05-22 01:03:13+02:00   \n",
       "15f8e91ac6df1c5a   4.0 2020-05-22 01:13:13+02:00   \n",
       "...                ...                       ...   \n",
       "15f8e91ac6df1c5a   4.0 2020-05-22 11:55:26+02:00   \n",
       "15f8e91ac6df1c5a   4.0 2020-05-22 12:05:31+02:00   \n",
       "15f8e91ac6df1c5a   4.0 2020-05-22 12:15:33+02:00   \n",
       "15f8e91ac6df1c5a   4.0 2020-05-22 12:25:34+02:00   \n",
       "15f8e91ac6df1c5a   4.0 2020-05-22 12:35:35+02:00   \n",
       "\n",
       "                                                          Filename  \n",
       "Identifier                                                          \n",
       "15f8e91ac6df1c5a  ../request_logs/cycle_2020-04-28-10-32-05.tar.gz  \n",
       "15f8e91ac6df1c5a  ../request_logs/cycle_2020-04-28-10-32-05.tar.gz  \n",
       "15f8e91ac6df1c5a  ../request_logs/cycle_2020-04-28-10-32-05.tar.gz  \n",
       "15f8e91ac6df1c5a  ../request_logs/cycle_2020-04-28-10-32-05.tar.gz  \n",
       "15f8e91ac6df1c5a  ../request_logs/cycle_2020-04-28-10-32-05.tar.gz  \n",
       "...                                                            ...  \n",
       "15f8e91ac6df1c5a  ../request_logs/cycle_2020-04-28-10-32-05.tar.gz  \n",
       "15f8e91ac6df1c5a  ../request_logs/cycle_2020-04-28-10-32-05.tar.gz  \n",
       "15f8e91ac6df1c5a  ../request_logs/cycle_2020-04-28-10-32-05.tar.gz  \n",
       "15f8e91ac6df1c5a  ../request_logs/cycle_2020-04-28-10-32-05.tar.gz  \n",
       "15f8e91ac6df1c5a  ../request_logs/cycle_2020-04-28-10-32-05.tar.gz  \n",
       "\n",
       "[73 rows x 13 columns]"
      ]
     },
     "execution_count": 28,
     "metadata": {},
     "output_type": "execute_result"
    }
   ],
   "source": [
    "job_logs_raw.set_index(\"Identifier\").loc[these_identifiers[3]].sort_values(\"Time\")"
   ]
  },
  {
   "cell_type": "markdown",
   "metadata": {},
   "source": [
    "### Resource documentation\n",
    "Interestingly, about 0.06% of the jobs don't document their resource usage during `RUN` states. We will keep them for now, but this should be kept in mind for follow-up analyses."
   ]
  },
  {
   "cell_type": "code",
   "execution_count": 29,
   "metadata": {},
   "outputs": [],
   "source": [
    "subset = (job_logs_raw.set_index('Identifier')['STT']=='RUN') & job_logs_raw.set_index('Identifier')['Elapse'].isna()"
   ]
  },
  {
   "cell_type": "code",
   "execution_count": 30,
   "metadata": {},
   "outputs": [],
   "source": [
    "these_identifiers = job_logs_raw.set_index('Identifier')[subset].index.unique()"
   ]
  },
  {
   "cell_type": "code",
   "execution_count": 31,
   "metadata": {},
   "outputs": [
    {
     "data": {
      "text/plain": [
       "0.05892751915144372"
      ]
     },
     "execution_count": 31,
     "metadata": {},
     "output_type": "execute_result"
    }
   ],
   "source": [
    "100*these_identifiers.size/job_logs_raw['Identifier'].unique().size"
   ]
  },
  {
   "cell_type": "code",
   "execution_count": 32,
   "metadata": {},
   "outputs": [
    {
     "data": {
      "text/html": [
       "<div>\n",
       "<style scoped>\n",
       "    .dataframe tbody tr th:only-of-type {\n",
       "        vertical-align: middle;\n",
       "    }\n",
       "\n",
       "    .dataframe tbody tr th {\n",
       "        vertical-align: top;\n",
       "    }\n",
       "\n",
       "    .dataframe thead th {\n",
       "        text-align: right;\n",
       "    }\n",
       "</style>\n",
       "<table border=\"1\" class=\"dataframe\">\n",
       "  <thead>\n",
       "    <tr style=\"text-align: right;\">\n",
       "      <th></th>\n",
       "      <th>Queue</th>\n",
       "      <th>Pri</th>\n",
       "      <th>STT</th>\n",
       "      <th>S</th>\n",
       "      <th>Memory</th>\n",
       "      <th>CPU</th>\n",
       "      <th>Elapse</th>\n",
       "      <th>R</th>\n",
       "      <th>H</th>\n",
       "      <th>M</th>\n",
       "      <th>Jobs</th>\n",
       "      <th>Time</th>\n",
       "      <th>Filename</th>\n",
       "    </tr>\n",
       "    <tr>\n",
       "      <th>Identifier</th>\n",
       "      <th></th>\n",
       "      <th></th>\n",
       "      <th></th>\n",
       "      <th></th>\n",
       "      <th></th>\n",
       "      <th></th>\n",
       "      <th></th>\n",
       "      <th></th>\n",
       "      <th></th>\n",
       "      <th></th>\n",
       "      <th></th>\n",
       "      <th></th>\n",
       "      <th></th>\n",
       "    </tr>\n",
       "  </thead>\n",
       "  <tbody>\n",
       "    <tr>\n",
       "      <th>75bc9d7758dce369</th>\n",
       "      <td>clexpres</td>\n",
       "      <td>0</td>\n",
       "      <td>RUN</td>\n",
       "      <td>-</td>\n",
       "      <td>NaN</td>\n",
       "      <td>NaN</td>\n",
       "      <td>NaN</td>\n",
       "      <td>Y</td>\n",
       "      <td>Y</td>\n",
       "      <td>Y</td>\n",
       "      <td>1.0</td>\n",
       "      <td>2020-02-07 11:43:16+01:00</td>\n",
       "      <td>../request_logs/cycle_2020-02-06-19-52-28.tar.gz</td>\n",
       "    </tr>\n",
       "    <tr>\n",
       "      <th>75bc9d7758dce369</th>\n",
       "      <td>clexpres</td>\n",
       "      <td>0</td>\n",
       "      <td>RUN</td>\n",
       "      <td>-</td>\n",
       "      <td>NaN</td>\n",
       "      <td>NaN</td>\n",
       "      <td>NaN</td>\n",
       "      <td>Y</td>\n",
       "      <td>Y</td>\n",
       "      <td>Y</td>\n",
       "      <td>1.0</td>\n",
       "      <td>2020-02-07 11:54:09+01:00</td>\n",
       "      <td>../request_logs/cycle_2020-02-06-19-52-28.tar.gz</td>\n",
       "    </tr>\n",
       "    <tr>\n",
       "      <th>75bc9d7758dce369</th>\n",
       "      <td>clexpres</td>\n",
       "      <td>0</td>\n",
       "      <td>RUN</td>\n",
       "      <td>-</td>\n",
       "      <td>NaN</td>\n",
       "      <td>NaN</td>\n",
       "      <td>NaN</td>\n",
       "      <td>Y</td>\n",
       "      <td>Y</td>\n",
       "      <td>Y</td>\n",
       "      <td>1.0</td>\n",
       "      <td>2020-02-07 12:04:51+01:00</td>\n",
       "      <td>../request_logs/cycle_2020-02-06-19-52-28.tar.gz</td>\n",
       "    </tr>\n",
       "    <tr>\n",
       "      <th>75bc9d7758dce369</th>\n",
       "      <td>clexpres</td>\n",
       "      <td>0</td>\n",
       "      <td>RUN</td>\n",
       "      <td>-</td>\n",
       "      <td>NaN</td>\n",
       "      <td>NaN</td>\n",
       "      <td>NaN</td>\n",
       "      <td>Y</td>\n",
       "      <td>Y</td>\n",
       "      <td>Y</td>\n",
       "      <td>1.0</td>\n",
       "      <td>2020-02-07 12:15:40+01:00</td>\n",
       "      <td>../request_logs/cycle_2020-02-06-19-52-28.tar.gz</td>\n",
       "    </tr>\n",
       "    <tr>\n",
       "      <th>75bc9d7758dce369</th>\n",
       "      <td>clexpres</td>\n",
       "      <td>0</td>\n",
       "      <td>RUN</td>\n",
       "      <td>-</td>\n",
       "      <td>NaN</td>\n",
       "      <td>NaN</td>\n",
       "      <td>NaN</td>\n",
       "      <td>Y</td>\n",
       "      <td>Y</td>\n",
       "      <td>Y</td>\n",
       "      <td>1.0</td>\n",
       "      <td>2020-02-07 12:26:27+01:00</td>\n",
       "      <td>../request_logs/cycle_2020-02-06-19-52-28.tar.gz</td>\n",
       "    </tr>\n",
       "    <tr>\n",
       "      <th>75bc9d7758dce369</th>\n",
       "      <td>clexpres</td>\n",
       "      <td>0</td>\n",
       "      <td>RUN</td>\n",
       "      <td>-</td>\n",
       "      <td>NaN</td>\n",
       "      <td>NaN</td>\n",
       "      <td>NaN</td>\n",
       "      <td>Y</td>\n",
       "      <td>Y</td>\n",
       "      <td>Y</td>\n",
       "      <td>1.0</td>\n",
       "      <td>2020-02-07 12:37:12+01:00</td>\n",
       "      <td>../request_logs/cycle_2020-02-06-19-52-28.tar.gz</td>\n",
       "    </tr>\n",
       "    <tr>\n",
       "      <th>75bc9d7758dce369</th>\n",
       "      <td>clexpres</td>\n",
       "      <td>0</td>\n",
       "      <td>RUN</td>\n",
       "      <td>-</td>\n",
       "      <td>NaN</td>\n",
       "      <td>NaN</td>\n",
       "      <td>NaN</td>\n",
       "      <td>Y</td>\n",
       "      <td>Y</td>\n",
       "      <td>Y</td>\n",
       "      <td>1.0</td>\n",
       "      <td>2020-02-07 12:48:39+01:00</td>\n",
       "      <td>../request_logs/cycle_2020-02-06-19-52-28.tar.gz</td>\n",
       "    </tr>\n",
       "    <tr>\n",
       "      <th>75bc9d7758dce369</th>\n",
       "      <td>clexpres</td>\n",
       "      <td>0</td>\n",
       "      <td>RUN</td>\n",
       "      <td>-</td>\n",
       "      <td>NaN</td>\n",
       "      <td>NaN</td>\n",
       "      <td>NaN</td>\n",
       "      <td>Y</td>\n",
       "      <td>Y</td>\n",
       "      <td>Y</td>\n",
       "      <td>1.0</td>\n",
       "      <td>2020-02-07 12:59:22+01:00</td>\n",
       "      <td>../request_logs/cycle_2020-02-06-19-52-28.tar.gz</td>\n",
       "    </tr>\n",
       "    <tr>\n",
       "      <th>75bc9d7758dce369</th>\n",
       "      <td>clexpres</td>\n",
       "      <td>0</td>\n",
       "      <td>RUN</td>\n",
       "      <td>-</td>\n",
       "      <td>NaN</td>\n",
       "      <td>NaN</td>\n",
       "      <td>NaN</td>\n",
       "      <td>Y</td>\n",
       "      <td>Y</td>\n",
       "      <td>Y</td>\n",
       "      <td>1.0</td>\n",
       "      <td>2020-02-07 13:10:07+01:00</td>\n",
       "      <td>../request_logs/cycle_2020-02-06-19-52-28.tar.gz</td>\n",
       "    </tr>\n",
       "    <tr>\n",
       "      <th>75bc9d7758dce369</th>\n",
       "      <td>clexpres</td>\n",
       "      <td>0</td>\n",
       "      <td>RUN</td>\n",
       "      <td>-</td>\n",
       "      <td>NaN</td>\n",
       "      <td>NaN</td>\n",
       "      <td>NaN</td>\n",
       "      <td>Y</td>\n",
       "      <td>Y</td>\n",
       "      <td>Y</td>\n",
       "      <td>1.0</td>\n",
       "      <td>2020-02-07 13:20:53+01:00</td>\n",
       "      <td>../request_logs/cycle_2020-02-06-19-52-28.tar.gz</td>\n",
       "    </tr>\n",
       "    <tr>\n",
       "      <th>75bc9d7758dce369</th>\n",
       "      <td>clexpres</td>\n",
       "      <td>0</td>\n",
       "      <td>RUN</td>\n",
       "      <td>-</td>\n",
       "      <td>NaN</td>\n",
       "      <td>NaN</td>\n",
       "      <td>NaN</td>\n",
       "      <td>Y</td>\n",
       "      <td>Y</td>\n",
       "      <td>Y</td>\n",
       "      <td>1.0</td>\n",
       "      <td>2020-02-07 13:31:43+01:00</td>\n",
       "      <td>../request_logs/cycle_2020-02-06-19-52-28.tar.gz</td>\n",
       "    </tr>\n",
       "    <tr>\n",
       "      <th>75bc9d7758dce369</th>\n",
       "      <td>clexpres</td>\n",
       "      <td>0</td>\n",
       "      <td>RUN</td>\n",
       "      <td>-</td>\n",
       "      <td>NaN</td>\n",
       "      <td>NaN</td>\n",
       "      <td>NaN</td>\n",
       "      <td>Y</td>\n",
       "      <td>Y</td>\n",
       "      <td>Y</td>\n",
       "      <td>1.0</td>\n",
       "      <td>2020-02-07 13:42:43+01:00</td>\n",
       "      <td>../request_logs/cycle_2020-02-06-19-52-28.tar.gz</td>\n",
       "    </tr>\n",
       "  </tbody>\n",
       "</table>\n",
       "</div>"
      ],
      "text/plain": [
       "                     Queue  Pri  STT  S  Memory  CPU  Elapse  R  H  M  Jobs  \\\n",
       "Identifier                                                                    \n",
       "75bc9d7758dce369  clexpres    0  RUN  -     NaN  NaN     NaN  Y  Y  Y   1.0   \n",
       "75bc9d7758dce369  clexpres    0  RUN  -     NaN  NaN     NaN  Y  Y  Y   1.0   \n",
       "75bc9d7758dce369  clexpres    0  RUN  -     NaN  NaN     NaN  Y  Y  Y   1.0   \n",
       "75bc9d7758dce369  clexpres    0  RUN  -     NaN  NaN     NaN  Y  Y  Y   1.0   \n",
       "75bc9d7758dce369  clexpres    0  RUN  -     NaN  NaN     NaN  Y  Y  Y   1.0   \n",
       "75bc9d7758dce369  clexpres    0  RUN  -     NaN  NaN     NaN  Y  Y  Y   1.0   \n",
       "75bc9d7758dce369  clexpres    0  RUN  -     NaN  NaN     NaN  Y  Y  Y   1.0   \n",
       "75bc9d7758dce369  clexpres    0  RUN  -     NaN  NaN     NaN  Y  Y  Y   1.0   \n",
       "75bc9d7758dce369  clexpres    0  RUN  -     NaN  NaN     NaN  Y  Y  Y   1.0   \n",
       "75bc9d7758dce369  clexpres    0  RUN  -     NaN  NaN     NaN  Y  Y  Y   1.0   \n",
       "75bc9d7758dce369  clexpres    0  RUN  -     NaN  NaN     NaN  Y  Y  Y   1.0   \n",
       "75bc9d7758dce369  clexpres    0  RUN  -     NaN  NaN     NaN  Y  Y  Y   1.0   \n",
       "\n",
       "                                      Time  \\\n",
       "Identifier                                   \n",
       "75bc9d7758dce369 2020-02-07 11:43:16+01:00   \n",
       "75bc9d7758dce369 2020-02-07 11:54:09+01:00   \n",
       "75bc9d7758dce369 2020-02-07 12:04:51+01:00   \n",
       "75bc9d7758dce369 2020-02-07 12:15:40+01:00   \n",
       "75bc9d7758dce369 2020-02-07 12:26:27+01:00   \n",
       "75bc9d7758dce369 2020-02-07 12:37:12+01:00   \n",
       "75bc9d7758dce369 2020-02-07 12:48:39+01:00   \n",
       "75bc9d7758dce369 2020-02-07 12:59:22+01:00   \n",
       "75bc9d7758dce369 2020-02-07 13:10:07+01:00   \n",
       "75bc9d7758dce369 2020-02-07 13:20:53+01:00   \n",
       "75bc9d7758dce369 2020-02-07 13:31:43+01:00   \n",
       "75bc9d7758dce369 2020-02-07 13:42:43+01:00   \n",
       "\n",
       "                                                          Filename  \n",
       "Identifier                                                          \n",
       "75bc9d7758dce369  ../request_logs/cycle_2020-02-06-19-52-28.tar.gz  \n",
       "75bc9d7758dce369  ../request_logs/cycle_2020-02-06-19-52-28.tar.gz  \n",
       "75bc9d7758dce369  ../request_logs/cycle_2020-02-06-19-52-28.tar.gz  \n",
       "75bc9d7758dce369  ../request_logs/cycle_2020-02-06-19-52-28.tar.gz  \n",
       "75bc9d7758dce369  ../request_logs/cycle_2020-02-06-19-52-28.tar.gz  \n",
       "75bc9d7758dce369  ../request_logs/cycle_2020-02-06-19-52-28.tar.gz  \n",
       "75bc9d7758dce369  ../request_logs/cycle_2020-02-06-19-52-28.tar.gz  \n",
       "75bc9d7758dce369  ../request_logs/cycle_2020-02-06-19-52-28.tar.gz  \n",
       "75bc9d7758dce369  ../request_logs/cycle_2020-02-06-19-52-28.tar.gz  \n",
       "75bc9d7758dce369  ../request_logs/cycle_2020-02-06-19-52-28.tar.gz  \n",
       "75bc9d7758dce369  ../request_logs/cycle_2020-02-06-19-52-28.tar.gz  \n",
       "75bc9d7758dce369  ../request_logs/cycle_2020-02-06-19-52-28.tar.gz  "
      ]
     },
     "execution_count": 32,
     "metadata": {},
     "output_type": "execute_result"
    }
   ],
   "source": [
    "job_logs_raw.set_index('Identifier').loc[these_identifiers[0]]"
   ]
  },
  {
   "cell_type": "code",
   "execution_count": 33,
   "metadata": {},
   "outputs": [
    {
     "data": {
      "text/plain": [
       "array([1.])"
      ]
     },
     "execution_count": 33,
     "metadata": {},
     "output_type": "execute_result"
    }
   ],
   "source": [
    "job_logs_raw.set_index('Identifier').loc[these_identifiers]['Jobs'].unique()"
   ]
  },
  {
   "cell_type": "code",
   "execution_count": 34,
   "metadata": {},
   "outputs": [
    {
     "data": {
      "text/plain": [
       "array(['clexpres', 'clmedium', 'cllong', 'clbigmem'], dtype=object)"
      ]
     },
     "execution_count": 34,
     "metadata": {},
     "output_type": "execute_result"
    }
   ],
   "source": [
    "job_logs_raw.set_index('Identifier').loc[these_identifiers]['Queue'].unique()"
   ]
  },
  {
   "cell_type": "markdown",
   "metadata": {},
   "source": [
    "## Clean-up raw dataframe now\n",
    "And show what fraction of the original job entries remains after each single operation."
   ]
  },
  {
   "cell_type": "code",
   "execution_count": 35,
   "metadata": {},
   "outputs": [],
   "source": [
    "original_job_log_length = len(job_logs_raw)"
   ]
  },
  {
   "cell_type": "markdown",
   "metadata": {},
   "source": [
    "### Keep only Linux cluster jobs"
   ]
  },
  {
   "cell_type": "code",
   "execution_count": 36,
   "metadata": {},
   "outputs": [
    {
     "data": {
      "text/plain": [
       "array(['clbigmem', 'clfo2', 'cllong', 'clmedium', 'veexpres', 'vequeue',\n",
       "       'clexpres', 'feque', 'veintera', 'clintera', 'cltestqu'],\n",
       "      dtype=object)"
      ]
     },
     "execution_count": 36,
     "metadata": {},
     "output_type": "execute_result"
    }
   ],
   "source": [
    "job_logs_raw['Queue'].unique()"
   ]
  },
  {
   "cell_type": "code",
   "execution_count": 37,
   "metadata": {},
   "outputs": [],
   "source": [
    "keep_these_batch_classes = 'clbigmem|cllong|clmedium|clexpres|feque|clfo2'\n",
    "keep_these_jobs = job_logs_raw.set_index(\"Identifier\")['Queue'].str.contains(keep_these_batch_classes)"
   ]
  },
  {
   "cell_type": "code",
   "execution_count": 38,
   "metadata": {},
   "outputs": [],
   "source": [
    "job_logs_raw = job_logs_raw.set_index('Identifier').loc[keep_these_jobs]\n",
    "job_logs_raw = job_logs_raw.reset_index()"
   ]
  },
  {
   "cell_type": "code",
   "execution_count": 39,
   "metadata": {},
   "outputs": [
    {
     "data": {
      "text/plain": [
       "94.68683256221082"
      ]
     },
     "execution_count": 39,
     "metadata": {},
     "output_type": "execute_result"
    }
   ],
   "source": [
    "100*len(job_logs_raw)/original_job_log_length"
   ]
  },
  {
   "cell_type": "markdown",
   "metadata": {},
   "source": [
    "### Drop the stalled jobs"
   ]
  },
  {
   "cell_type": "code",
   "execution_count": 40,
   "metadata": {},
   "outputs": [],
   "source": [
    "drop_these = job_logs_raw.set_index('S').loc['Y']['Identifier'].unique()"
   ]
  },
  {
   "cell_type": "code",
   "execution_count": 41,
   "metadata": {},
   "outputs": [],
   "source": [
    "job_logs_raw = job_logs_raw.set_index(\"Identifier\").drop(index=drop_these).reset_index()"
   ]
  },
  {
   "cell_type": "code",
   "execution_count": 42,
   "metadata": {},
   "outputs": [
    {
     "data": {
      "text/plain": [
       "94.6742528448168"
      ]
     },
     "execution_count": 42,
     "metadata": {},
     "output_type": "execute_result"
    }
   ],
   "source": [
    "100*len(job_logs_raw)/original_job_log_length"
   ]
  },
  {
   "cell_type": "markdown",
   "metadata": {},
   "source": [
    "### Convert log cycle information\n",
    "This information should be kept for now, too."
   ]
  },
  {
   "cell_type": "code",
   "execution_count": 43,
   "metadata": {},
   "outputs": [],
   "source": [
    "job_logs_raw['Cycle'] = pd.to_datetime('2020-01-01').tz_localize(tz='Europe/Berlin')\n",
    "\n",
    "for filename in job_logs_raw['Filename'].unique():\n",
    "    job_logs_raw['Cycle'].mask(\n",
    "        job_logs_raw['Filename'].str.contains(filename),\n",
    "        pd.to_datetime(filename.split('_')[-1].split('.')[0],\n",
    "           format='%Y-%m-%d-%H-%M-%S').tz_localize(tz='Europe/Berlin'),\n",
    "        inplace=True\n",
    "    )"
   ]
  },
  {
   "cell_type": "code",
   "execution_count": 44,
   "metadata": {},
   "outputs": [],
   "source": [
    "job_logs_raw.drop(columns=['Filename'], inplace=True)"
   ]
  },
  {
   "cell_type": "markdown",
   "metadata": {},
   "source": [
    "### Finally drop also the obsolete columns"
   ]
  },
  {
   "cell_type": "code",
   "execution_count": 45,
   "metadata": {},
   "outputs": [],
   "source": [
    "job_logs_raw.drop(columns=['Pri', 'S', 'R', 'H', 'M'], inplace=True)"
   ]
  },
  {
   "cell_type": "markdown",
   "metadata": {},
   "source": [
    "## Store logs on disk"
   ]
  },
  {
   "cell_type": "code",
   "execution_count": 46,
   "metadata": {},
   "outputs": [],
   "source": [
    "job_logs_raw.to_parquet('job_logs.parquet', index=False, compression='gzip')"
   ]
  },
  {
   "cell_type": "code",
   "execution_count": 47,
   "metadata": {},
   "outputs": [
    {
     "data": {
      "text/html": [
       "<div>\n",
       "<style scoped>\n",
       "    .dataframe tbody tr th:only-of-type {\n",
       "        vertical-align: middle;\n",
       "    }\n",
       "\n",
       "    .dataframe tbody tr th {\n",
       "        vertical-align: top;\n",
       "    }\n",
       "\n",
       "    .dataframe thead th {\n",
       "        text-align: right;\n",
       "    }\n",
       "</style>\n",
       "<table border=\"1\" class=\"dataframe\">\n",
       "  <thead>\n",
       "    <tr style=\"text-align: right;\">\n",
       "      <th></th>\n",
       "      <th>Identifier</th>\n",
       "      <th>Queue</th>\n",
       "      <th>STT</th>\n",
       "      <th>Memory</th>\n",
       "      <th>CPU</th>\n",
       "      <th>Elapse</th>\n",
       "      <th>Jobs</th>\n",
       "      <th>Time</th>\n",
       "      <th>Cycle</th>\n",
       "    </tr>\n",
       "  </thead>\n",
       "  <tbody>\n",
       "    <tr>\n",
       "      <th>0</th>\n",
       "      <td>50f38293dabf53e9</td>\n",
       "      <td>clbigmem</td>\n",
       "      <td>RUN</td>\n",
       "      <td>45.40</td>\n",
       "      <td>10000.86</td>\n",
       "      <td>560223.0</td>\n",
       "      <td>1.0</td>\n",
       "      <td>2020-02-06 19:53:11+01:00</td>\n",
       "      <td>2020-02-06 19:52:28+01:00</td>\n",
       "    </tr>\n",
       "    <tr>\n",
       "      <th>1</th>\n",
       "      <td>1cadd9af115874fc</td>\n",
       "      <td>clbigmem</td>\n",
       "      <td>RUN</td>\n",
       "      <td>66.43</td>\n",
       "      <td>1461501.36</td>\n",
       "      <td>181504.0</td>\n",
       "      <td>1.0</td>\n",
       "      <td>2020-02-06 19:53:11+01:00</td>\n",
       "      <td>2020-02-06 19:52:28+01:00</td>\n",
       "    </tr>\n",
       "    <tr>\n",
       "      <th>2</th>\n",
       "      <td>84b513a49a615a33</td>\n",
       "      <td>clbigmem</td>\n",
       "      <td>RUN</td>\n",
       "      <td>44.20</td>\n",
       "      <td>2973694.55</td>\n",
       "      <td>93235.0</td>\n",
       "      <td>1.0</td>\n",
       "      <td>2020-02-06 19:53:11+01:00</td>\n",
       "      <td>2020-02-06 19:52:28+01:00</td>\n",
       "    </tr>\n",
       "    <tr>\n",
       "      <th>3</th>\n",
       "      <td>817f139219e72642</td>\n",
       "      <td>clbigmem</td>\n",
       "      <td>RUN</td>\n",
       "      <td>2.01</td>\n",
       "      <td>1166604.28</td>\n",
       "      <td>36574.0</td>\n",
       "      <td>3.0</td>\n",
       "      <td>2020-02-06 19:53:11+01:00</td>\n",
       "      <td>2020-02-06 19:52:28+01:00</td>\n",
       "    </tr>\n",
       "    <tr>\n",
       "      <th>4</th>\n",
       "      <td>fc3ffa2fca1e77be</td>\n",
       "      <td>clbigmem</td>\n",
       "      <td>RUN</td>\n",
       "      <td>30.28</td>\n",
       "      <td>138055.86</td>\n",
       "      <td>4353.0</td>\n",
       "      <td>1.0</td>\n",
       "      <td>2020-02-06 19:53:11+01:00</td>\n",
       "      <td>2020-02-06 19:52:28+01:00</td>\n",
       "    </tr>\n",
       "    <tr>\n",
       "      <th>...</th>\n",
       "      <td>...</td>\n",
       "      <td>...</td>\n",
       "      <td>...</td>\n",
       "      <td>...</td>\n",
       "      <td>...</td>\n",
       "      <td>...</td>\n",
       "      <td>...</td>\n",
       "      <td>...</td>\n",
       "      <td>...</td>\n",
       "    </tr>\n",
       "    <tr>\n",
       "      <th>3785545</th>\n",
       "      <td>6cefcc4dd03175f4</td>\n",
       "      <td>clmedium</td>\n",
       "      <td>QUE</td>\n",
       "      <td>0.00</td>\n",
       "      <td>0.00</td>\n",
       "      <td>0.0</td>\n",
       "      <td>1.0</td>\n",
       "      <td>2020-06-04 09:11:32+02:00</td>\n",
       "      <td>2020-04-28 10:32:05+02:00</td>\n",
       "    </tr>\n",
       "    <tr>\n",
       "      <th>3785546</th>\n",
       "      <td>73d229aa76a5ae95</td>\n",
       "      <td>clmedium</td>\n",
       "      <td>QUE</td>\n",
       "      <td>0.00</td>\n",
       "      <td>0.00</td>\n",
       "      <td>0.0</td>\n",
       "      <td>1.0</td>\n",
       "      <td>2020-06-04 09:11:32+02:00</td>\n",
       "      <td>2020-04-28 10:32:05+02:00</td>\n",
       "    </tr>\n",
       "    <tr>\n",
       "      <th>3785547</th>\n",
       "      <td>3e84ada85baccae0</td>\n",
       "      <td>clmedium</td>\n",
       "      <td>QUE</td>\n",
       "      <td>0.00</td>\n",
       "      <td>0.00</td>\n",
       "      <td>0.0</td>\n",
       "      <td>1.0</td>\n",
       "      <td>2020-06-04 09:11:32+02:00</td>\n",
       "      <td>2020-04-28 10:32:05+02:00</td>\n",
       "    </tr>\n",
       "    <tr>\n",
       "      <th>3785548</th>\n",
       "      <td>638fe8e683508cfd</td>\n",
       "      <td>clmedium</td>\n",
       "      <td>QUE</td>\n",
       "      <td>0.00</td>\n",
       "      <td>0.00</td>\n",
       "      <td>0.0</td>\n",
       "      <td>1.0</td>\n",
       "      <td>2020-06-04 09:11:32+02:00</td>\n",
       "      <td>2020-04-28 10:32:05+02:00</td>\n",
       "    </tr>\n",
       "    <tr>\n",
       "      <th>3785549</th>\n",
       "      <td>fb53a1c6a768c160</td>\n",
       "      <td>clmedium</td>\n",
       "      <td>QUE</td>\n",
       "      <td>0.00</td>\n",
       "      <td>0.00</td>\n",
       "      <td>0.0</td>\n",
       "      <td>1.0</td>\n",
       "      <td>2020-06-04 09:11:32+02:00</td>\n",
       "      <td>2020-04-28 10:32:05+02:00</td>\n",
       "    </tr>\n",
       "  </tbody>\n",
       "</table>\n",
       "<p>3785550 rows × 9 columns</p>\n",
       "</div>"
      ],
      "text/plain": [
       "               Identifier     Queue  STT  Memory         CPU    Elapse  Jobs  \\\n",
       "0        50f38293dabf53e9  clbigmem  RUN   45.40    10000.86  560223.0   1.0   \n",
       "1        1cadd9af115874fc  clbigmem  RUN   66.43  1461501.36  181504.0   1.0   \n",
       "2        84b513a49a615a33  clbigmem  RUN   44.20  2973694.55   93235.0   1.0   \n",
       "3        817f139219e72642  clbigmem  RUN    2.01  1166604.28   36574.0   3.0   \n",
       "4        fc3ffa2fca1e77be  clbigmem  RUN   30.28   138055.86    4353.0   1.0   \n",
       "...                   ...       ...  ...     ...         ...       ...   ...   \n",
       "3785545  6cefcc4dd03175f4  clmedium  QUE    0.00        0.00       0.0   1.0   \n",
       "3785546  73d229aa76a5ae95  clmedium  QUE    0.00        0.00       0.0   1.0   \n",
       "3785547  3e84ada85baccae0  clmedium  QUE    0.00        0.00       0.0   1.0   \n",
       "3785548  638fe8e683508cfd  clmedium  QUE    0.00        0.00       0.0   1.0   \n",
       "3785549  fb53a1c6a768c160  clmedium  QUE    0.00        0.00       0.0   1.0   \n",
       "\n",
       "                             Time                     Cycle  \n",
       "0       2020-02-06 19:53:11+01:00 2020-02-06 19:52:28+01:00  \n",
       "1       2020-02-06 19:53:11+01:00 2020-02-06 19:52:28+01:00  \n",
       "2       2020-02-06 19:53:11+01:00 2020-02-06 19:52:28+01:00  \n",
       "3       2020-02-06 19:53:11+01:00 2020-02-06 19:52:28+01:00  \n",
       "4       2020-02-06 19:53:11+01:00 2020-02-06 19:52:28+01:00  \n",
       "...                           ...                       ...  \n",
       "3785545 2020-06-04 09:11:32+02:00 2020-04-28 10:32:05+02:00  \n",
       "3785546 2020-06-04 09:11:32+02:00 2020-04-28 10:32:05+02:00  \n",
       "3785547 2020-06-04 09:11:32+02:00 2020-04-28 10:32:05+02:00  \n",
       "3785548 2020-06-04 09:11:32+02:00 2020-04-28 10:32:05+02:00  \n",
       "3785549 2020-06-04 09:11:32+02:00 2020-04-28 10:32:05+02:00  \n",
       "\n",
       "[3785550 rows x 9 columns]"
      ]
     },
     "execution_count": 47,
     "metadata": {},
     "output_type": "execute_result"
    }
   ],
   "source": [
    "job_logs_raw"
   ]
  },
  {
   "cell_type": "markdown",
   "metadata": {},
   "source": [
    "## Appendix"
   ]
  },
  {
   "cell_type": "code",
   "execution_count": 48,
   "metadata": {},
   "outputs": [
    {
     "name": "stdout",
     "output_type": "stream",
     "text": [
      "# This file may be used to create an environment using:\n",
      "# $ conda create --name <env> --file <this file>\n",
      "# platform: linux-64\n",
      "@EXPLICIT\n",
      "https://conda.anaconda.org/conda-forge/linux-64/_libgcc_mutex-0.1-conda_forge.tar.bz2\n",
      "https://conda.anaconda.org/conda-forge/linux-64/ca-certificates-2020.4.5.1-hecc5488_0.tar.bz2\n",
      "https://conda.anaconda.org/conda-forge/linux-64/ld_impl_linux-64-2.34-h53a641e_0.tar.bz2\n",
      "https://conda.anaconda.org/conda-forge/linux-64/libgfortran-ng-7.3.0-hdf63c60_5.tar.bz2\n",
      "https://conda.anaconda.org/conda-forge/linux-64/libstdcxx-ng-9.2.0-hdf63c60_2.tar.bz2\n",
      "https://conda.anaconda.org/conda-forge/linux-64/llvm-openmp-10.0.0-hc9558a2_0.tar.bz2\n",
      "https://conda.anaconda.org/conda-forge/linux-64/_openmp_mutex-4.5-1_llvm.tar.bz2\n",
      "https://conda.anaconda.org/conda-forge/linux-64/libgcc-ng-9.2.0-h24d8f2e_2.tar.bz2\n",
      "https://conda.anaconda.org/conda-forge/linux-64/abseil-cpp-20200225.2-he1b5a44_0.tar.bz2\n",
      "https://conda.anaconda.org/conda-forge/linux-64/brotli-1.0.7-he1b5a44_1001.tar.bz2\n",
      "https://conda.anaconda.org/conda-forge/linux-64/bzip2-1.0.8-h516909a_2.tar.bz2\n",
      "https://conda.anaconda.org/conda-forge/linux-64/c-ares-1.15.0-h516909a_1001.tar.bz2\n",
      "https://conda.anaconda.org/conda-forge/linux-64/expat-2.2.9-he1b5a44_2.tar.bz2\n",
      "https://conda.anaconda.org/conda-forge/linux-64/gflags-2.2.2-he1b5a44_1002.tar.bz2\n",
      "https://conda.anaconda.org/conda-forge/linux-64/icu-64.2-he1b5a44_1.tar.bz2\n",
      "https://conda.anaconda.org/conda-forge/linux-64/jpeg-9c-h14c3975_1001.tar.bz2\n",
      "https://conda.anaconda.org/conda-forge/linux-64/libffi-3.2.1-he1b5a44_1007.tar.bz2\n",
      "https://conda.anaconda.org/conda-forge/linux-64/libiconv-1.15-h516909a_1006.tar.bz2\n",
      "https://conda.anaconda.org/conda-forge/linux-64/libopenblas-0.3.9-h5ec1e0e_0.tar.bz2\n",
      "https://conda.anaconda.org/conda-forge/linux-64/libsodium-1.0.17-h516909a_0.tar.bz2\n",
      "https://conda.anaconda.org/conda-forge/linux-64/libuuid-2.32.1-h14c3975_1000.tar.bz2\n",
      "https://conda.anaconda.org/conda-forge/linux-64/libxkbcommon-0.10.0-he1b5a44_0.tar.bz2\n",
      "https://conda.anaconda.org/conda-forge/linux-64/lz4-c-1.9.2-he1b5a44_1.tar.bz2\n",
      "https://conda.anaconda.org/conda-forge/linux-64/ncurses-6.1-hf484d3e_1002.tar.bz2\n",
      "https://conda.anaconda.org/conda-forge/linux-64/nspr-4.25-he1b5a44_0.tar.bz2\n",
      "https://conda.anaconda.org/conda-forge/linux-64/openssl-1.1.1g-h516909a_0.tar.bz2\n",
      "https://conda.anaconda.org/conda-forge/linux-64/pcre-8.44-he1b5a44_0.tar.bz2\n",
      "https://conda.anaconda.org/conda-forge/linux-64/pthread-stubs-0.4-h14c3975_1001.tar.bz2\n",
      "https://conda.anaconda.org/conda-forge/linux-64/re2-2020.05.01-he1b5a44_0.tar.bz2\n",
      "https://conda.anaconda.org/conda-forge/linux-64/snappy-1.1.8-he1b5a44_1.tar.bz2\n",
      "https://conda.anaconda.org/conda-forge/linux-64/xorg-libxau-1.0.9-h14c3975_0.tar.bz2\n",
      "https://conda.anaconda.org/conda-forge/linux-64/xorg-libxdmcp-1.1.3-h516909a_0.tar.bz2\n",
      "https://conda.anaconda.org/conda-forge/linux-64/xz-5.2.5-h516909a_0.tar.bz2\n",
      "https://conda.anaconda.org/conda-forge/linux-64/zlib-1.2.11-h516909a_1006.tar.bz2\n",
      "https://conda.anaconda.org/conda-forge/linux-64/boost-cpp-1.72.0-h8e57a91_0.tar.bz2\n",
      "https://conda.anaconda.org/conda-forge/linux-64/gettext-0.19.8.1-hc5be6a0_1002.tar.bz2\n",
      "https://conda.anaconda.org/conda-forge/linux-64/glog-0.4.0-h49b9bf7_3.tar.bz2\n",
      "https://conda.anaconda.org/conda-forge/linux-64/libblas-3.8.0-16_openblas.tar.bz2\n",
      "https://conda.anaconda.org/conda-forge/linux-64/libedit-3.1.20170329-hf8c457e_1001.tar.bz2\n",
      "https://conda.anaconda.org/conda-forge/linux-64/libevent-2.1.10-h72c5cf5_0.tar.bz2\n",
      "https://conda.anaconda.org/conda-forge/linux-64/libllvm9-9.0.1-he513fc3_1.tar.bz2\n",
      "https://conda.anaconda.org/conda-forge/linux-64/libpng-1.6.37-hed695b0_1.tar.bz2\n",
      "https://conda.anaconda.org/conda-forge/linux-64/libprotobuf-3.11.4-h8b12597_0.tar.bz2\n",
      "https://conda.anaconda.org/conda-forge/linux-64/libssh2-1.8.2-h22169c7_2.tar.bz2\n",
      "https://conda.anaconda.org/conda-forge/linux-64/libxcb-1.13-h14c3975_1002.tar.bz2\n",
      "https://conda.anaconda.org/conda-forge/linux-64/libxml2-2.9.10-hee79883_0.tar.bz2\n",
      "https://conda.anaconda.org/conda-forge/linux-64/readline-8.0-hf8c457e_0.tar.bz2\n",
      "https://conda.anaconda.org/conda-forge/linux-64/tk-8.6.10-hed695b0_0.tar.bz2\n",
      "https://conda.anaconda.org/conda-forge/linux-64/zeromq-4.3.2-he1b5a44_2.tar.bz2\n",
      "https://conda.anaconda.org/conda-forge/linux-64/zstd-1.4.4-h6597ccf_3.tar.bz2\n",
      "https://conda.anaconda.org/conda-forge/linux-64/freetype-2.10.1-he06d7ca_0.tar.bz2\n",
      "https://conda.anaconda.org/conda-forge/linux-64/grpc-cpp-1.28.1-h8e748ff_2.tar.bz2\n",
      "https://conda.anaconda.org/conda-forge/linux-64/krb5-1.17.1-h2fd8d38_0.tar.bz2\n",
      "https://conda.anaconda.org/conda-forge/linux-64/libcblas-3.8.0-16_openblas.tar.bz2\n",
      "https://conda.anaconda.org/conda-forge/linux-64/libclang-9.0.1-default_hde54327_0.tar.bz2\n",
      "https://conda.anaconda.org/conda-forge/linux-64/liblapack-3.8.0-16_openblas.tar.bz2\n",
      "https://conda.anaconda.org/conda-forge/linux-64/sqlite-3.30.1-hcee41ef_0.tar.bz2\n",
      "https://conda.anaconda.org/conda-forge/linux-64/thrift-cpp-0.13.0-h62aa4f2_2.tar.bz2\n",
      "https://conda.anaconda.org/conda-forge/linux-64/fontconfig-2.13.1-h86ecdb6_1001.tar.bz2\n",
      "https://conda.anaconda.org/conda-forge/linux-64/libcurl-7.69.1-hf7181ac_0.tar.bz2\n",
      "https://conda.anaconda.org/conda-forge/linux-64/nss-3.47-he751ad9_0.tar.bz2\n",
      "https://conda.anaconda.org/conda-forge/linux-64/python-3.8.2-he5300dc_7_cpython.tar.bz2\n",
      "https://conda.anaconda.org/conda-forge/noarch/backcall-0.1.0-py_0.tar.bz2\n",
      "https://conda.anaconda.org/conda-forge/linux-64/curl-7.69.1-h33f0ec9_0.tar.bz2\n",
      "https://conda.anaconda.org/conda-forge/noarch/decorator-4.4.2-py_0.tar.bz2\n",
      "https://conda.anaconda.org/conda-forge/linux-64/glib-2.64.2-h6f030ca_0.tar.bz2\n",
      "https://conda.anaconda.org/conda-forge/noarch/ipython_genutils-0.2.0-py_1.tar.bz2\n",
      "https://conda.anaconda.org/conda-forge/noarch/parso-0.7.0-pyh9f0ad1d_0.tar.bz2\n",
      "https://conda.anaconda.org/conda-forge/noarch/ptyprocess-0.6.0-py_1001.tar.bz2\n",
      "https://conda.anaconda.org/conda-forge/noarch/pyparsing-2.4.7-pyh9f0ad1d_0.tar.bz2\n",
      "https://conda.anaconda.org/conda-forge/linux-64/python_abi-3.8-1_cp38.tar.bz2\n",
      "https://conda.anaconda.org/conda-forge/noarch/pytz-2020.1-pyh9f0ad1d_0.tar.bz2\n",
      "https://conda.anaconda.org/conda-forge/noarch/six-1.14.0-py_1.tar.bz2\n",
      "https://conda.anaconda.org/conda-forge/noarch/wcwidth-0.1.9-pyh9f0ad1d_0.tar.bz2\n",
      "https://conda.anaconda.org/conda-forge/linux-64/aws-sdk-cpp-1.7.164-hc831370_1.tar.bz2\n",
      "https://conda.anaconda.org/conda-forge/linux-64/certifi-2020.4.5.1-py38h32f6830_0.tar.bz2\n",
      "https://conda.anaconda.org/conda-forge/noarch/cycler-0.10.0-py_2.tar.bz2\n",
      "https://conda.anaconda.org/conda-forge/linux-64/dbus-1.13.6-he372182_0.tar.bz2\n",
      "https://conda.anaconda.org/conda-forge/linux-64/entrypoints-0.3-py38h32f6830_1001.tar.bz2\n",
      "https://conda.anaconda.org/conda-forge/linux-64/gstreamer-1.14.5-h36ae1b5_2.tar.bz2\n",
      "https://conda.anaconda.org/conda-forge/linux-64/jedi-0.17.0-py38h32f6830_0.tar.bz2\n",
      "https://conda.anaconda.org/conda-forge/linux-64/kiwisolver-1.2.0-py38hbf85e49_0.tar.bz2\n",
      "https://conda.anaconda.org/conda-forge/linux-64/numpy-1.18.4-py38h8854b6b_0.tar.bz2\n",
      "https://conda.anaconda.org/conda-forge/linux-64/pexpect-4.8.0-py38h32f6830_1.tar.bz2\n",
      "https://conda.anaconda.org/conda-forge/linux-64/pickleshare-0.7.5-py38h32f6830_1001.tar.bz2\n",
      "https://conda.anaconda.org/conda-forge/noarch/python-dateutil-2.8.1-py_0.tar.bz2\n",
      "https://conda.anaconda.org/conda-forge/linux-64/pyzmq-19.0.1-py38ha71036d_0.tar.bz2\n",
      "https://conda.anaconda.org/conda-forge/linux-64/tornado-6.0.4-py38h1e0a361_1.tar.bz2\n",
      "https://conda.anaconda.org/conda-forge/linux-64/traitlets-4.3.3-py38h32f6830_1.tar.bz2\n",
      "https://conda.anaconda.org/conda-forge/linux-64/arrow-cpp-0.17.0-py38h9d6855f_0.tar.bz2\n",
      "https://conda.anaconda.org/conda-forge/linux-64/gst-plugins-base-1.14.5-h0935bb2_2.tar.bz2\n",
      "https://conda.anaconda.org/conda-forge/linux-64/jupyter_core-4.6.3-py38h32f6830_1.tar.bz2\n",
      "https://conda.anaconda.org/conda-forge/linux-64/pandas-1.0.3-py38hcb8c335_1.tar.bz2\n",
      "https://conda.anaconda.org/conda-forge/linux-64/setuptools-46.3.0-py38h32f6830_0.tar.bz2\n",
      "https://conda.anaconda.org/conda-forge/noarch/jupyter_client-6.1.3-py_0.tar.bz2\n",
      "https://conda.anaconda.org/conda-forge/linux-64/matplotlib-base-3.2.1-py38h2af1d28_0.tar.bz2\n",
      "https://conda.anaconda.org/conda-forge/noarch/parquet-cpp-1.5.1-2.tar.bz2\n",
      "https://conda.anaconda.org/conda-forge/noarch/pygments-2.6.1-py_0.tar.bz2\n",
      "https://conda.anaconda.org/conda-forge/linux-64/qt-5.12.5-hd8c4c69_1.tar.bz2\n",
      "https://conda.anaconda.org/conda-forge/noarch/wheel-0.34.2-py_1.tar.bz2\n",
      "https://conda.anaconda.org/conda-forge/noarch/pip-20.1-pyh9f0ad1d_0.tar.bz2\n",
      "https://conda.anaconda.org/conda-forge/noarch/prompt-toolkit-3.0.5-py_0.tar.bz2\n",
      "https://conda.anaconda.org/conda-forge/linux-64/pyarrow-0.17.0-py38h56ab25f_0.tar.bz2\n",
      "https://conda.anaconda.org/conda-forge/linux-64/pyqt-5.12.3-py38ha8c2ead_3.tar.bz2\n",
      "https://conda.anaconda.org/conda-forge/linux-64/ipython-7.14.0-py38h32f6830_0.tar.bz2\n",
      "https://conda.anaconda.org/conda-forge/linux-64/matplotlib-3.2.1-0.tar.bz2\n",
      "https://conda.anaconda.org/conda-forge/linux-64/ipykernel-5.2.1-py38h23f93f0_0.tar.bz2\n"
     ]
    }
   ],
   "source": [
    "!conda list --explicit"
   ]
  }
 ],
 "metadata": {
  "kernelspec": {
   "display_name": "Python [conda env:analysis]",
   "language": "python",
   "name": "conda-env-analysis-py"
  },
  "language_info": {
   "codemirror_mode": {
    "name": "ipython",
    "version": 3
   },
   "file_extension": ".py",
   "mimetype": "text/x-python",
   "name": "python",
   "nbconvert_exporter": "python",
   "pygments_lexer": "ipython3",
   "version": "3.8.2"
  }
 },
 "nbformat": 4,
 "nbformat_minor": 4
}
