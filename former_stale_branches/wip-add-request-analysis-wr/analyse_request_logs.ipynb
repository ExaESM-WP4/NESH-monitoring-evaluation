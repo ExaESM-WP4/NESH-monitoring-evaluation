{
 "cells": [
  {
   "cell_type": "code",
   "execution_count": 1,
   "metadata": {},
   "outputs": [],
   "source": [
    "import glob\n",
    "import tarfile\n",
    "import pandas as pd\n",
    "import datetime\n",
    "import matplotlib.pyplot as plt"
   ]
  },
  {
   "cell_type": "code",
   "execution_count": 2,
   "metadata": {},
   "outputs": [],
   "source": [
    "def read_request_logs(folder, files):\n",
    "    \n",
    "    def process_tar_archive(tar_file_name):\n",
    "        \"\"\"Read logs from tar archive and assign timestamp to each row by doing file name conversion.\"\"\"\n",
    "        with tarfile.open(tar_file_name,'r') as tar:\n",
    "            tar_log_files = tar.getnames()\n",
    "            df = pd.concat(\n",
    "                [\n",
    "                    pd.read_csv(tar.extractfile(log), parse_dates=True)\n",
    "                    for log in tar_log_files\n",
    "                ]\n",
    "            )\n",
    "        return df\n",
    "    \n",
    "    # Obtain archive file names.\n",
    "    \n",
    "    tar_files = glob.glob(folder+files)\n",
    "    tar_files.sort() # Not mandatory.\n",
    "    \n",
    "    # Read logs and assign timestamp to each row by doing file name conversion.\n",
    "    \n",
    "    df = pd.concat([process_tar_archive(tar_file) for tar_file in tar_files], sort=False)\n",
    "    \n",
    "    for col in filter(lambda s: \"S\" != s, df.columns):\n",
    "        df = df.where(df[col] != '-').dropna()\n",
    "        \n",
    "    df = df.reset_index()\n",
    "    \n",
    "    return df"
   ]
  },
  {
   "cell_type": "code",
   "execution_count": 3,
   "metadata": {},
   "outputs": [
    {
     "name": "stderr",
     "output_type": "stream",
     "text": [
      "/Users/wrath/miniconda3/envs/nesh-monitoring/lib/python3.7/site-packages/pandas/core/ops/array_ops.py:253: FutureWarning: elementwise comparison failed; returning scalar instead, but in the future will perform elementwise comparison\n",
      "  res_values = method(rvalues)\n"
     ]
    }
   ],
   "source": [
    "df = read_request_logs(\"request_logs/\", \"*.tar.gz\")"
   ]
  },
  {
   "cell_type": "code",
   "execution_count": 5,
   "metadata": {},
   "outputs": [
    {
     "data": {
      "text/plain": [
       "Time                        Identifier      \n",
       "2020-02-06 19:53:10.870544  01a2d1c90f755bb6    1\n",
       "                            033a31e6d249f4dd    1\n",
       "                            0370bb67c954f194    1\n",
       "                            046c2603d1d29c71    6\n",
       "                            0478207e7bb58efc    1\n",
       "                                               ..\n",
       "2020-03-03 11:10:32.432433  fc613da52a78e6a9    1\n",
       "                            fcb456de189eb32a    1\n",
       "                            fed9f8a835553808    1\n",
       "                            ff09dee8306f3da2    4\n",
       "                            ffa728f0484b5753    1\n",
       "Name: Jobs, Length: 1566200, dtype: object"
      ]
     },
     "execution_count": 5,
     "metadata": {},
     "output_type": "execute_result"
    }
   ],
   "source": [
    "df.groupby([\"Time\", \"Identifier\"])[\"Jobs\"].sum()"
   ]
  },
  {
   "cell_type": "code",
   "execution_count": null,
   "metadata": {},
   "outputs": [],
   "source": [
    "!conda list --explicit"
   ]
  }
 ],
 "metadata": {
  "kernelspec": {
   "display_name": "Python [conda env:nesh-monitoring]",
   "language": "python",
   "name": "conda-env-nesh-monitoring-py"
  },
  "language_info": {
   "codemirror_mode": {
    "name": "ipython",
    "version": 3
   },
   "file_extension": ".py",
   "mimetype": "text/x-python",
   "name": "python",
   "nbconvert_exporter": "python",
   "pygments_lexer": "ipython3",
   "version": "3.7.6"
  }
 },
 "nbformat": 4,
 "nbformat_minor": 4
}
