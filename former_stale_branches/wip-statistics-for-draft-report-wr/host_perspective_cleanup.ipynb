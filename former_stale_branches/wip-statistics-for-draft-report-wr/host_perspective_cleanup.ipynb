{
 "cells": [
  {
   "cell_type": "markdown",
   "metadata": {},
   "source": [
    "# Host perspective: clean logs"
   ]
  },
  {
   "cell_type": "code",
   "execution_count": 1,
   "metadata": {},
   "outputs": [],
   "source": [
    "from pathlib import Path"
   ]
  },
  {
   "cell_type": "code",
   "execution_count": 2,
   "metadata": {},
   "outputs": [],
   "source": [
    "import pandas as pd\n",
    "import matplotlib.pyplot as plt\n",
    "import numpy as np"
   ]
  },
  {
   "cell_type": "code",
   "execution_count": 3,
   "metadata": {},
   "outputs": [],
   "source": [
    "pd.set_option('display.max_rows', 4)"
   ]
  },
  {
   "cell_type": "code",
   "execution_count": 4,
   "metadata": {},
   "outputs": [],
   "source": [
    "import sys\n",
    "sys.path.append(\"..\")\n",
    "\n",
    "from tools import read_host_logs"
   ]
  },
  {
   "cell_type": "markdown",
   "metadata": {},
   "source": [
    "## Parameters"
   ]
  },
  {
   "cell_type": "code",
   "execution_count": 5,
   "metadata": {},
   "outputs": [],
   "source": [
    "#parameters\n",
    "tmp_data_path = \"../tmp_data/\""
   ]
  },
  {
   "cell_type": "markdown",
   "metadata": {},
   "source": [
    "## Set up output data dir"
   ]
  },
  {
   "cell_type": "code",
   "execution_count": 6,
   "metadata": {},
   "outputs": [],
   "source": [
    "tmp_data_path = Path(tmp_data_path)\n",
    "!mkdir -pv {str(tmp_data_path)}"
   ]
  },
  {
   "cell_type": "markdown",
   "metadata": {},
   "source": [
    "## Read log files"
   ]
  },
  {
   "cell_type": "code",
   "execution_count": 7,
   "metadata": {},
   "outputs": [
    {
     "data": {
      "text/html": [
       "<div>\n",
       "<style scoped>\n",
       "    .dataframe tbody tr th:only-of-type {\n",
       "        vertical-align: middle;\n",
       "    }\n",
       "\n",
       "    .dataframe tbody tr th {\n",
       "        vertical-align: top;\n",
       "    }\n",
       "\n",
       "    .dataframe thead th {\n",
       "        text-align: right;\n",
       "    }\n",
       "</style>\n",
       "<table border=\"1\" class=\"dataframe\">\n",
       "  <thead>\n",
       "    <tr style=\"text-align: right;\">\n",
       "      <th></th>\n",
       "      <th>Free_CPUs</th>\n",
       "      <th>Free_Mem1</th>\n",
       "      <th>Used_CPUs</th>\n",
       "      <th>Cpu</th>\n",
       "      <th>Used_Mem1</th>\n",
       "      <th>ExecutionHost</th>\n",
       "      <th>QueueName</th>\n",
       "      <th>Free_Swap1</th>\n",
       "      <th>Used_Swap1</th>\n",
       "      <th>Load</th>\n",
       "    </tr>\n",
       "    <tr>\n",
       "      <th>Date</th>\n",
       "      <th></th>\n",
       "      <th></th>\n",
       "      <th></th>\n",
       "      <th></th>\n",
       "      <th></th>\n",
       "      <th></th>\n",
       "      <th></th>\n",
       "      <th></th>\n",
       "      <th></th>\n",
       "      <th></th>\n",
       "    </tr>\n",
       "  </thead>\n",
       "  <tbody>\n",
       "    <tr>\n",
       "      <th>2020-01-12 18:17:31</th>\n",
       "      <td>0</td>\n",
       "      <td>349.402344</td>\n",
       "      <td>32</td>\n",
       "      <td>32.0</td>\n",
       "      <td>33.308594</td>\n",
       "      <td>neshcl218</td>\n",
       "      <td>clbigmem</td>\n",
       "      <td>NaN</td>\n",
       "      <td>NaN</td>\n",
       "      <td>NaN</td>\n",
       "    </tr>\n",
       "    <tr>\n",
       "      <th>2020-01-12 18:17:31</th>\n",
       "      <td>0</td>\n",
       "      <td>302.101562</td>\n",
       "      <td>32</td>\n",
       "      <td>32.0</td>\n",
       "      <td>80.609375</td>\n",
       "      <td>neshcl219</td>\n",
       "      <td>clbigmem</td>\n",
       "      <td>NaN</td>\n",
       "      <td>NaN</td>\n",
       "      <td>NaN</td>\n",
       "    </tr>\n",
       "    <tr>\n",
       "      <th>...</th>\n",
       "      <td>...</td>\n",
       "      <td>...</td>\n",
       "      <td>...</td>\n",
       "      <td>...</td>\n",
       "      <td>...</td>\n",
       "      <td>...</td>\n",
       "      <td>...</td>\n",
       "      <td>...</td>\n",
       "      <td>...</td>\n",
       "      <td>...</td>\n",
       "    </tr>\n",
       "    <tr>\n",
       "      <th>2020-04-07 09:53:57</th>\n",
       "      <td>47</td>\n",
       "      <td>5.773438</td>\n",
       "      <td>1</td>\n",
       "      <td>0.0</td>\n",
       "      <td>184.894531</td>\n",
       "      <td>neshve06</td>\n",
       "      <td>bmtest,veexpress,vequeue,veinteractive</td>\n",
       "      <td>3.378906</td>\n",
       "      <td>0.617188</td>\n",
       "      <td>16.0</td>\n",
       "    </tr>\n",
       "    <tr>\n",
       "      <th>2020-04-07 09:53:57</th>\n",
       "      <td>47</td>\n",
       "      <td>6.820312</td>\n",
       "      <td>1</td>\n",
       "      <td>0.0</td>\n",
       "      <td>183.847656</td>\n",
       "      <td>neshve07</td>\n",
       "      <td>bmtest,veexpress,vequeue,veinteractive</td>\n",
       "      <td>3.812500</td>\n",
       "      <td>0.183594</td>\n",
       "      <td>16.1</td>\n",
       "    </tr>\n",
       "  </tbody>\n",
       "</table>\n",
       "<p>2320023 rows × 10 columns</p>\n",
       "</div>"
      ],
      "text/plain": [
       "                     Free_CPUs   Free_Mem1  Used_CPUs   Cpu   Used_Mem1  \\\n",
       "Date                                                                      \n",
       "2020-01-12 18:17:31          0  349.402344         32  32.0   33.308594   \n",
       "2020-01-12 18:17:31          0  302.101562         32  32.0   80.609375   \n",
       "...                        ...         ...        ...   ...         ...   \n",
       "2020-04-07 09:53:57         47    5.773438          1   0.0  184.894531   \n",
       "2020-04-07 09:53:57         47    6.820312          1   0.0  183.847656   \n",
       "\n",
       "                    ExecutionHost                               QueueName  \\\n",
       "Date                                                                        \n",
       "2020-01-12 18:17:31     neshcl218                                clbigmem   \n",
       "2020-01-12 18:17:31     neshcl219                                clbigmem   \n",
       "...                           ...                                     ...   \n",
       "2020-04-07 09:53:57      neshve06  bmtest,veexpress,vequeue,veinteractive   \n",
       "2020-04-07 09:53:57      neshve07  bmtest,veexpress,vequeue,veinteractive   \n",
       "\n",
       "                     Free_Swap1  Used_Swap1  Load  \n",
       "Date                                               \n",
       "2020-01-12 18:17:31         NaN         NaN   NaN  \n",
       "2020-01-12 18:17:31         NaN         NaN   NaN  \n",
       "...                         ...         ...   ...  \n",
       "2020-04-07 09:53:57    3.378906    0.617188  16.0  \n",
       "2020-04-07 09:53:57    3.812500    0.183594  16.1  \n",
       "\n",
       "[2320023 rows x 10 columns]"
      ]
     },
     "metadata": {},
     "output_type": "display_data"
    },
    {
     "name": "stdout",
     "output_type": "stream",
     "text": [
      "CPU times: user 42 s, sys: 2.05 s, total: 44 s\n",
      "Wall time: 44.2 s\n"
     ]
    }
   ],
   "source": [
    "%%time\n",
    "\n",
    "raw_host_logs = read_host_logs('../host_logs/', '*.tar.gz')\n",
    "display(raw_host_logs)"
   ]
  },
  {
   "cell_type": "markdown",
   "metadata": {},
   "source": [
    "## Keep only login and batch production nodes\n",
    "\n",
    "Drop the `ve*` vector, and the experimental `cltestque` and `clinteractive` only nodes."
   ]
  },
  {
   "cell_type": "code",
   "execution_count": 8,
   "metadata": {},
   "outputs": [
    {
     "data": {
      "text/plain": [
       "array(['clbigmem', 'clmedium', 'clmedium,cltestque', 'cllong', 'clfo2',\n",
       "       'clexpress', 'cltestque,clinteractive', 'cltestque',\n",
       "       'bmtest,veexpress,vequeue,veinteractive', 'nan', 'feque',\n",
       "       'bmtest,veexpress,vequeueb,veinteractive', 'cltestque,clmedium'],\n",
       "      dtype=object)"
      ]
     },
     "metadata": {},
     "output_type": "display_data"
    }
   ],
   "source": [
    "display(raw_host_logs[\"QueueName\"].unique())"
   ]
  },
  {
   "cell_type": "code",
   "execution_count": 9,
   "metadata": {},
   "outputs": [
    {
     "data": {
      "text/plain": [
       "array(['neshcl218', 'neshcl219', 'neshcl220', 'neshcl221', 'neshcl222',\n",
       "       'neshcl223', 'neshcl228', 'neshcl229', 'neshcl233', 'neshcl234',\n",
       "       'neshcl235', 'neshcl236', 'neshcl237', 'neshcl238', 'neshcl239',\n",
       "       'neshcl242', 'neshcl243', 'neshcl244', 'neshcl245', 'neshcl247',\n",
       "       'neshcl248', 'neshcl251', 'neshcl254', 'neshcl258', 'neshcl259',\n",
       "       'neshcl262', 'neshcl263', 'neshcl264', 'neshcl267', 'neshcl270',\n",
       "       'neshcl271', 'neshcl272', 'neshcl273', 'neshcl274', 'neshcl275',\n",
       "       'neshcl276', 'neshcl277', 'neshcl278', 'neshcl279', 'neshcl281',\n",
       "       'neshcl283', 'neshcl284', 'neshcl285', 'neshcl288', 'neshcl291',\n",
       "       'neshcl295', 'neshcl296', 'neshcl297', 'neshcl298', 'neshcl301',\n",
       "       'neshcl302', 'neshcl303', 'neshcl304', 'neshcl306', 'neshcl307',\n",
       "       'neshcl308', 'neshcl309', 'neshcl311', 'neshcl313', 'neshcl314',\n",
       "       'neshcl315', 'neshcl316', 'neshcl317', 'neshcl319', 'neshcl320',\n",
       "       'neshcl321', 'neshcl322', 'neshcl323', 'neshcl325', 'neshcl326',\n",
       "       'neshcl327', 'neshcl328', 'neshcl331', 'neshcl332', 'neshcl334',\n",
       "       'neshcl335', 'neshcl336', 'neshcl337', 'neshcl340', 'neshcl344',\n",
       "       'neshcl345', 'neshcl347', 'neshcl348', 'neshcl350', 'neshcl353',\n",
       "       'neshcl354', 'neshcl357', 'neshcl359', 'neshcl361', 'neshcl363',\n",
       "       'neshcl365', 'neshcl366', 'neshcl368', 'neshcl370', 'neshcl371',\n",
       "       'neshcl373', 'neshcl374', 'neshcl377', 'neshcl380', 'neshcl381',\n",
       "       'neshcl383', 'neshcl384', 'neshcl385', 'neshcl386', 'neshcl387',\n",
       "       'neshcl388', 'neshcl390', 'neshcl392', 'neshcl393', 'neshcl396',\n",
       "       'neshcl397', 'neshcl266', 'neshcl203', 'neshcl200', 'neshcl201',\n",
       "       'neshcl206', 'neshcl207', 'neshcl209', 'neshcl211', 'neshcl213',\n",
       "       'neshcl214', 'neshcl215', 'neshcl216', 'neshcl246', 'neshcl255',\n",
       "       'neshcl241', 'neshcl339', 'neshcl232', 'neshcl318', 'neshcl379',\n",
       "       'neshcl372', 'neshcl250', 'neshcl360', 'neshcl287', 'neshcl292',\n",
       "       'neshcl349', 'neshcl252', 'neshcl253', 'neshcl257', 'neshcl260',\n",
       "       'neshcl261', 'neshcl268', 'neshcl280', 'neshcl282', 'neshcl286',\n",
       "       'neshcl293', 'neshcl294', 'neshcl300', 'neshcl305', 'neshcl312',\n",
       "       'neshcl338', 'neshcl352', 'neshcl355', 'neshcl356', 'neshcl358',\n",
       "       'neshcl362', 'neshcl367', 'neshcl375', 'neshcl394', 'neshcl249',\n",
       "       'neshcl351', 'neshcl289', 'neshcl341', 'neshcl369', 'neshcl382',\n",
       "       'neshcl389', 'neshcl290', 'neshcl299', 'neshcl230', 'neshcl310',\n",
       "       'neshcl202', 'neshcl204', 'neshcl208', 'neshcl210', 'neshcl212',\n",
       "       'neshcl217', 'neshcl224', 'neshcl395', 'neshcl225', 'neshcl364',\n",
       "       'neshcl376', 'neshcl378', 'neshcl226', 'neshcl227', 'neshcl231',\n",
       "       'neshcl240', 'neshcl265', 'neshcl269', 'neshcl329', 'neshcl330',\n",
       "       'neshcl333', 'neshcl342', 'neshcl343', 'neshcl346', 'neshve00',\n",
       "       'neshve01', 'neshve02', 'neshve03', 'neshve04', 'neshve05',\n",
       "       'neshve06', 'neshve07', 'nesh-fe2-adm', 'nesh-fe1-adm',\n",
       "       'nesh-fe3-adm', 'nesh-fe0-adm'], dtype=object)"
      ]
     },
     "metadata": {},
     "output_type": "display_data"
    }
   ],
   "source": [
    "display(raw_host_logs[\"ExecutionHost\"].unique())"
   ]
  },
  {
   "cell_type": "code",
   "execution_count": 10,
   "metadata": {},
   "outputs": [],
   "source": [
    "# Identify batch production nodes.\n",
    "keep_these_batch_classes = 'clbigmem|clmedium|cllong|clfo2|clexpress|feque'\n",
    "mask_by_batch_class = raw_host_logs['QueueName'].str.contains(keep_these_batch_classes)"
   ]
  },
  {
   "cell_type": "code",
   "execution_count": 11,
   "metadata": {},
   "outputs": [],
   "source": [
    "# Identify login nodes.\n",
    "keep_these_hosts = 'nesh-fe2-adm|nesh-fe1-adm|nesh-fe3-adm|nesh-fe0-adm'\n",
    "mask_by_host = raw_host_logs['ExecutionHost'].str.contains(keep_these_hosts)"
   ]
  },
  {
   "cell_type": "code",
   "execution_count": 12,
   "metadata": {},
   "outputs": [],
   "source": [
    "host_logs = raw_host_logs[ mask_by_batch_class | mask_by_host ]"
   ]
  },
  {
   "cell_type": "markdown",
   "metadata": {},
   "source": [
    "Note to myself: Always select rows via `.str.contains()` and not via `.isin()`. The latter is an equivalence method and nodes allocated to more than one batch class, e.g. `clmedium,cltestque` will be omitted."
   ]
  },
  {
   "cell_type": "code",
   "execution_count": 13,
   "metadata": {},
   "outputs": [
    {
     "name": "stdout",
     "output_type": "stream",
     "text": [
      "dropped 113402 rows\n"
     ]
    }
   ],
   "source": [
    "print(f\"dropped {len(raw_host_logs) - len(host_logs)} rows\")"
   ]
  },
  {
   "cell_type": "code",
   "execution_count": 14,
   "metadata": {},
   "outputs": [
    {
     "name": "stdout",
     "output_type": "stream",
     "text": [
      "eliminated thte following QueueNames:\n"
     ]
    },
    {
     "data": {
      "text/plain": [
       "{'bmtest,veexpress,vequeue,veinteractive',\n",
       " 'bmtest,veexpress,vequeueb,veinteractive',\n",
       " 'cltestque',\n",
       " 'cltestque,clinteractive'}"
      ]
     },
     "metadata": {},
     "output_type": "display_data"
    }
   ],
   "source": [
    "print(\"eliminated thte following QueueNames:\")\n",
    "display(set(raw_host_logs[\"QueueName\"]) - set(host_logs[\"QueueName\"]))"
   ]
  },
  {
   "cell_type": "code",
   "execution_count": 15,
   "metadata": {},
   "outputs": [
    {
     "name": "stdout",
     "output_type": "stream",
     "text": [
      "eliminated the following ExecutionsHosts:\n"
     ]
    },
    {
     "data": {
      "text/plain": [
       "{'neshcl342',\n",
       " 'neshve00',\n",
       " 'neshve01',\n",
       " 'neshve02',\n",
       " 'neshve03',\n",
       " 'neshve04',\n",
       " 'neshve05',\n",
       " 'neshve06',\n",
       " 'neshve07'}"
      ]
     },
     "metadata": {},
     "output_type": "display_data"
    }
   ],
   "source": [
    "print(\"eliminated the following ExecutionsHosts:\")\n",
    "display(set(raw_host_logs[\"ExecutionHost\"]) - set(host_logs[\"ExecutionHost\"]))"
   ]
  },
  {
   "cell_type": "markdown",
   "metadata": {},
   "source": [
    "## Fix column names for front ends\n",
    "\n",
    "Something is wrong with memory log entries for the login nodes. Unfortunately, the `qstat` tool is not documented well enough and the code not available. For the analysis presented here, we swap `Free_Mem1` and `Used_Mem1` for the `nesh-fe?` nodes."
   ]
  },
  {
   "cell_type": "code",
   "execution_count": 16,
   "metadata": {},
   "outputs": [
    {
     "data": {
      "image/png": "[encoded data removed]",
      "text/plain": [
       "<Figure size 432x288 with 2 Axes>"
      ]
     },
     "metadata": {
      "needs_background": "light"
     },
     "output_type": "display_data"
    }
   ],
   "source": [
    "fe_hosts = host_logs.reset_index().set_index([\"Date\", \"ExecutionHost\"]).unstack().filter(like=\"nesh-fe\").stack().reset_index()\n",
    "fe_hosts[[\"Free_Mem1\", \"Used_Mem1\"]].groupby(fe_hosts[\"Date\"]).sum().resample(\"10D\").min().plot(subplots=True);"
   ]
  },
  {
   "cell_type": "markdown",
   "metadata": {},
   "source": [
    "_**Interpretation:** The baseline memory use of the `nesh-fe*` nodes is much more compatible with a 10-day minimum of 50 GB (or 12.5 GB / node) than the assumption that at the least busy time, all four `nesh-fe*` nodes had a memory use of 2400GB."
   ]
  },
  {
   "cell_type": "code",
   "execution_count": 17,
   "metadata": {},
   "outputs": [
    {
     "data": {
      "text/plain": [
       "array([<matplotlib.axes._subplots.AxesSubplot object at 0x139fef1d0>,\n",
       "       <matplotlib.axes._subplots.AxesSubplot object at 0x1331240d0>],\n",
       "      dtype=object)"
      ]
     },
     "execution_count": 17,
     "metadata": {},
     "output_type": "execute_result"
    },
    {
     "data": {
      "image/png": "[encoded data removed]",
      "text/plain": [
       "<Figure size 432x288 with 2 Axes>"
      ]
     },
     "metadata": {
      "needs_background": "light"
     },
     "output_type": "display_data"
    }
   ],
   "source": [
    "host_logs.reset_index()[[\"Free_Mem1\", \"Used_Mem1\"]].groupby(host_logs.reset_index()[\"Date\"]).sum().resample(\"10D\").min().plot(subplots=True)"
   ]
  },
  {
   "cell_type": "markdown",
   "metadata": {},
   "source": [
    "_**Interpretation:** For the whole cluster, this is different and the reported free mem looks plausible._"
   ]
  },
  {
   "cell_type": "code",
   "execution_count": 18,
   "metadata": {},
   "outputs": [],
   "source": [
    "host_logs = host_logs.reset_index()"
   ]
  },
  {
   "cell_type": "code",
   "execution_count": 19,
   "metadata": {},
   "outputs": [],
   "source": [
    "tmp_new_used_mem = host_logs.loc[host_logs[\"ExecutionHost\"].str.contains(\"nesh-fe\"), \"Free_Mem1\"]\n",
    "tmp_new_free_mem = host_logs.loc[host_logs[\"ExecutionHost\"].str.contains(\"nesh-fe\"), \"Used_Mem1\"]\n",
    "host_logs.loc[host_logs[\"ExecutionHost\"].str.contains(\"nesh-fe\"), \"Free_Mem1\"] = tmp_new_free_mem\n",
    "host_logs.loc[host_logs[\"ExecutionHost\"].str.contains(\"nesh-fe\"), \"Used_Mem1\"] = tmp_new_used_mem"
   ]
  },
  {
   "cell_type": "code",
   "execution_count": 20,
   "metadata": {},
   "outputs": [
    {
     "data": {
      "image/png": "[encoded data removed]",
      "text/plain": [
       "<Figure size 432x288 with 2 Axes>"
      ]
     },
     "metadata": {
      "needs_background": "light"
     },
     "output_type": "display_data"
    }
   ],
   "source": [
    "fe_hosts = host_logs.reset_index().set_index([\"Date\", \"ExecutionHost\"]).unstack().filter(like=\"nesh-fe\").stack().reset_index()\n",
    "fe_hosts[[\"Free_Mem1\", \"Used_Mem1\"]].groupby(fe_hosts[\"Date\"]).sum().resample(\"10D\").min().plot(subplots=True);"
   ]
  },
  {
   "cell_type": "code",
   "execution_count": 21,
   "metadata": {},
   "outputs": [
    {
     "data": {
      "text/html": [
       "<div>\n",
       "<style scoped>\n",
       "    .dataframe tbody tr th:only-of-type {\n",
       "        vertical-align: middle;\n",
       "    }\n",
       "\n",
       "    .dataframe tbody tr th {\n",
       "        vertical-align: top;\n",
       "    }\n",
       "\n",
       "    .dataframe thead th {\n",
       "        text-align: right;\n",
       "    }\n",
       "</style>\n",
       "<table border=\"1\" class=\"dataframe\">\n",
       "  <thead>\n",
       "    <tr style=\"text-align: right;\">\n",
       "      <th></th>\n",
       "      <th>Date</th>\n",
       "      <th>Free_CPUs</th>\n",
       "      <th>Free_Mem1</th>\n",
       "      <th>Used_CPUs</th>\n",
       "      <th>Cpu</th>\n",
       "      <th>Used_Mem1</th>\n",
       "      <th>ExecutionHost</th>\n",
       "      <th>QueueName</th>\n",
       "      <th>Free_Swap1</th>\n",
       "      <th>Used_Swap1</th>\n",
       "      <th>Load</th>\n",
       "    </tr>\n",
       "  </thead>\n",
       "  <tbody>\n",
       "    <tr>\n",
       "      <th>0</th>\n",
       "      <td>2020-01-12 18:17:31</td>\n",
       "      <td>0</td>\n",
       "      <td>349.402344</td>\n",
       "      <td>32</td>\n",
       "      <td>32.0</td>\n",
       "      <td>33.308594</td>\n",
       "      <td>neshcl218</td>\n",
       "      <td>clbigmem</td>\n",
       "      <td>NaN</td>\n",
       "      <td>NaN</td>\n",
       "      <td>NaN</td>\n",
       "    </tr>\n",
       "    <tr>\n",
       "      <th>1</th>\n",
       "      <td>2020-01-12 18:17:31</td>\n",
       "      <td>0</td>\n",
       "      <td>302.101562</td>\n",
       "      <td>32</td>\n",
       "      <td>32.0</td>\n",
       "      <td>80.609375</td>\n",
       "      <td>neshcl219</td>\n",
       "      <td>clbigmem</td>\n",
       "      <td>NaN</td>\n",
       "      <td>NaN</td>\n",
       "      <td>NaN</td>\n",
       "    </tr>\n",
       "    <tr>\n",
       "      <th>...</th>\n",
       "      <td>...</td>\n",
       "      <td>...</td>\n",
       "      <td>...</td>\n",
       "      <td>...</td>\n",
       "      <td>...</td>\n",
       "      <td>...</td>\n",
       "      <td>...</td>\n",
       "      <td>...</td>\n",
       "      <td>...</td>\n",
       "      <td>...</td>\n",
       "      <td>...</td>\n",
       "    </tr>\n",
       "    <tr>\n",
       "      <th>2206619</th>\n",
       "      <td>2020-04-07 09:53:57</td>\n",
       "      <td>63</td>\n",
       "      <td>736.996094</td>\n",
       "      <td>1</td>\n",
       "      <td>0.0</td>\n",
       "      <td>29.714844</td>\n",
       "      <td>nesh-fe2-adm</td>\n",
       "      <td>nan</td>\n",
       "      <td>0.085938</td>\n",
       "      <td>3.910156</td>\n",
       "      <td>0.4</td>\n",
       "    </tr>\n",
       "    <tr>\n",
       "      <th>2206620</th>\n",
       "      <td>2020-04-07 09:53:57</td>\n",
       "      <td>63</td>\n",
       "      <td>752.734375</td>\n",
       "      <td>1</td>\n",
       "      <td>1.0</td>\n",
       "      <td>13.976562</td>\n",
       "      <td>nesh-fe3-adm</td>\n",
       "      <td>nan</td>\n",
       "      <td>1.750000</td>\n",
       "      <td>2.246094</td>\n",
       "      <td>1.0</td>\n",
       "    </tr>\n",
       "  </tbody>\n",
       "</table>\n",
       "<p>2206621 rows × 11 columns</p>\n",
       "</div>"
      ],
      "text/plain": [
       "                       Date  Free_CPUs   Free_Mem1  Used_CPUs   Cpu  \\\n",
       "0       2020-01-12 18:17:31          0  349.402344         32  32.0   \n",
       "1       2020-01-12 18:17:31          0  302.101562         32  32.0   \n",
       "...                     ...        ...         ...        ...   ...   \n",
       "2206619 2020-04-07 09:53:57         63  736.996094          1   0.0   \n",
       "2206620 2020-04-07 09:53:57         63  752.734375          1   1.0   \n",
       "\n",
       "         Used_Mem1 ExecutionHost QueueName  Free_Swap1  Used_Swap1  Load  \n",
       "0        33.308594     neshcl218  clbigmem         NaN         NaN   NaN  \n",
       "1        80.609375     neshcl219  clbigmem         NaN         NaN   NaN  \n",
       "...            ...           ...       ...         ...         ...   ...  \n",
       "2206619  29.714844  nesh-fe2-adm       nan    0.085938    3.910156   0.4  \n",
       "2206620  13.976562  nesh-fe3-adm       nan    1.750000    2.246094   1.0  \n",
       "\n",
       "[2206621 rows x 11 columns]"
      ]
     },
     "execution_count": 21,
     "metadata": {},
     "output_type": "execute_result"
    }
   ],
   "source": [
    "host_logs"
   ]
  },
  {
   "cell_type": "markdown",
   "metadata": {},
   "source": [
    "## Save to parquet"
   ]
  },
  {
   "cell_type": "code",
   "execution_count": 22,
   "metadata": {},
   "outputs": [],
   "source": [
    "host_logs.to_parquet(tmp_data_path / \"host_logs.prq\", compression=\"gzip\")"
   ]
  },
  {
   "cell_type": "code",
   "execution_count": 23,
   "metadata": {},
   "outputs": [
    {
     "name": "stdout",
     "output_type": "stream",
     "text": [
      "CPU times: user 2.51 s, sys: 128 ms, total: 2.64 s\n",
      "Wall time: 2.65 s\n"
     ]
    }
   ],
   "source": [
    "%%time\n",
    "\n",
    "host_logs_reread = pd.read_parquet(tmp_data_path / \"host_logs.prq\")"
   ]
  }
 ],
 "metadata": {
  "kernelspec": {
   "display_name": "Python [conda env:nesh-monitoring]",
   "language": "python",
   "name": "conda-env-nesh-monitoring-py"
  },
  "language_info": {
   "codemirror_mode": {
    "name": "ipython",
    "version": 3
   },
   "file_extension": ".py",
   "mimetype": "text/x-python",
   "name": "python",
   "nbconvert_exporter": "python",
   "pygments_lexer": "ipython3",
   "version": "3.7.6"
  }
 },
 "nbformat": 4,
 "nbformat_minor": 4
}
