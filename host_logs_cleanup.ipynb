{
 "cells": [
  {
   "cell_type": "code",
   "execution_count": 94,
   "metadata": {},
   "outputs": [],
   "source": [
    "import pandas as pd\n",
    "import matplotlib.pyplot as plt\n",
    "import numpy as np\n",
    "from pathlib import Path\n",
    "import sys\n",
    "sys.path.append(\"former_stale_branches/\")\n",
    "from tools import read_host_logs"
   ]
  },
  {
   "cell_type": "code",
   "execution_count": 95,
   "metadata": {},
   "outputs": [],
   "source": [
    "pd.set_option('display.max_rows', 4)"
   ]
  },
  {
   "cell_type": "markdown",
   "metadata": {},
   "source": [
    "## Set output path"
   ]
  },
  {
   "cell_type": "code",
   "execution_count": 96,
   "metadata": {},
   "outputs": [],
   "source": [
    "#parameters\n",
    "tmp_data_path = Path(\"data/\")"
   ]
  },
  {
   "cell_type": "markdown",
   "metadata": {},
   "source": [
    "## Read log files"
   ]
  },
  {
   "cell_type": "code",
   "execution_count": 97,
   "metadata": {},
   "outputs": [
    {
     "data": {
      "text/html": [
       "<div>\n",
       "<style scoped>\n",
       "    .dataframe tbody tr th:only-of-type {\n",
       "        vertical-align: middle;\n",
       "    }\n",
       "\n",
       "    .dataframe tbody tr th {\n",
       "        vertical-align: top;\n",
       "    }\n",
       "\n",
       "    .dataframe thead th {\n",
       "        text-align: right;\n",
       "    }\n",
       "</style>\n",
       "<table border=\"1\" class=\"dataframe\">\n",
       "  <thead>\n",
       "    <tr style=\"text-align: right;\">\n",
       "      <th></th>\n",
       "      <th>Free_CPUs</th>\n",
       "      <th>Free_Mem1</th>\n",
       "      <th>Used_CPUs</th>\n",
       "      <th>Cpu</th>\n",
       "      <th>Used_Mem1</th>\n",
       "      <th>ExecutionHost</th>\n",
       "      <th>QueueName</th>\n",
       "      <th>Free_Swap1</th>\n",
       "      <th>Used_Swap1</th>\n",
       "      <th>Load</th>\n",
       "    </tr>\n",
       "    <tr>\n",
       "      <th>Date</th>\n",
       "      <th></th>\n",
       "      <th></th>\n",
       "      <th></th>\n",
       "      <th></th>\n",
       "      <th></th>\n",
       "      <th></th>\n",
       "      <th></th>\n",
       "      <th></th>\n",
       "      <th></th>\n",
       "      <th></th>\n",
       "    </tr>\n",
       "  </thead>\n",
       "  <tbody>\n",
       "    <tr>\n",
       "      <th>2020-01-12 18:17:31</th>\n",
       "      <td>0</td>\n",
       "      <td>349.402344</td>\n",
       "      <td>32</td>\n",
       "      <td>32.0</td>\n",
       "      <td>33.308594</td>\n",
       "      <td>neshcl218</td>\n",
       "      <td>clbigmem</td>\n",
       "      <td>NaN</td>\n",
       "      <td>NaN</td>\n",
       "      <td>NaN</td>\n",
       "    </tr>\n",
       "    <tr>\n",
       "      <th>2020-01-12 18:17:31</th>\n",
       "      <td>0</td>\n",
       "      <td>302.101562</td>\n",
       "      <td>32</td>\n",
       "      <td>32.0</td>\n",
       "      <td>80.609375</td>\n",
       "      <td>neshcl219</td>\n",
       "      <td>clbigmem</td>\n",
       "      <td>NaN</td>\n",
       "      <td>NaN</td>\n",
       "      <td>NaN</td>\n",
       "    </tr>\n",
       "    <tr>\n",
       "      <th>...</th>\n",
       "      <td>...</td>\n",
       "      <td>...</td>\n",
       "      <td>...</td>\n",
       "      <td>...</td>\n",
       "      <td>...</td>\n",
       "      <td>...</td>\n",
       "      <td>...</td>\n",
       "      <td>...</td>\n",
       "      <td>...</td>\n",
       "      <td>...</td>\n",
       "    </tr>\n",
       "    <tr>\n",
       "      <th>2020-10-07 16:10:08</th>\n",
       "      <td>47</td>\n",
       "      <td>177.363281</td>\n",
       "      <td>1</td>\n",
       "      <td>0.0</td>\n",
       "      <td>13.304688</td>\n",
       "      <td>neshve06</td>\n",
       "      <td>bmtest,veexpress,vequeue,veinteractive</td>\n",
       "      <td>3.996094</td>\n",
       "      <td>0.0</td>\n",
       "      <td>16.1</td>\n",
       "    </tr>\n",
       "    <tr>\n",
       "      <th>2020-10-07 16:10:08</th>\n",
       "      <td>47</td>\n",
       "      <td>5.867188</td>\n",
       "      <td>1</td>\n",
       "      <td>0.0</td>\n",
       "      <td>184.800781</td>\n",
       "      <td>neshve07</td>\n",
       "      <td>bmtest,veexpress,vequeue,veinteractive</td>\n",
       "      <td>3.996094</td>\n",
       "      <td>0.0</td>\n",
       "      <td>16.0</td>\n",
       "    </tr>\n",
       "  </tbody>\n",
       "</table>\n",
       "<p>6793449 rows × 10 columns</p>\n",
       "</div>"
      ],
      "text/plain": [
       "                     Free_CPUs   Free_Mem1  Used_CPUs   Cpu   Used_Mem1  \\\n",
       "Date                                                                      \n",
       "2020-01-12 18:17:31          0  349.402344         32  32.0   33.308594   \n",
       "2020-01-12 18:17:31          0  302.101562         32  32.0   80.609375   \n",
       "...                        ...         ...        ...   ...         ...   \n",
       "2020-10-07 16:10:08         47  177.363281          1   0.0   13.304688   \n",
       "2020-10-07 16:10:08         47    5.867188          1   0.0  184.800781   \n",
       "\n",
       "                    ExecutionHost                               QueueName  \\\n",
       "Date                                                                        \n",
       "2020-01-12 18:17:31     neshcl218                                clbigmem   \n",
       "2020-01-12 18:17:31     neshcl219                                clbigmem   \n",
       "...                           ...                                     ...   \n",
       "2020-10-07 16:10:08      neshve06  bmtest,veexpress,vequeue,veinteractive   \n",
       "2020-10-07 16:10:08      neshve07  bmtest,veexpress,vequeue,veinteractive   \n",
       "\n",
       "                     Free_Swap1  Used_Swap1  Load  \n",
       "Date                                               \n",
       "2020-01-12 18:17:31         NaN         NaN   NaN  \n",
       "2020-01-12 18:17:31         NaN         NaN   NaN  \n",
       "...                         ...         ...   ...  \n",
       "2020-10-07 16:10:08    3.996094         0.0  16.1  \n",
       "2020-10-07 16:10:08    3.996094         0.0  16.0  \n",
       "\n",
       "[6793449 rows x 10 columns]"
      ]
     },
     "metadata": {},
     "output_type": "display_data"
    },
    {
     "name": "stdout",
     "output_type": "stream",
     "text": [
      "CPU times: user 2min 10s, sys: 2.02 s, total: 2min 12s\n",
      "Wall time: 2min 12s\n"
     ]
    }
   ],
   "source": [
    "%%time\n",
    "\n",
    "raw_host_logs = read_host_logs('../NESH-monitoring/host_logs/', '*.tar.gz')\n",
    "display(raw_host_logs)"
   ]
  },
  {
   "cell_type": "markdown",
   "metadata": {},
   "source": [
    "## Keep only login and batch production nodes\n",
    "\n",
    "Drop the `ve*` vector, and the experimental `cltestque` and `clinteractive` only nodes."
   ]
  },
  {
   "cell_type": "code",
   "execution_count": 100,
   "metadata": {},
   "outputs": [
    {
     "data": {
      "text/plain": [
       "array(['clbigmem', 'clmedium', 'clmedium,cltestque', 'cllong', 'clfo2',\n",
       "       'clexpress', 'cltestque,clinteractive', 'cltestque',\n",
       "       'bmtest,veexpress,vequeue,veinteractive', 'nan', 'feque',\n",
       "       'bmtest,veexpress,vequeueb,veinteractive', 'cltestque,clmedium',\n",
       "       'clinteractive'], dtype=object)"
      ]
     },
     "metadata": {},
     "output_type": "display_data"
    }
   ],
   "source": [
    "display(raw_host_logs[\"QueueName\"].unique())"
   ]
  },
  {
   "cell_type": "code",
   "execution_count": 101,
   "metadata": {},
   "outputs": [
    {
     "data": {
      "text/plain": [
       "array(['neshcl218', 'neshcl219', 'neshcl220', 'neshcl221', 'neshcl222',\n",
       "       'neshcl223', 'neshcl228', 'neshcl229', 'neshcl233', 'neshcl234',\n",
       "       'neshcl235', 'neshcl236', 'neshcl237', 'neshcl238', 'neshcl239',\n",
       "       'neshcl242', 'neshcl243', 'neshcl244', 'neshcl245', 'neshcl247',\n",
       "       'neshcl248', 'neshcl251', 'neshcl254', 'neshcl258', 'neshcl259',\n",
       "       'neshcl262', 'neshcl263', 'neshcl264', 'neshcl267', 'neshcl270',\n",
       "       'neshcl271', 'neshcl272', 'neshcl273', 'neshcl274', 'neshcl275',\n",
       "       'neshcl276', 'neshcl277', 'neshcl278', 'neshcl279', 'neshcl281',\n",
       "       'neshcl283', 'neshcl284', 'neshcl285', 'neshcl288', 'neshcl291',\n",
       "       'neshcl295', 'neshcl296', 'neshcl297', 'neshcl298', 'neshcl301',\n",
       "       'neshcl302', 'neshcl303', 'neshcl304', 'neshcl306', 'neshcl307',\n",
       "       'neshcl308', 'neshcl309', 'neshcl311', 'neshcl313', 'neshcl314',\n",
       "       'neshcl315', 'neshcl316', 'neshcl317', 'neshcl319', 'neshcl320',\n",
       "       'neshcl321', 'neshcl322', 'neshcl323', 'neshcl325', 'neshcl326',\n",
       "       'neshcl327', 'neshcl328', 'neshcl331', 'neshcl332', 'neshcl334',\n",
       "       'neshcl335', 'neshcl336', 'neshcl337', 'neshcl340', 'neshcl344',\n",
       "       'neshcl345', 'neshcl347', 'neshcl348', 'neshcl350', 'neshcl353',\n",
       "       'neshcl354', 'neshcl357', 'neshcl359', 'neshcl361', 'neshcl363',\n",
       "       'neshcl365', 'neshcl366', 'neshcl368', 'neshcl370', 'neshcl371',\n",
       "       'neshcl373', 'neshcl374', 'neshcl377', 'neshcl380', 'neshcl381',\n",
       "       'neshcl383', 'neshcl384', 'neshcl385', 'neshcl386', 'neshcl387',\n",
       "       'neshcl388', 'neshcl390', 'neshcl392', 'neshcl393', 'neshcl396',\n",
       "       'neshcl397', 'neshcl266', 'neshcl203', 'neshcl200', 'neshcl201',\n",
       "       'neshcl206', 'neshcl207', 'neshcl209', 'neshcl211', 'neshcl213',\n",
       "       'neshcl214', 'neshcl215', 'neshcl216', 'neshcl246', 'neshcl255',\n",
       "       'neshcl241', 'neshcl339', 'neshcl232', 'neshcl318', 'neshcl379',\n",
       "       'neshcl372', 'neshcl250', 'neshcl360', 'neshcl287', 'neshcl292',\n",
       "       'neshcl349', 'neshcl252', 'neshcl253', 'neshcl257', 'neshcl260',\n",
       "       'neshcl261', 'neshcl268', 'neshcl280', 'neshcl282', 'neshcl286',\n",
       "       'neshcl293', 'neshcl294', 'neshcl300', 'neshcl305', 'neshcl312',\n",
       "       'neshcl338', 'neshcl352', 'neshcl355', 'neshcl356', 'neshcl358',\n",
       "       'neshcl362', 'neshcl367', 'neshcl375', 'neshcl394', 'neshcl249',\n",
       "       'neshcl351', 'neshcl289', 'neshcl341', 'neshcl369', 'neshcl382',\n",
       "       'neshcl389', 'neshcl290', 'neshcl299', 'neshcl230', 'neshcl310',\n",
       "       'neshcl202', 'neshcl204', 'neshcl208', 'neshcl210', 'neshcl212',\n",
       "       'neshcl217', 'neshcl224', 'neshcl395', 'neshcl225', 'neshcl364',\n",
       "       'neshcl376', 'neshcl378', 'neshcl226', 'neshcl227', 'neshcl231',\n",
       "       'neshcl240', 'neshcl265', 'neshcl269', 'neshcl329', 'neshcl330',\n",
       "       'neshcl333', 'neshcl342', 'neshcl343', 'neshcl346', 'neshve00',\n",
       "       'neshve01', 'neshve02', 'neshve03', 'neshve04', 'neshve05',\n",
       "       'neshve06', 'neshve07', 'nesh-fe2-adm', 'nesh-fe1-adm',\n",
       "       'nesh-fe3-adm', 'nesh-fe0-adm', 'neshcl256', 'neshcl324'],\n",
       "      dtype=object)"
      ]
     },
     "metadata": {},
     "output_type": "display_data"
    }
   ],
   "source": [
    "display(raw_host_logs[\"ExecutionHost\"].unique())"
   ]
  },
  {
   "cell_type": "code",
   "execution_count": 102,
   "metadata": {},
   "outputs": [],
   "source": [
    "# Identify batch production nodes.\n",
    "keep_these_batch_classes = 'clbigmem|clmedium|cllong|clfo2|clexpress|feque'\n",
    "mask_by_batch_class = raw_host_logs['QueueName'].str.contains(keep_these_batch_classes)"
   ]
  },
  {
   "cell_type": "code",
   "execution_count": 103,
   "metadata": {},
   "outputs": [],
   "source": [
    "# Identify login nodes.\n",
    "keep_these_hosts = 'nesh-fe2-adm|nesh-fe1-adm|nesh-fe3-adm|nesh-fe0-adm'\n",
    "mask_by_host = raw_host_logs['ExecutionHost'].str.contains(keep_these_hosts)"
   ]
  },
  {
   "cell_type": "code",
   "execution_count": 104,
   "metadata": {},
   "outputs": [],
   "source": [
    "host_logs = raw_host_logs[ mask_by_batch_class | mask_by_host ]"
   ]
  },
  {
   "cell_type": "markdown",
   "metadata": {},
   "source": [
    "Note: Always select rows via `.str.contains()` and not via `.isin()`. The latter is an equivalence method and nodes allocated to more than one batch class, e.g. `clmedium,cltestque` will be omitted."
   ]
  },
  {
   "cell_type": "code",
   "execution_count": 105,
   "metadata": {},
   "outputs": [
    {
     "name": "stdout",
     "output_type": "stream",
     "text": [
      "dropped 317806 rows\n"
     ]
    }
   ],
   "source": [
    "print(f\"dropped {len(raw_host_logs) - len(host_logs)} rows\")"
   ]
  },
  {
   "cell_type": "code",
   "execution_count": 106,
   "metadata": {},
   "outputs": [
    {
     "name": "stdout",
     "output_type": "stream",
     "text": [
      "eliminated thte following QueueNames:\n"
     ]
    },
    {
     "data": {
      "text/plain": [
       "{'bmtest,veexpress,vequeue,veinteractive',\n",
       " 'bmtest,veexpress,vequeueb,veinteractive',\n",
       " 'clinteractive',\n",
       " 'cltestque',\n",
       " 'cltestque,clinteractive'}"
      ]
     },
     "metadata": {},
     "output_type": "display_data"
    }
   ],
   "source": [
    "print(\"eliminated thte following QueueNames:\")\n",
    "display(set(raw_host_logs[\"QueueName\"]) - set(host_logs[\"QueueName\"]))"
   ]
  },
  {
   "cell_type": "code",
   "execution_count": 107,
   "metadata": {},
   "outputs": [
    {
     "name": "stdout",
     "output_type": "stream",
     "text": [
      "eliminated the following ExecutionsHosts:\n"
     ]
    },
    {
     "data": {
      "text/plain": [
       "{'neshcl342',\n",
       " 'neshve00',\n",
       " 'neshve01',\n",
       " 'neshve02',\n",
       " 'neshve03',\n",
       " 'neshve04',\n",
       " 'neshve05',\n",
       " 'neshve06',\n",
       " 'neshve07'}"
      ]
     },
     "metadata": {},
     "output_type": "display_data"
    }
   ],
   "source": [
    "print(\"eliminated the following ExecutionsHosts:\")\n",
    "display(set(raw_host_logs[\"ExecutionHost\"]) - set(host_logs[\"ExecutionHost\"]))"
   ]
  },
  {
   "cell_type": "markdown",
   "metadata": {},
   "source": [
    "## Fix column names for front ends\n",
    "\n",
    "Something is wrong with memory log entries for the login nodes. Unfortunately, the `qstat` tool is not documented well enough and the code not available. For the analysis presented here, we swap `Free_Mem1` and `Used_Mem1` for the `nesh-fe?` nodes."
   ]
  },
  {
   "cell_type": "code",
   "execution_count": 108,
   "metadata": {},
   "outputs": [
    {
     "data": {
      "image/png": "[encoded data removed]",
      "text/plain": [
       "<Figure size 432x288 with 2 Axes>"
      ]
     },
     "metadata": {
      "needs_background": "light"
     },
     "output_type": "display_data"
    }
   ],
   "source": [
    "fe_hosts = host_logs.reset_index().set_index([\"Date\", \"ExecutionHost\"]).unstack().filter(like=\"nesh-fe\").stack().reset_index()\n",
    "fe_hosts[[\"Free_Mem1\", \"Used_Mem1\"]].groupby(fe_hosts[\"Date\"]).sum().resample(\"10D\").min().plot(subplots=True);"
   ]
  },
  {
   "cell_type": "markdown",
   "metadata": {},
   "source": [
    "**Interpretation:** The baseline memory use of the `nesh-fe*` nodes is much more compatible with a 10-day minimum of 50 GB (or 12.5 GB / node) than the assumption that at the least busy time, all four `nesh-fe*` nodes had a memory use of 2400GB."
   ]
  },
  {
   "cell_type": "code",
   "execution_count": 109,
   "metadata": {},
   "outputs": [
    {
     "data": {
      "text/plain": [
       "array([<AxesSubplot:xlabel='Date'>, <AxesSubplot:xlabel='Date'>],\n",
       "      dtype=object)"
      ]
     },
     "execution_count": 109,
     "metadata": {},
     "output_type": "execute_result"
    },
    {
     "data": {
      "image/png": "[encoded data removed]",
      "text/plain": [
       "<Figure size 432x288 with 2 Axes>"
      ]
     },
     "metadata": {
      "needs_background": "light"
     },
     "output_type": "display_data"
    }
   ],
   "source": [
    "host_logs.reset_index()[[\"Free_Mem1\", \"Used_Mem1\"]].groupby(host_logs.reset_index()[\"Date\"]).sum().resample(\"10D\").min().plot(subplots=True)"
   ]
  },
  {
   "cell_type": "markdown",
   "metadata": {},
   "source": [
    "_**Interpretation:** For the whole cluster, this is different and the reported free mem looks plausible._"
   ]
  },
  {
   "cell_type": "code",
   "execution_count": 114,
   "metadata": {},
   "outputs": [],
   "source": [
    "host_logs = host_logs.reset_index()\n",
    "tmp_new_used_mem = host_logs.loc[host_logs[\"ExecutionHost\"].str.contains(\"nesh-fe\"), \"Free_Mem1\"]\n",
    "tmp_new_free_mem = host_logs.loc[host_logs[\"ExecutionHost\"].str.contains(\"nesh-fe\"), \"Used_Mem1\"]\n",
    "host_logs.loc[host_logs[\"ExecutionHost\"].str.contains(\"nesh-fe\"), \"Free_Mem1\"] = tmp_new_free_mem\n",
    "host_logs.loc[host_logs[\"ExecutionHost\"].str.contains(\"nesh-fe\"), \"Used_Mem1\"] = tmp_new_used_mem"
   ]
  },
  {
   "cell_type": "code",
   "execution_count": 115,
   "metadata": {},
   "outputs": [
    {
     "data": {
      "image/png": "[encoded data removed]",
      "text/plain": [
       "<Figure size 432x288 with 2 Axes>"
      ]
     },
     "metadata": {
      "needs_background": "light"
     },
     "output_type": "display_data"
    }
   ],
   "source": [
    "fe_hosts = host_logs.set_index([\"Date\", \"ExecutionHost\"]).unstack().filter(like=\"nesh-fe\").stack().reset_index()\n",
    "fe_hosts[[\"Free_Mem1\", \"Used_Mem1\"]].groupby(fe_hosts[\"Date\"]).sum().resample(\"10D\").min().plot(subplots=True);"
   ]
  },
  {
   "cell_type": "markdown",
   "metadata": {},
   "source": [
    "As visible in the timeseries above, the swap of `Used_Mem1` and `Free_Mem1` is fixed for the data past late december. In this section the columns will only be swaped before the distinct cutoff date."
   ]
  },
  {
   "cell_type": "code",
   "execution_count": 129,
   "metadata": {},
   "outputs": [],
   "source": [
    "cutoff_mask      = (host_logs.reset_index()['Date'] > '2020-9-25-6:00:00') & (host_logs.reset_index()['Date'] <= '2020-9-25-20:00:00')\n",
    "host_logs_cutoff = host_logs.reset_index().loc[cutoff_mask]"
   ]
  },
  {
   "cell_type": "code",
   "execution_count": 117,
   "metadata": {},
   "outputs": [],
   "source": [
    "tmp_new_used_mem_co = host_logs_cutoff.loc[host_logs_cutoff[\"ExecutionHost\"].str.contains(\"nesh-fe\"), \"Free_Mem1\"]\n",
    "tmp_new_free_mem_co = host_logs_cutoff.loc[host_logs_cutoff[\"ExecutionHost\"].str.contains(\"nesh-fe\"), \"Used_Mem1\"]\n",
    "host_logs_cutoff.loc[host_logs_cutoff[\"ExecutionHost\"].str.contains(\"nesh-fe\"), \"Free_Mem1\"] = tmp_new_free_mem_co\n",
    "host_logs_cutoff.loc[host_logs_cutoff[\"ExecutionHost\"].str.contains(\"nesh-fe\"), \"Used_Mem1\"] = tmp_new_used_mem_co"
   ]
  },
  {
   "cell_type": "code",
   "execution_count": 130,
   "metadata": {},
   "outputs": [
    {
     "data": {
      "image/png": "[encoded data removed]",
      "text/plain": [
       "<Figure size 432x288 with 2 Axes>"
      ]
     },
     "metadata": {
      "needs_background": "light"
     },
     "output_type": "display_data"
    }
   ],
   "source": [
    "fe_hosts_cutoff = host_logs_cutoff.set_index([\"Date\", \"ExecutionHost\"]).unstack().filter(like=\"nesh-fe\").stack().reset_index()\n",
    "fe_hosts_cutoff[[\"Free_Mem1\", \"Used_Mem1\"]].groupby(fe_hosts_cutoff[\"Date\"]).sum().resample(\"1H\").min().plot(subplots=True);"
   ]
  },
  {
   "cell_type": "markdown",
   "metadata": {},
   "source": [
    "Cutoff identified between `2020-9-25 10:00:00` and `2020-9-25 17:00:00`. Columns will be swaped again for data after this time. "
   ]
  },
  {
   "cell_type": "code",
   "execution_count": 132,
   "metadata": {},
   "outputs": [],
   "source": [
    "#host_logs = host_logs.reset_index()\n",
    "tmp_new_used_mem = host_logs.loc[host_logs[\"ExecutionHost\"].str.contains(\"nesh-fe\") & (host_logs['Date'] > '2020-9-25-17:00:00'), \"Free_Mem1\"]\n",
    "tmp_new_free_mem = host_logs.loc[host_logs[\"ExecutionHost\"].str.contains(\"nesh-fe\") & (host_logs['Date'] > '2020-9-25-17:00:00'), \"Used_Mem1\"]\n",
    "host_logs.loc[host_logs[\"ExecutionHost\"].str.contains(\"nesh-fe\") & (host_logs['Date'] > '2020-9-18-12:00:00'), \"Free_Mem1\"] = tmp_new_free_mem\n",
    "host_logs.loc[host_logs[\"ExecutionHost\"].str.contains(\"nesh-fe\") & (host_logs['Date'] > '2020-9-18-12:00:00'), \"Used_Mem1\"] = tmp_new_used_mem"
   ]
  },
  {
   "cell_type": "code",
   "execution_count": 135,
   "metadata": {},
   "outputs": [
    {
     "data": {
      "image/png": "[encoded data removed]",
      "text/plain": [
       "<Figure size 432x288 with 2 Axes>"
      ]
     },
     "metadata": {
      "needs_background": "light"
     },
     "output_type": "display_data"
    }
   ],
   "source": [
    "fe_hosts = host_logs.set_index([\"Date\", \"ExecutionHost\"]).unstack().filter(like=\"nesh-fe\").stack().reset_index()\n",
    "fe_hosts[[\"Free_Mem1\", \"Used_Mem1\"]].groupby(fe_hosts[\"Date\"]).sum().resample(\"10D\").min().plot(subplots=True);"
   ]
  },
  {
   "cell_type": "markdown",
   "metadata": {},
   "source": [
    "## Save to parquet"
   ]
  },
  {
   "cell_type": "code",
   "execution_count": 137,
   "metadata": {},
   "outputs": [],
   "source": [
    "host_logs.to_parquet(tmp_data_path / \"host_logs.parquet\", compression=\"gzip\")"
   ]
  },
  {
   "cell_type": "code",
   "execution_count": 138,
   "metadata": {},
   "outputs": [
    {
     "name": "stdout",
     "output_type": "stream",
     "text": [
      "CPU times: user 5.74 s, sys: 316 ms, total: 6.06 s\n",
      "Wall time: 6.07 s\n"
     ]
    }
   ],
   "source": [
    "%%time\n",
    "\n",
    "host_logs_reread = pd.read_parquet(tmp_data_path / \"host_logs.parquet\")"
   ]
  },
  {
   "cell_type": "markdown",
   "metadata": {},
   "source": [
    "## Appendix"
   ]
  },
  {
   "cell_type": "code",
   "execution_count": 140,
   "metadata": {},
   "outputs": [
    {
     "name": "stdout",
     "output_type": "stream",
     "text": [
      "# This file may be used to create an environment using:\n",
      "# $ conda create --name <env> --file <this file>\n",
      "# platform: linux-64\n",
      "@EXPLICIT\n",
      "https://conda.anaconda.org/conda-forge/linux-64/git-lfs-2.11.0-0.tar.bz2\n",
      "https://conda.anaconda.org/conda-forge/noarch/nomkl-1.0-h5ca1d4c_0.tar.bz2\n",
      "https://conda.anaconda.org/conda-forge/linux-64/_libgcc_mutex-0.1-conda_forge.tar.bz2\n",
      "https://conda.anaconda.org/conda-forge/linux-64/ca-certificates-2020.6.20-hecda079_0.tar.bz2\n",
      "https://conda.anaconda.org/conda-forge/linux-64/ld_impl_linux-64-2.35-h769bd43_9.tar.bz2\n",
      "https://conda.anaconda.org/conda-forge/linux-64/libgfortran5-9.3.0-he4bcb1c_17.tar.bz2\n",
      "https://conda.anaconda.org/conda-forge/linux-64/libstdcxx-ng-9.3.0-h2ae2ef3_17.tar.bz2\n",
      "https://conda.anaconda.org/conda-forge/linux-64/pandoc-2.11.0.4-hd18ef5c_0.tar.bz2\n",
      "https://conda.anaconda.org/conda-forge/linux-64/libgfortran-ng-9.3.0-he4bcb1c_17.tar.bz2\n",
      "https://conda.anaconda.org/conda-forge/linux-64/libgomp-9.3.0-h5dbcf3e_17.tar.bz2\n",
      "https://conda.anaconda.org/conda-forge/linux-64/_openmp_mutex-4.5-1_gnu.tar.bz2\n",
      "https://conda.anaconda.org/conda-forge/linux-64/libgcc-ng-9.3.0-h5dbcf3e_17.tar.bz2\n",
      "https://conda.anaconda.org/conda-forge/linux-64/bzip2-1.0.8-h516909a_3.tar.bz2\n",
      "https://conda.anaconda.org/conda-forge/linux-64/c-ares-1.16.1-h516909a_3.tar.bz2\n",
      "https://conda.anaconda.org/conda-forge/linux-64/expat-2.2.9-he1b5a44_2.tar.bz2\n",
      "https://conda.anaconda.org/conda-forge/linux-64/geos-3.8.1-he1b5a44_0.tar.bz2\n",
      "https://conda.anaconda.org/conda-forge/linux-64/icu-67.1-he1b5a44_0.tar.bz2\n",
      "https://conda.anaconda.org/conda-forge/linux-64/jpeg-9d-h516909a_0.tar.bz2\n",
      "https://conda.anaconda.org/conda-forge/linux-64/libev-4.33-h516909a_1.tar.bz2\n",
      "https://conda.anaconda.org/conda-forge/linux-64/libffi-3.2.1-he1b5a44_1007.tar.bz2\n",
      "https://conda.anaconda.org/conda-forge/linux-64/libiconv-1.16-h516909a_0.tar.bz2\n",
      "https://conda.anaconda.org/conda-forge/linux-64/libopenblas-0.3.12-pthreads_h4812303_1.tar.bz2\n",
      "https://conda.anaconda.org/conda-forge/linux-64/libsodium-1.0.18-h516909a_1.tar.bz2\n",
      "https://conda.anaconda.org/conda-forge/linux-64/libuv-1.40.0-hd18ef5c_0.tar.bz2\n",
      "https://conda.anaconda.org/conda-forge/linux-64/libwebp-base-1.1.0-h516909a_3.tar.bz2\n",
      "https://conda.anaconda.org/conda-forge/linux-64/lz4-c-1.9.2-he1b5a44_3.tar.bz2\n",
      "https://conda.anaconda.org/conda-forge/linux-64/ncurses-6.2-he1b5a44_2.tar.bz2\n",
      "https://conda.anaconda.org/conda-forge/linux-64/openssl-1.1.1h-h516909a_0.tar.bz2\n",
      "https://conda.anaconda.org/conda-forge/linux-64/pcre-8.44-he1b5a44_0.tar.bz2\n",
      "https://conda.anaconda.org/conda-forge/linux-64/perl-5.26.2-h516909a_1006.tar.bz2\n",
      "https://conda.anaconda.org/conda-forge/linux-64/tini-0.18.0-h14c3975_1001.tar.bz2\n",
      "https://conda.anaconda.org/conda-forge/linux-64/xz-5.2.5-h516909a_1.tar.bz2\n",
      "https://conda.anaconda.org/conda-forge/linux-64/yaml-0.2.5-h516909a_0.tar.bz2\n",
      "https://conda.anaconda.org/conda-forge/linux-64/zlib-1.2.11-h516909a_1010.tar.bz2\n",
      "https://conda.anaconda.org/conda-forge/linux-64/gettext-0.19.8.1-hf34092f_1004.tar.bz2\n",
      "https://conda.anaconda.org/conda-forge/linux-64/hdf4-4.2.13-hf30be14_1003.tar.bz2\n",
      "https://conda.anaconda.org/conda-forge/linux-64/libblas-3.9.0-1_openblas.tar.bz2\n",
      "https://conda.anaconda.org/conda-forge/linux-64/libedit-3.1.20191231-he28a2e2_2.tar.bz2\n",
      "https://conda.anaconda.org/conda-forge/linux-64/libllvm10-10.0.1-he513fc3_3.tar.bz2\n",
      "https://conda.anaconda.org/conda-forge/linux-64/libnghttp2-1.41.0-h8cfc5f6_2.tar.bz2\n",
      "https://conda.anaconda.org/conda-forge/linux-64/libpng-1.6.37-hed695b0_2.tar.bz2\n",
      "https://conda.anaconda.org/conda-forge/linux-64/libssh2-1.9.0-hab1572f_5.tar.bz2\n",
      "https://conda.anaconda.org/conda-forge/linux-64/nodejs-14.14.0-h568c755_0.tar.bz2\n",
      "https://conda.anaconda.org/conda-forge/linux-64/readline-8.0-he28a2e2_2.tar.bz2\n",
      "https://conda.anaconda.org/conda-forge/linux-64/tk-8.6.10-hed695b0_1.tar.bz2\n",
      "https://conda.anaconda.org/conda-forge/linux-64/zeromq-4.3.3-he1b5a44_2.tar.bz2\n",
      "https://conda.anaconda.org/conda-forge/linux-64/zstd-1.4.5-h6597ccf_2.tar.bz2\n",
      "https://conda.anaconda.org/conda-forge/linux-64/configurable-http-proxy-1.3.0-0.tar.bz2\n",
      "https://conda.anaconda.org/conda-forge/linux-64/freetype-2.10.4-he06d7ca_0.tar.bz2\n",
      "https://conda.anaconda.org/conda-forge/linux-64/krb5-1.17.1-hfafb76e_3.tar.bz2\n",
      "https://conda.anaconda.org/conda-forge/linux-64/libcblas-3.9.0-1_openblas.tar.bz2\n",
      "https://conda.anaconda.org/conda-forge/linux-64/liblapack-3.9.0-1_openblas.tar.bz2\n",
      "https://conda.anaconda.org/conda-forge/linux-64/libtiff-4.1.0-hc7e4089_6.tar.bz2\n",
      "https://conda.anaconda.org/conda-forge/linux-64/sqlite-3.33.0-h4cf870e_1.tar.bz2\n",
      "https://conda.anaconda.org/conda-forge/linux-64/lcms2-2.11-hbd6801e_0.tar.bz2\n",
      "https://conda.anaconda.org/conda-forge/linux-64/libcurl-7.71.1-hcdd3856_8.tar.bz2\n",
      "https://conda.anaconda.org/conda-forge/linux-64/python-3.8.6-h852b56e_0_cpython.tar.bz2\n",
      "https://conda.anaconda.org/conda-forge/noarch/appdirs-1.4.4-pyh9f0ad1d_0.tar.bz2\n",
      "https://conda.anaconda.org/conda-forge/noarch/asciitree-0.3.3-py_2.tar.bz2\n",
      "https://conda.anaconda.org/conda-forge/noarch/async-timeout-3.0.1-py_1000.tar.bz2\n",
      "https://conda.anaconda.org/conda-forge/noarch/async_generator-1.10-py_0.tar.bz2\n",
      "https://conda.anaconda.org/conda-forge/noarch/attrs-20.2.0-pyh9f0ad1d_0.tar.bz2\n",
      "https://conda.anaconda.org/conda-forge/noarch/backcall-0.2.0-pyh9f0ad1d_0.tar.bz2\n",
      "https://conda.anaconda.org/conda-forge/noarch/backports-1.0-py_2.tar.bz2\n",
      "https://conda.anaconda.org/conda-forge/noarch/blinker-1.4-py_1.tar.bz2\n",
      "https://conda.anaconda.org/conda-forge/noarch/click-7.1.2-pyh9f0ad1d_0.tar.bz2\n",
      "https://conda.anaconda.org/conda-forge/noarch/cloudpickle-1.6.0-py_0.tar.bz2\n",
      "https://conda.anaconda.org/conda-forge/linux-64/curl-7.71.1-he644dc0_8.tar.bz2\n",
      "https://conda.anaconda.org/conda-forge/noarch/dataclasses-0.7-pyhb2cacf7_7.tar.bz2\n",
      "https://conda.anaconda.org/conda-forge/noarch/decorator-4.4.2-py_0.tar.bz2\n",
      "https://conda.anaconda.org/conda-forge/noarch/defusedxml-0.6.0-py_0.tar.bz2\n",
      "https://conda.anaconda.org/conda-forge/noarch/fsspec-0.8.4-py_0.tar.bz2\n",
      "https://conda.anaconda.org/conda-forge/linux-64/hdf5-1.10.6-nompi_h1022a3e_1110.tar.bz2\n",
      "https://conda.anaconda.org/conda-forge/noarch/heapdict-1.0.1-py_0.tar.bz2\n",
      "https://conda.anaconda.org/conda-forge/noarch/idna-2.10-pyh9f0ad1d_0.tar.bz2\n",
      "https://conda.anaconda.org/conda-forge/noarch/iniconfig-1.1.1-pyh9f0ad1d_0.tar.bz2\n",
      "https://conda.anaconda.org/conda-forge/noarch/ipython_genutils-0.2.0-py_1.tar.bz2\n",
      "https://conda.anaconda.org/conda-forge/noarch/json5-0.9.5-pyh9f0ad1d_0.tar.bz2\n",
      "https://conda.anaconda.org/conda-forge/noarch/locket-0.2.0-py_2.tar.bz2\n",
      "https://conda.anaconda.org/conda-forge/noarch/monotonic-1.5-py_0.tar.bz2\n",
      "https://conda.anaconda.org/conda-forge/noarch/more-itertools-8.5.0-py_0.tar.bz2\n",
      "https://conda.anaconda.org/conda-forge/noarch/nest-asyncio-1.4.1-py_0.tar.bz2\n",
      "https://conda.anaconda.org/conda-forge/noarch/olefile-0.46-pyh9f0ad1d_1.tar.bz2\n",
      "https://conda.anaconda.org/conda-forge/noarch/pamela-1.0.0-py_0.tar.bz2\n",
      "https://conda.anaconda.org/conda-forge/noarch/pandocfilters-1.4.2-py_1.tar.bz2\n",
      "https://conda.anaconda.org/conda-forge/noarch/param-1.10.0-py_0.tar.bz2\n",
      "https://conda.anaconda.org/conda-forge/noarch/parso-0.7.1-pyh9f0ad1d_0.tar.bz2\n",
      "https://conda.anaconda.org/conda-forge/noarch/pathspec-0.8.0-pyh9f0ad1d_0.tar.bz2\n",
      "https://conda.anaconda.org/conda-forge/noarch/pickleshare-0.7.5-py_1003.tar.bz2\n",
      "https://conda.anaconda.org/conda-forge/linux-64/proj-7.1.1-h966b41f_3.tar.bz2\n",
      "https://conda.anaconda.org/conda-forge/noarch/prometheus_client-0.8.0-pyh9f0ad1d_0.tar.bz2\n",
      "https://conda.anaconda.org/conda-forge/noarch/ptyprocess-0.6.0-py_1001.tar.bz2\n",
      "https://conda.anaconda.org/conda-forge/noarch/py-1.9.0-pyh9f0ad1d_0.tar.bz2\n",
      "https://conda.anaconda.org/conda-forge/noarch/pycparser-2.20-pyh9f0ad1d_2.tar.bz2\n",
      "https://conda.anaconda.org/conda-forge/noarch/pyparsing-2.4.7-pyh9f0ad1d_0.tar.bz2\n",
      "https://conda.anaconda.org/conda-forge/noarch/pyshp-2.1.2-pyh9f0ad1d_0.tar.bz2\n",
      "https://conda.anaconda.org/conda-forge/noarch/python-editor-1.0.4-py_0.tar.bz2\n",
      "https://conda.anaconda.org/conda-forge/noarch/python-json-logger-2.0.1-pyh9f0ad1d_0.tar.bz2\n",
      "https://conda.anaconda.org/conda-forge/linux-64/python_abi-3.8-1_cp38.tar.bz2\n",
      "https://conda.anaconda.org/conda-forge/noarch/pytz-2020.1-pyh9f0ad1d_0.tar.bz2\n",
      "https://conda.anaconda.org/conda-forge/noarch/send2trash-1.5.0-py_0.tar.bz2\n",
      "https://conda.anaconda.org/conda-forge/noarch/simpervisor-0.3-py_1.tar.bz2\n",
      "https://conda.anaconda.org/conda-forge/noarch/six-1.15.0-pyh9f0ad1d_0.tar.bz2\n",
      "https://conda.anaconda.org/conda-forge/noarch/sortedcontainers-2.2.2-pyh9f0ad1d_0.tar.bz2\n",
      "https://conda.anaconda.org/conda-forge/noarch/tblib-1.6.0-py_0.tar.bz2\n",
      "https://conda.anaconda.org/conda-forge/noarch/testpath-0.4.4-py_0.tar.bz2\n",
      "https://conda.anaconda.org/conda-forge/noarch/textwrap3-0.9.2-py_0.tar.bz2\n",
      "https://conda.anaconda.org/conda-forge/noarch/toml-0.10.1-pyh9f0ad1d_0.tar.bz2\n",
      "https://conda.anaconda.org/conda-forge/noarch/toolz-0.11.1-py_0.tar.bz2\n",
      "https://conda.anaconda.org/conda-forge/noarch/tqdm-4.50.2-pyh9f0ad1d_0.tar.bz2\n",
      "https://conda.anaconda.org/conda-forge/linux-64/typed-ast-1.4.1-py38h516909a_0.tar.bz2\n",
      "https://conda.anaconda.org/conda-forge/noarch/typing_extensions-3.7.4.3-py_0.tar.bz2\n",
      "https://conda.anaconda.org/conda-forge/noarch/webencodings-0.5.1-py_1.tar.bz2\n",
      "https://conda.anaconda.org/conda-forge/noarch/wheel-0.35.1-pyh9f0ad1d_0.tar.bz2\n",
      "https://conda.anaconda.org/conda-forge/noarch/zipp-3.3.2-py_0.tar.bz2\n",
      "https://conda.anaconda.org/conda-forge/noarch/ansiwrap-0.8.4-py_0.tar.bz2\n",
      "https://conda.anaconda.org/conda-forge/linux-64/certifi-2020.6.20-py38h924ce5b_2.tar.bz2\n",
      "https://conda.anaconda.org/conda-forge/linux-64/cffi-1.14.3-py38h1bdcb99_1.tar.bz2\n",
      "https://conda.anaconda.org/conda-forge/linux-64/chardet-3.0.4-py38h924ce5b_1008.tar.bz2\n",
      "https://conda.anaconda.org/conda-forge/linux-64/conda-package-handling-1.7.2-py38h8df0ef7_0.tar.bz2\n",
      "https://conda.anaconda.org/conda-forge/linux-64/coverage-5.3-py38h1e0a361_1.tar.bz2\n",
      "https://conda.anaconda.org/conda-forge/noarch/cycler-0.10.0-py_2.tar.bz2\n",
      "https://conda.anaconda.org/conda-forge/linux-64/cytoolz-0.11.0-py38h1e0a361_1.tar.bz2\n",
      "https://conda.anaconda.org/conda-forge/noarch/docrep-0.2.7-py_0.tar.bz2\n",
      "https://conda.anaconda.org/conda-forge/linux-64/entrypoints-0.3-py38h32f6830_1002.tar.bz2\n",
      "https://conda.anaconda.org/conda-forge/noarch/fasteners-0.14.1-py_3.tar.bz2\n",
      "https://conda.anaconda.org/conda-forge/linux-64/future-0.18.2-py38h32f6830_2.tar.bz2\n",
      "https://conda.anaconda.org/conda-forge/linux-64/git-2.29.1-pl5262he3b78ea_0.tar.bz2\n",
      "https://conda.anaconda.org/conda-forge/noarch/importlib-metadata-2.0.0-py_1.tar.bz2\n",
      "https://conda.anaconda.org/conda-forge/linux-64/jedi-0.17.2-py38h32f6830_1.tar.bz2\n",
      "https://conda.anaconda.org/conda-forge/linux-64/kiwisolver-1.2.0-py38hbf85e49_1.tar.bz2\n",
      "https://conda.anaconda.org/conda-forge/linux-64/libnetcdf-4.7.4-nompi_hefab0ff_106.tar.bz2\n",
      "https://conda.anaconda.org/conda-forge/linux-64/llvmlite-0.34.0-py38h4f45e52_2.tar.bz2\n",
      "https://conda.anaconda.org/conda-forge/noarch/markdown-it-py-0.5.6-py_0.tar.bz2\n",
      "https://conda.anaconda.org/conda-forge/linux-64/markupsafe-1.1.1-py38h8df0ef7_2.tar.bz2\n",
      "https://conda.anaconda.org/conda-forge/linux-64/mistune-0.8.4-py38h1e0a361_1002.tar.bz2\n",
      "https://conda.anaconda.org/conda-forge/linux-64/msgpack-python-1.0.0-py38hbf85e49_2.tar.bz2\n",
      "https://conda.anaconda.org/conda-forge/linux-64/multidict-4.7.5-py38h1e0a361_2.tar.bz2\n",
      "https://conda.anaconda.org/conda-forge/linux-64/mypy_extensions-0.4.3-py38h32f6830_2.tar.bz2\n",
      "https://conda.anaconda.org/conda-forge/linux-64/numpy-1.19.2-py38hf89b668_1.tar.bz2\n",
      "https://conda.anaconda.org/conda-forge/noarch/packaging-20.4-pyh9f0ad1d_0.tar.bz2\n",
      "https://conda.anaconda.org/conda-forge/noarch/partd-1.1.0-py_0.tar.bz2\n",
      "https://conda.anaconda.org/conda-forge/noarch/pexpect-4.8.0-pyh9f0ad1d_2.tar.bz2\n",
      "https://conda.anaconda.org/conda-forge/linux-64/pillow-8.0.1-py38h9776b28_0.tar.bz2\n",
      "https://conda.anaconda.org/conda-forge/linux-64/pluggy-0.13.1-py38h924ce5b_3.tar.bz2\n",
      "https://conda.anaconda.org/conda-forge/linux-64/psutil-5.7.3-py38h8df0ef7_0.tar.bz2\n",
      "https://conda.anaconda.org/conda-forge/linux-64/pycosat-0.6.3-py38h8df0ef7_1005.tar.bz2\n",
      "https://conda.anaconda.org/conda-forge/noarch/pyct-core-0.4.6-py_0.tar.bz2\n",
      "https://conda.anaconda.org/conda-forge/linux-64/pycurl-7.43.0.6-py38hd8bd627_0.tar.bz2\n",
      "https://conda.anaconda.org/conda-forge/linux-64/pyproj-2.6.1.post1-py38h56787f0_3.tar.bz2\n",
      "https://conda.anaconda.org/conda-forge/linux-64/pyrsistent-0.17.3-py38h1e0a361_1.tar.bz2\n",
      "https://conda.anaconda.org/conda-forge/linux-64/pysocks-1.7.1-py38h924ce5b_2.tar.bz2\n",
      "https://conda.anaconda.org/conda-forge/noarch/python-dateutil-2.8.1-py_0.tar.bz2\n",
      "https://conda.anaconda.org/conda-forge/noarch/pyviz_comms-0.7.6-pyh9f0ad1d_0.tar.bz2\n",
      "https://conda.anaconda.org/conda-forge/linux-64/pyyaml-5.3.1-py38h8df0ef7_1.tar.bz2\n",
      "https://conda.anaconda.org/conda-forge/linux-64/pyzmq-19.0.2-py38ha71036d_2.tar.bz2\n",
      "https://conda.anaconda.org/conda-forge/linux-64/regex-2020.10.23-py38h1e0a361_0.tar.bz2\n",
      "https://conda.anaconda.org/conda-forge/linux-64/ruamel.yaml.clib-0.2.2-py38h1e0a361_1.tar.bz2\n",
      "https://conda.anaconda.org/conda-forge/linux-64/ruamel_yaml-0.15.80-py38h8df0ef7_1003.tar.bz2\n",
      "https://conda.anaconda.org/conda-forge/linux-64/sqlalchemy-1.3.20-py38h1e0a361_0.tar.bz2\n",
      "https://conda.anaconda.org/conda-forge/noarch/tenacity-6.2.0-py_1.tar.bz2\n",
      "https://conda.anaconda.org/conda-forge/linux-64/thrift-0.11.0-py38he1b5a44_1001.tar.bz2\n",
      "https://conda.anaconda.org/conda-forge/linux-64/tornado-6.0.4-py38h1e0a361_2.tar.bz2\n",
      "https://conda.anaconda.org/conda-forge/noarch/traitlets-5.0.5-py_0.tar.bz2\n",
      "https://conda.anaconda.org/conda-forge/noarch/zict-2.0.0-py_0.tar.bz2\n",
      "https://conda.anaconda.org/conda-forge/linux-64/argon2-cffi-20.1.0-py38h1e0a361_2.tar.bz2\n",
      "https://conda.anaconda.org/conda-forge/noarch/black-20.8b1-py_1.tar.bz2\n",
      "https://conda.anaconda.org/conda-forge/linux-64/brotlipy-0.7.0-py38h8df0ef7_1001.tar.bz2\n",
      "https://conda.anaconda.org/conda-forge/linux-64/cftime-1.2.1-py38hab2c0dc_1.tar.bz2\n",
      "https://conda.anaconda.org/conda-forge/noarch/colorspacious-1.1.2-pyh24bf2e0_0.tar.bz2\n",
      "https://conda.anaconda.org/conda-forge/linux-64/cryptography-3.1.1-py38hb23e4d4_1.tar.bz2\n",
      "https://conda.anaconda.org/conda-forge/noarch/dask-core-2.30.0-py_0.tar.bz2\n",
      "https://conda.anaconda.org/conda-forge/linux-64/gsw-3.4.0-py38hab2c0dc_1.tar.bz2\n",
      "https://conda.anaconda.org/conda-forge/linux-64/h5py-2.10.0-nompi_py38h7442b35_105.tar.bz2\n",
      "https://conda.anaconda.org/conda-forge/noarch/importlib_metadata-2.0.0-1.tar.bz2\n",
      "https://conda.anaconda.org/conda-forge/linux-64/jupyter_core-4.6.3-py38h32f6830_2.tar.bz2\n",
      "https://conda.anaconda.org/conda-forge/noarch/mako-1.1.3-pyh9f0ad1d_0.tar.bz2\n",
      "https://conda.anaconda.org/conda-forge/noarch/markdown-3.3.2-pyh9f0ad1d_0.tar.bz2\n",
      "https://conda.anaconda.org/conda-forge/linux-64/numcodecs-0.7.2-py38h950e882_1.tar.bz2\n",
      "https://conda.anaconda.org/conda-forge/linux-64/pandas-1.1.3-py38hddd6c8b_2.tar.bz2\n",
      "https://conda.anaconda.org/conda-forge/linux-64/pytest-6.1.1-py38h924ce5b_1.tar.bz2\n",
      "https://conda.anaconda.org/conda-forge/linux-64/scipy-1.5.2-py38hd648e70_2.tar.bz2\n",
      "https://conda.anaconda.org/conda-forge/noarch/seawater-3.3.4-py_1.tar.bz2\n",
      "https://conda.anaconda.org/conda-forge/linux-64/setuptools-49.6.0-py38h924ce5b_2.tar.bz2\n",
      "https://conda.anaconda.org/conda-forge/linux-64/shapely-1.7.1-py38hc7361b7_1.tar.bz2\n",
      "https://conda.anaconda.org/conda-forge/linux-64/terminado-0.9.1-py38h32f6830_1.tar.bz2\n",
      "https://conda.anaconda.org/conda-forge/linux-64/yarl-1.6.2-py38h1e0a361_0.tar.bz2\n",
      "https://conda.anaconda.org/conda-forge/linux-64/aiohttp-3.7.0-py38h1e0a361_0.tar.bz2\n",
      "https://conda.anaconda.org/conda-forge/noarch/alembic-1.4.3-pyh9f0ad1d_0.tar.bz2\n",
      "https://conda.anaconda.org/conda-forge/noarch/backports.functools_lru_cache-1.6.1-py_0.tar.bz2\n",
      "https://conda.anaconda.org/conda-forge/noarch/bleach-3.2.1-pyh9f0ad1d_0.tar.bz2\n",
      "https://conda.anaconda.org/conda-forge/linux-64/cartopy-0.18.0-py38h88488af_4.tar.bz2\n",
      "https://conda.anaconda.org/conda-forge/linux-64/distributed-2.30.0-py38h32f6830_1.tar.bz2\n",
      "https://conda.anaconda.org/conda-forge/noarch/h5netcdf-0.8.1-py_0.tar.bz2\n",
      "https://conda.anaconda.org/conda-forge/noarch/jinja2-2.11.2-pyh9f0ad1d_0.tar.bz2\n",
      "https://conda.anaconda.org/conda-forge/noarch/jsonschema-3.2.0-py_2.tar.bz2\n",
      "https://conda.anaconda.org/conda-forge/noarch/jupyter_client-6.1.7-py_0.tar.bz2\n",
      "https://conda.anaconda.org/conda-forge/linux-64/matplotlib-base-3.3.2-py38h4d1ce4f_1.tar.bz2\n",
      "https://conda.anaconda.org/conda-forge/linux-64/netcdf4-1.5.4-nompi_py38hec8b9af_103.tar.bz2\n",
      "https://conda.anaconda.org/conda-forge/linux-64/numba-0.51.2-py38hc5bc63f_0.tar.bz2\n",
      "https://conda.anaconda.org/conda-forge/noarch/patsy-0.5.1-py_0.tar.bz2\n",
      "https://conda.anaconda.org/conda-forge/noarch/pip-20.2.4-py_0.tar.bz2\n",
      "https://conda.anaconda.org/conda-forge/noarch/pygments-2.7.2-py_0.tar.bz2\n",
      "https://conda.anaconda.org/conda-forge/noarch/pyjwt-1.7.1-py_0.tar.bz2\n",
      "https://conda.anaconda.org/conda-forge/noarch/pyopenssl-19.1.0-py_1.tar.bz2\n",
      "https://conda.anaconda.org/conda-forge/linux-64/ruamel.yaml-0.16.12-py38h1e0a361_1.tar.bz2\n",
      "https://conda.anaconda.org/conda-forge/noarch/xarray-0.16.1-py_0.tar.bz2\n",
      "https://conda.anaconda.org/conda-forge/noarch/zarr-2.4.0-py_0.tar.bz2\n",
      "https://conda.anaconda.org/conda-forge/linux-64/basemap-1.2.2-py38h88488af_2.tar.bz2\n",
      "https://conda.anaconda.org/conda-forge/linux-64/bokeh-2.2.3-py38h32f6830_0.tar.bz2\n",
      "https://conda.anaconda.org/conda-forge/noarch/cartopy_offlinedata-0.2.3-pyh9f0ad1d_0.tar.bz2\n",
      "https://conda.anaconda.org/conda-forge/noarch/certipy-0.1.3-py_0.tar.bz2\n",
      "https://conda.anaconda.org/conda-forge/noarch/cmaps-1.0.3-pyh9f0ad1d_0.tar.bz2\n",
      "https://conda.anaconda.org/conda-forge/noarch/cmocean-2.0-py_3.tar.bz2\n",
      "https://conda.anaconda.org/conda-forge/noarch/dask-jobqueue-0.7.1-py_0.tar.bz2\n",
      "https://conda.anaconda.org/conda-forge/linux-64/fastparquet-0.4.1-py38h8790de6_0.tar.bz2\n",
      "https://conda.anaconda.org/conda-forge/noarch/jupyter_telemetry-0.0.5-py_0.tar.bz2\n",
      "https://conda.anaconda.org/conda-forge/noarch/jupyterlab_pygments-0.1.2-pyh9f0ad1d_0.tar.bz2\n",
      "https://conda.anaconda.org/conda-forge/noarch/nbformat-5.0.8-py_0.tar.bz2\n",
      "https://conda.anaconda.org/conda-forge/noarch/oauthlib-3.0.1-py_0.tar.bz2\n",
      "https://conda.anaconda.org/conda-forge/noarch/seaborn-base-0.11.0-py_0.tar.bz2\n",
      "https://conda.anaconda.org/conda-forge/linux-64/statsmodels-0.12.0-py38hab2c0dc_1.tar.bz2\n",
      "https://conda.anaconda.org/conda-forge/noarch/urllib3-1.25.11-py_0.tar.bz2\n",
      "https://conda.anaconda.org/conda-forge/noarch/wcwidth-0.2.5-pyh9f0ad1d_2.tar.bz2\n",
      "https://conda.anaconda.org/conda-forge/noarch/dask-2.30.0-py_0.tar.bz2\n",
      "https://conda.anaconda.org/conda-forge/noarch/jupytext-1.6.0-pyh9f0ad1d_0.tar.bz2\n",
      "https://conda.anaconda.org/conda-forge/noarch/nbclient-0.5.1-py_0.tar.bz2\n",
      "https://conda.anaconda.org/conda-forge/noarch/prompt-toolkit-3.0.8-py_0.tar.bz2\n",
      "https://conda.anaconda.org/conda-forge/noarch/requests-2.24.0-pyh9f0ad1d_0.tar.bz2\n",
      "https://conda.anaconda.org/conda-forge/linux-64/seaborn-0.11.0-0.tar.bz2\n",
      "https://conda.anaconda.org/conda-forge/linux-64/conda-4.9.0-py38h924ce5b_1.tar.bz2\n",
      "https://conda.anaconda.org/conda-forge/noarch/intake-0.6.0-py_0.tar.bz2\n",
      "https://conda.anaconda.org/conda-forge/linux-64/ipython-7.18.1-py38h1cdfbd6_1.tar.bz2\n",
      "https://conda.anaconda.org/conda-forge/linux-64/jupyterhub-base-1.1.0-py38h32f6830_5.tar.bz2\n",
      "https://conda.anaconda.org/conda-forge/linux-64/nbconvert-6.0.7-py38h32f6830_1.tar.bz2\n",
      "https://conda.anaconda.org/conda-forge/noarch/papermill-2.2.0-py_1.tar.bz2\n",
      "https://conda.anaconda.org/conda-forge/noarch/pyct-0.4.6-py_0.tar.bz2\n",
      "https://conda.anaconda.org/conda-forge/noarch/xgcm-0.5.1-py_0.tar.bz2\n",
      "https://conda.anaconda.org/conda-forge/noarch/xhistogram-0.1.1-py_0.tar.bz2\n",
      "https://conda.anaconda.org/conda-forge/noarch/colorcet-2.0.1-py_0.tar.bz2\n",
      "https://conda.anaconda.org/conda-forge/noarch/intake-xarray-0.4.0-py_0.tar.bz2\n",
      "https://conda.anaconda.org/conda-forge/linux-64/ipykernel-5.3.4-py38h1cdfbd6_1.tar.bz2\n",
      "https://conda.anaconda.org/conda-forge/linux-64/jupyterhub-1.1.0-py38h32f6830_5.tar.bz2\n",
      "https://conda.anaconda.org/conda-forge/noarch/panel-0.9.7-py_0.tar.bz2\n",
      "https://conda.anaconda.org/conda-forge/noarch/nbval-0.9.6-pyh9f0ad1d_0.tar.bz2\n",
      "https://conda.anaconda.org/conda-forge/linux-64/notebook-6.1.4-py38h32f6830_1.tar.bz2\n",
      "https://conda.anaconda.org/conda-forge/noarch/holoviews-1.13.4-pyh9f0ad1d_0.tar.bz2\n",
      "https://conda.anaconda.org/conda-forge/noarch/jupyter-server-proxy-1.5.0-py_0.tar.bz2\n",
      "https://conda.anaconda.org/conda-forge/noarch/jupyterlab_server-1.2.0-py_0.tar.bz2\n",
      "https://conda.anaconda.org/conda-forge/noarch/nbgitpuller-0.9.0-py_0.tar.bz2\n",
      "https://conda.anaconda.org/conda-forge/noarch/dask-labextension-3.0.0-py_0.tar.bz2\n",
      "https://conda.anaconda.org/conda-forge/noarch/hvplot-0.6.0-pyh9f0ad1d_0.tar.bz2\n",
      "https://conda.anaconda.org/conda-forge/noarch/jupyterlab-2.2.8-py_0.tar.bz2\n"
     ]
    }
   ],
   "source": [
    "!conda list --explicit"
   ]
  },
  {
   "cell_type": "code",
   "execution_count": null,
   "metadata": {},
   "outputs": [],
   "source": []
  }
 ],
 "metadata": {
  "kernelspec": {
   "display_name": "Python 3",
   "language": "python",
   "name": "python3"
  },
  "language_info": {
   "codemirror_mode": {
    "name": "ipython",
    "version": 3
   },
   "file_extension": ".py",
   "mimetype": "text/x-python",
   "name": "python",
   "nbconvert_exporter": "python",
   "pygments_lexer": "ipython3",
   "version": "3.8.6"
  }
 },
 "nbformat": 4,
 "nbformat_minor": 4
}
