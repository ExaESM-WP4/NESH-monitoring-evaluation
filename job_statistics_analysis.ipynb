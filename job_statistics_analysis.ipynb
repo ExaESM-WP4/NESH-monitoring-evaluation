{
 "cells": [
  {
   "cell_type": "markdown",
   "metadata": {},
   "source": [
    "# Job characteristics analysis"
   ]
  },
  {
   "cell_type": "code",
   "execution_count": 1,
   "metadata": {},
   "outputs": [],
   "source": [
    "import pandas as pd\n",
    "import numpy as np\n",
    "import matplotlib.pyplot as plt"
   ]
  },
  {
   "cell_type": "markdown",
   "metadata": {},
   "source": [
    "## Read logs"
   ]
  },
  {
   "cell_type": "code",
   "execution_count": 2,
   "metadata": {},
   "outputs": [],
   "source": [
    "job_chars = pd.read_parquet('data/job_chars.parquet')"
   ]
  },
  {
   "cell_type": "code",
   "execution_count": 3,
   "metadata": {},
   "outputs": [
    {
     "data": {
      "text/html": [
       "<div>\n",
       "<style scoped>\n",
       "    .dataframe tbody tr th:only-of-type {\n",
       "        vertical-align: middle;\n",
       "    }\n",
       "\n",
       "    .dataframe tbody tr th {\n",
       "        vertical-align: top;\n",
       "    }\n",
       "\n",
       "    .dataframe thead th {\n",
       "        text-align: right;\n",
       "    }\n",
       "</style>\n",
       "<table border=\"1\" class=\"dataframe\">\n",
       "  <thead>\n",
       "    <tr style=\"text-align: right;\">\n",
       "      <th></th>\n",
       "      <th>Batch_class</th>\n",
       "      <th>Submission_date</th>\n",
       "      <th>Waited</th>\n",
       "      <th>Start_date</th>\n",
       "      <th>Duration</th>\n",
       "      <th>Nodes</th>\n",
       "      <th>CPU</th>\n",
       "      <th>Memory</th>\n",
       "      <th>delta_CPU</th>\n",
       "      <th>delta_Memory</th>\n",
       "    </tr>\n",
       "    <tr>\n",
       "      <th>index</th>\n",
       "      <th></th>\n",
       "      <th></th>\n",
       "      <th></th>\n",
       "      <th></th>\n",
       "      <th></th>\n",
       "      <th></th>\n",
       "      <th></th>\n",
       "      <th></th>\n",
       "      <th></th>\n",
       "      <th></th>\n",
       "    </tr>\n",
       "  </thead>\n",
       "  <tbody>\n",
       "    <tr>\n",
       "      <th>000030ecd19c9c04</th>\n",
       "      <td>feque</td>\n",
       "      <td>2020-02-18 11:14:38+01:00</td>\n",
       "      <td>29.916667</td>\n",
       "      <td>2020-02-18 11:44:33+01:00</td>\n",
       "      <td>1.450000</td>\n",
       "      <td>1.0</td>\n",
       "      <td>0.168851</td>\n",
       "      <td>0.31349</td>\n",
       "      <td>0.000000</td>\n",
       "      <td>0.000000</td>\n",
       "    </tr>\n",
       "    <tr>\n",
       "      <th>00020fcd04947084</th>\n",
       "      <td>clexpres</td>\n",
       "      <td>2020-05-30 11:50:05+02:00</td>\n",
       "      <td>5.383333</td>\n",
       "      <td>2020-05-30 11:55:28+02:00</td>\n",
       "      <td>4.700000</td>\n",
       "      <td>2.0</td>\n",
       "      <td>31.315993</td>\n",
       "      <td>2.02000</td>\n",
       "      <td>0.000000</td>\n",
       "      <td>0.000000</td>\n",
       "    </tr>\n",
       "    <tr>\n",
       "      <th>0002286e1d7e428d</th>\n",
       "      <td>clmedium</td>\n",
       "      <td>NaT</td>\n",
       "      <td>NaN</td>\n",
       "      <td>2020-09-28 07:55:47+02:00</td>\n",
       "      <td>60.716667</td>\n",
       "      <td>1.0</td>\n",
       "      <td>0.989072</td>\n",
       "      <td>0.04895</td>\n",
       "      <td>0.502306</td>\n",
       "      <td>0.005687</td>\n",
       "    </tr>\n",
       "    <tr>\n",
       "      <th>00024ec1bf68e413</th>\n",
       "      <td>clfo2</td>\n",
       "      <td>NaT</td>\n",
       "      <td>NaN</td>\n",
       "      <td>2020-06-29 01:05:19+02:00</td>\n",
       "      <td>0.116667</td>\n",
       "      <td>1.0</td>\n",
       "      <td>0.000000</td>\n",
       "      <td>0.00000</td>\n",
       "      <td>0.000000</td>\n",
       "      <td>0.000000</td>\n",
       "    </tr>\n",
       "    <tr>\n",
       "      <th>00027e89035bec8d</th>\n",
       "      <td>clmedium</td>\n",
       "      <td>2020-03-25 21:22:02+01:00</td>\n",
       "      <td>38.783333</td>\n",
       "      <td>2020-03-25 22:00:49+01:00</td>\n",
       "      <td>1.283333</td>\n",
       "      <td>1.0</td>\n",
       "      <td>21.721169</td>\n",
       "      <td>131.76000</td>\n",
       "      <td>0.000000</td>\n",
       "      <td>0.000000</td>\n",
       "    </tr>\n",
       "    <tr>\n",
       "      <th>...</th>\n",
       "      <td>...</td>\n",
       "      <td>...</td>\n",
       "      <td>...</td>\n",
       "      <td>...</td>\n",
       "      <td>...</td>\n",
       "      <td>...</td>\n",
       "      <td>...</td>\n",
       "      <td>...</td>\n",
       "      <td>...</td>\n",
       "      <td>...</td>\n",
       "    </tr>\n",
       "    <tr>\n",
       "      <th>fffbfaccf8c9fbf4</th>\n",
       "      <td>clexpres</td>\n",
       "      <td>NaT</td>\n",
       "      <td>NaN</td>\n",
       "      <td>2020-03-27 15:05:44+01:00</td>\n",
       "      <td>5.033333</td>\n",
       "      <td>1.0</td>\n",
       "      <td>0.190265</td>\n",
       "      <td>0.11484</td>\n",
       "      <td>0.000000</td>\n",
       "      <td>0.000000</td>\n",
       "    </tr>\n",
       "    <tr>\n",
       "      <th>fffd086716a4d46c</th>\n",
       "      <td>cllong</td>\n",
       "      <td>NaT</td>\n",
       "      <td>NaN</td>\n",
       "      <td>2020-09-14 00:40:27+02:00</td>\n",
       "      <td>143.616667</td>\n",
       "      <td>1.0</td>\n",
       "      <td>0.994714</td>\n",
       "      <td>0.46693</td>\n",
       "      <td>0.025502</td>\n",
       "      <td>0.000300</td>\n",
       "    </tr>\n",
       "    <tr>\n",
       "      <th>ffff38341e8c6b3b</th>\n",
       "      <td>clmedium</td>\n",
       "      <td>2020-08-13 22:35:57+02:00</td>\n",
       "      <td>401.333333</td>\n",
       "      <td>2020-08-14 05:17:17+02:00</td>\n",
       "      <td>621.766667</td>\n",
       "      <td>8.0</td>\n",
       "      <td>31.858035</td>\n",
       "      <td>5.24000</td>\n",
       "      <td>0.662259</td>\n",
       "      <td>0.550000</td>\n",
       "    </tr>\n",
       "    <tr>\n",
       "      <th>ffff662620b8e573</th>\n",
       "      <td>clmedium</td>\n",
       "      <td>2020-06-12 00:00:38+02:00</td>\n",
       "      <td>65.850000</td>\n",
       "      <td>2020-06-12 01:06:29+02:00</td>\n",
       "      <td>304.666667</td>\n",
       "      <td>1.0</td>\n",
       "      <td>12.844902</td>\n",
       "      <td>14.81000</td>\n",
       "      <td>5.739389</td>\n",
       "      <td>8.583503</td>\n",
       "    </tr>\n",
       "    <tr>\n",
       "      <th>ffffddf606283b7b</th>\n",
       "      <td>feque</td>\n",
       "      <td>2020-02-18 15:32:52+01:00</td>\n",
       "      <td>10.966667</td>\n",
       "      <td>NaT</td>\n",
       "      <td>NaN</td>\n",
       "      <td>1.0</td>\n",
       "      <td>NaN</td>\n",
       "      <td>NaN</td>\n",
       "      <td>NaN</td>\n",
       "      <td>NaN</td>\n",
       "    </tr>\n",
       "  </tbody>\n",
       "</table>\n",
       "<p>126027 rows × 10 columns</p>\n",
       "</div>"
      ],
      "text/plain": [
       "                 Batch_class           Submission_date      Waited  \\\n",
       "index                                                                \n",
       "000030ecd19c9c04       feque 2020-02-18 11:14:38+01:00   29.916667   \n",
       "00020fcd04947084    clexpres 2020-05-30 11:50:05+02:00    5.383333   \n",
       "0002286e1d7e428d    clmedium                       NaT         NaN   \n",
       "00024ec1bf68e413       clfo2                       NaT         NaN   \n",
       "00027e89035bec8d    clmedium 2020-03-25 21:22:02+01:00   38.783333   \n",
       "...                      ...                       ...         ...   \n",
       "fffbfaccf8c9fbf4    clexpres                       NaT         NaN   \n",
       "fffd086716a4d46c      cllong                       NaT         NaN   \n",
       "ffff38341e8c6b3b    clmedium 2020-08-13 22:35:57+02:00  401.333333   \n",
       "ffff662620b8e573    clmedium 2020-06-12 00:00:38+02:00   65.850000   \n",
       "ffffddf606283b7b       feque 2020-02-18 15:32:52+01:00   10.966667   \n",
       "\n",
       "                                Start_date    Duration  Nodes        CPU  \\\n",
       "index                                                                      \n",
       "000030ecd19c9c04 2020-02-18 11:44:33+01:00    1.450000    1.0   0.168851   \n",
       "00020fcd04947084 2020-05-30 11:55:28+02:00    4.700000    2.0  31.315993   \n",
       "0002286e1d7e428d 2020-09-28 07:55:47+02:00   60.716667    1.0   0.989072   \n",
       "00024ec1bf68e413 2020-06-29 01:05:19+02:00    0.116667    1.0   0.000000   \n",
       "00027e89035bec8d 2020-03-25 22:00:49+01:00    1.283333    1.0  21.721169   \n",
       "...                                    ...         ...    ...        ...   \n",
       "fffbfaccf8c9fbf4 2020-03-27 15:05:44+01:00    5.033333    1.0   0.190265   \n",
       "fffd086716a4d46c 2020-09-14 00:40:27+02:00  143.616667    1.0   0.994714   \n",
       "ffff38341e8c6b3b 2020-08-14 05:17:17+02:00  621.766667    8.0  31.858035   \n",
       "ffff662620b8e573 2020-06-12 01:06:29+02:00  304.666667    1.0  12.844902   \n",
       "ffffddf606283b7b                       NaT         NaN    1.0        NaN   \n",
       "\n",
       "                     Memory  delta_CPU  delta_Memory  \n",
       "index                                                 \n",
       "000030ecd19c9c04    0.31349   0.000000      0.000000  \n",
       "00020fcd04947084    2.02000   0.000000      0.000000  \n",
       "0002286e1d7e428d    0.04895   0.502306      0.005687  \n",
       "00024ec1bf68e413    0.00000   0.000000      0.000000  \n",
       "00027e89035bec8d  131.76000   0.000000      0.000000  \n",
       "...                     ...        ...           ...  \n",
       "fffbfaccf8c9fbf4    0.11484   0.000000      0.000000  \n",
       "fffd086716a4d46c    0.46693   0.025502      0.000300  \n",
       "ffff38341e8c6b3b    5.24000   0.662259      0.550000  \n",
       "ffff662620b8e573   14.81000   5.739389      8.583503  \n",
       "ffffddf606283b7b        NaN        NaN           NaN  \n",
       "\n",
       "[126027 rows x 10 columns]"
      ]
     },
     "execution_count": 3,
     "metadata": {},
     "output_type": "execute_result"
    }
   ],
   "source": [
    "job_chars"
   ]
  },
  {
   "cell_type": "code",
   "execution_count": 15,
   "metadata": {},
   "outputs": [],
   "source": [
    "#Masks to separate queue type: 'clexpres', 'clmedium', 'cllong', 'clbigmem', 'clfo2'\n",
    "batch_classes = ['clexpres', 'clmedium', 'cllong', 'clbigmem', 'clfo2','feque']"
   ]
  },
  {
   "cell_type": "code",
   "execution_count": 12,
   "metadata": {},
   "outputs": [],
   "source": [
    "def daily_cycle_mean(df, queue_name, column):\n",
    "    queues = df.loc[df['Batch_class'].str.contains(queue_name)]\n",
    "    hourly = queues.groupby(queues['Start_date'].dt.hour)[column].mean()\n",
    "    return(hourly)\n",
    "\n",
    "def weekly_cycle_mean(df, queue_name, column):\n",
    "    week   = [ 'Monday', 'Tuesday', 'Wednesday', 'Thursday', 'Friday', 'Saturday', 'Sunday']\n",
    "    queues = df.loc[df['Batch_class'].str.contains(queue_name)]\n",
    "    weekly = queues.groupby(queues['Start_date'].dt.day_name())[column].mean().reindex(week)\n",
    "    return(weekly)"
   ]
  },
  {
   "cell_type": "code",
   "execution_count": 13,
   "metadata": {},
   "outputs": [],
   "source": [
    "def histogram_dataframe(df, batch_classes, weekly = False):\n",
    "    waiting_time = {}\n",
    "    axis   = 'Hour'\n",
    "    for batch_class in batch_classes:\n",
    "        if weekly:\n",
    "            waiting_time[batch_class] = weekly_cycle_mean(df, batch_class, 'Waited')\n",
    "            axis = 'Day'\n",
    "        else:\n",
    "            waiting_time[batch_class] = daily_cycle_mean(df, batch_class, 'Waited')\n",
    "            \n",
    "        \n",
    "    waiting_time_df = pd.DataFrame(waiting_time).rename_axis(axis)\n",
    "    return(waiting_time_df)"
   ]
  },
  {
   "cell_type": "code",
   "execution_count": 32,
   "metadata": {},
   "outputs": [
    {
     "data": {
      "text/plain": [
       "<AxesSubplot:xlabel='Hour', ylabel='Waiting time in min'>"
      ]
     },
     "execution_count": 32,
     "metadata": {},
     "output_type": "execute_result"
    },
    {
     "data": {
      "image/png": "[encoded data removed]",
      "text/plain": [
       "<Figure size 1440x720 with 1 Axes>"
      ]
     },
     "metadata": {
      "needs_background": "light"
     },
     "output_type": "display_data"
    }
   ],
   "source": [
    "histogram_dataframe(job_chars, batch_classes).plot.bar(figsize=(20,10),width=0.8,ylabel='Waiting time in min')"
   ]
  },
  {
   "cell_type": "code",
   "execution_count": 33,
   "metadata": {},
   "outputs": [
    {
     "data": {
      "text/plain": [
       "<AxesSubplot:xlabel='Day', ylabel='Waiting time in min'>"
      ]
     },
     "execution_count": 33,
     "metadata": {},
     "output_type": "execute_result"
    },
    {
     "data": {
      "image/png": "[encoded data removed]",
      "text/plain": [
       "<Figure size 1440x720 with 1 Axes>"
      ]
     },
     "metadata": {
      "needs_background": "light"
     },
     "output_type": "display_data"
    }
   ],
   "source": [
    "histogram_dataframe(job_chars, batch_classes,weekly=True).plot.bar(figsize=(20,10),width=0.8,ylabel='Waiting time in min')"
   ]
  },
  {
   "cell_type": "code",
   "execution_count": null,
   "metadata": {},
   "outputs": [],
   "source": []
  }
 ],
 "metadata": {
  "kernelspec": {
   "display_name": "Python 3",
   "language": "python",
   "name": "python3"
  },
  "language_info": {
   "codemirror_mode": {
    "name": "ipython",
    "version": 3
   },
   "file_extension": ".py",
   "mimetype": "text/x-python",
   "name": "python",
   "nbconvert_exporter": "python",
   "pygments_lexer": "ipython3",
   "version": "3.8.6"
  }
 },
 "nbformat": 4,
 "nbformat_minor": 4
}
