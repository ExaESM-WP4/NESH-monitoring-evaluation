{
 "cells": [
  {
   "cell_type": "code",
   "execution_count": 1,
   "metadata": {},
   "outputs": [],
   "source": [
    "import pandas as pd"
   ]
  },
  {
   "cell_type": "code",
   "execution_count": 2,
   "metadata": {},
   "outputs": [],
   "source": [
    "job_chars = pd.read_parquet('job_chars.parquet')\n",
    "host_logs = pd.read_parquet('host_logs.parquet')"
   ]
  },
  {
   "cell_type": "markdown",
   "metadata": {},
   "source": [
    "### Strip dataframe"
   ]
  },
  {
   "cell_type": "code",
   "execution_count": 3,
   "metadata": {},
   "outputs": [
    {
     "data": {
      "text/plain": [
       "6475643"
      ]
     },
     "execution_count": 3,
     "metadata": {},
     "output_type": "execute_result"
    }
   ],
   "source": [
    "len(host_logs)"
   ]
  },
  {
   "cell_type": "code",
   "execution_count": 4,
   "metadata": {},
   "outputs": [],
   "source": [
    "batch_classes = ['clexpres', 'clmedium', 'cllong', 'clbigmem', 'clfo2', 'feque']"
   ]
  },
  {
   "cell_type": "code",
   "execution_count": 5,
   "metadata": {},
   "outputs": [],
   "source": [
    "host_logs = host_logs[host_logs['QueueName'].isin(batch_classes)]"
   ]
  },
  {
   "cell_type": "code",
   "execution_count": 6,
   "metadata": {},
   "outputs": [],
   "source": [
    "host_logs = host_logs[host_logs['Free_CPUs']>0]"
   ]
  },
  {
   "cell_type": "code",
   "execution_count": 7,
   "metadata": {},
   "outputs": [],
   "source": [
    "# convert date format\n",
    "host_logs['Date'] = host_logs['Date'].dt.tz_localize('Europe/Berlin')"
   ]
  },
  {
   "cell_type": "code",
   "execution_count": 8,
   "metadata": {},
   "outputs": [
    {
     "data": {
      "text/plain": [
       "2823178"
      ]
     },
     "execution_count": 8,
     "metadata": {},
     "output_type": "execute_result"
    }
   ],
   "source": [
    "len(host_logs)"
   ]
  },
  {
   "cell_type": "code",
   "execution_count": 9,
   "metadata": {},
   "outputs": [
    {
     "data": {
      "text/html": [
       "<div>\n",
       "<style scoped>\n",
       "    .dataframe tbody tr th:only-of-type {\n",
       "        vertical-align: middle;\n",
       "    }\n",
       "\n",
       "    .dataframe tbody tr th {\n",
       "        vertical-align: top;\n",
       "    }\n",
       "\n",
       "    .dataframe thead th {\n",
       "        text-align: right;\n",
       "    }\n",
       "</style>\n",
       "<table border=\"1\" class=\"dataframe\">\n",
       "  <thead>\n",
       "    <tr style=\"text-align: right;\">\n",
       "      <th></th>\n",
       "      <th>Date</th>\n",
       "      <th>Free_CPUs</th>\n",
       "      <th>Free_Mem1</th>\n",
       "      <th>Used_CPUs</th>\n",
       "      <th>Cpu</th>\n",
       "      <th>Used_Mem1</th>\n",
       "      <th>ExecutionHost</th>\n",
       "      <th>QueueName</th>\n",
       "      <th>Free_Swap1</th>\n",
       "      <th>Used_Swap1</th>\n",
       "      <th>Load</th>\n",
       "    </tr>\n",
       "  </thead>\n",
       "  <tbody>\n",
       "    <tr>\n",
       "      <th>111</th>\n",
       "      <td>2020-01-12 18:17:31+01:00</td>\n",
       "      <td>2</td>\n",
       "      <td>175.707031</td>\n",
       "      <td>30</td>\n",
       "      <td>30.6</td>\n",
       "      <td>15.003906</td>\n",
       "      <td>neshcl266</td>\n",
       "      <td>clmedium</td>\n",
       "      <td>NaN</td>\n",
       "      <td>NaN</td>\n",
       "      <td>NaN</td>\n",
       "    </tr>\n",
       "    <tr>\n",
       "      <th>112</th>\n",
       "      <td>2020-01-12 18:17:31+01:00</td>\n",
       "      <td>3</td>\n",
       "      <td>111.296875</td>\n",
       "      <td>21</td>\n",
       "      <td>21.0</td>\n",
       "      <td>16.597656</td>\n",
       "      <td>neshcl203</td>\n",
       "      <td>clfo2</td>\n",
       "      <td>NaN</td>\n",
       "      <td>NaN</td>\n",
       "      <td>NaN</td>\n",
       "    </tr>\n",
       "    <tr>\n",
       "      <th>113</th>\n",
       "      <td>2020-01-12 18:17:31+01:00</td>\n",
       "      <td>4</td>\n",
       "      <td>105.191406</td>\n",
       "      <td>20</td>\n",
       "      <td>20.0</td>\n",
       "      <td>22.703125</td>\n",
       "      <td>neshcl200</td>\n",
       "      <td>clfo2</td>\n",
       "      <td>NaN</td>\n",
       "      <td>NaN</td>\n",
       "      <td>NaN</td>\n",
       "    </tr>\n",
       "    <tr>\n",
       "      <th>114</th>\n",
       "      <td>2020-01-12 18:17:31+01:00</td>\n",
       "      <td>4</td>\n",
       "      <td>109.203125</td>\n",
       "      <td>20</td>\n",
       "      <td>20.0</td>\n",
       "      <td>18.691406</td>\n",
       "      <td>neshcl201</td>\n",
       "      <td>clfo2</td>\n",
       "      <td>NaN</td>\n",
       "      <td>NaN</td>\n",
       "      <td>NaN</td>\n",
       "    </tr>\n",
       "    <tr>\n",
       "      <th>115</th>\n",
       "      <td>2020-01-12 18:17:31+01:00</td>\n",
       "      <td>4</td>\n",
       "      <td>100.140625</td>\n",
       "      <td>20</td>\n",
       "      <td>20.0</td>\n",
       "      <td>27.753906</td>\n",
       "      <td>neshcl206</td>\n",
       "      <td>clfo2</td>\n",
       "      <td>NaN</td>\n",
       "      <td>NaN</td>\n",
       "      <td>NaN</td>\n",
       "    </tr>\n",
       "    <tr>\n",
       "      <th>...</th>\n",
       "      <td>...</td>\n",
       "      <td>...</td>\n",
       "      <td>...</td>\n",
       "      <td>...</td>\n",
       "      <td>...</td>\n",
       "      <td>...</td>\n",
       "      <td>...</td>\n",
       "      <td>...</td>\n",
       "      <td>...</td>\n",
       "      <td>...</td>\n",
       "      <td>...</td>\n",
       "    </tr>\n",
       "    <tr>\n",
       "      <th>6475622</th>\n",
       "      <td>2020-10-07 16:10:08+02:00</td>\n",
       "      <td>15</td>\n",
       "      <td>116.773438</td>\n",
       "      <td>17</td>\n",
       "      <td>17.0</td>\n",
       "      <td>73.937500</td>\n",
       "      <td>neshcl379</td>\n",
       "      <td>cllong</td>\n",
       "      <td>15.257812</td>\n",
       "      <td>0.000000</td>\n",
       "      <td>17.0</td>\n",
       "    </tr>\n",
       "    <tr>\n",
       "      <th>6475623</th>\n",
       "      <td>2020-10-07 16:10:08+02:00</td>\n",
       "      <td>28</td>\n",
       "      <td>186.167969</td>\n",
       "      <td>4</td>\n",
       "      <td>4.0</td>\n",
       "      <td>4.542969</td>\n",
       "      <td>neshcl380</td>\n",
       "      <td>cllong</td>\n",
       "      <td>15.253906</td>\n",
       "      <td>0.003906</td>\n",
       "      <td>4.1</td>\n",
       "    </tr>\n",
       "    <tr>\n",
       "      <th>6475628</th>\n",
       "      <td>2020-10-07 16:10:08+02:00</td>\n",
       "      <td>31</td>\n",
       "      <td>81.968750</td>\n",
       "      <td>1</td>\n",
       "      <td>1.0</td>\n",
       "      <td>108.742188</td>\n",
       "      <td>neshcl385</td>\n",
       "      <td>cllong</td>\n",
       "      <td>15.242188</td>\n",
       "      <td>0.015625</td>\n",
       "      <td>1.0</td>\n",
       "    </tr>\n",
       "    <tr>\n",
       "      <th>6475630</th>\n",
       "      <td>2020-10-07 16:10:08+02:00</td>\n",
       "      <td>31</td>\n",
       "      <td>128.128906</td>\n",
       "      <td>1</td>\n",
       "      <td>1.0</td>\n",
       "      <td>62.582031</td>\n",
       "      <td>neshcl387</td>\n",
       "      <td>cllong</td>\n",
       "      <td>15.160156</td>\n",
       "      <td>0.097656</td>\n",
       "      <td>1.0</td>\n",
       "    </tr>\n",
       "    <tr>\n",
       "      <th>6475640</th>\n",
       "      <td>2020-10-07 16:10:08+02:00</td>\n",
       "      <td>64</td>\n",
       "      <td>195.578125</td>\n",
       "      <td>0</td>\n",
       "      <td>0.0</td>\n",
       "      <td>571.132812</td>\n",
       "      <td>nesh-fe0-adm</td>\n",
       "      <td>feque</td>\n",
       "      <td>3.996094</td>\n",
       "      <td>0.000000</td>\n",
       "      <td>0.0</td>\n",
       "    </tr>\n",
       "  </tbody>\n",
       "</table>\n",
       "<p>2823178 rows × 11 columns</p>\n",
       "</div>"
      ],
      "text/plain": [
       "                             Date  Free_CPUs   Free_Mem1  Used_CPUs   Cpu  \\\n",
       "111     2020-01-12 18:17:31+01:00          2  175.707031         30  30.6   \n",
       "112     2020-01-12 18:17:31+01:00          3  111.296875         21  21.0   \n",
       "113     2020-01-12 18:17:31+01:00          4  105.191406         20  20.0   \n",
       "114     2020-01-12 18:17:31+01:00          4  109.203125         20  20.0   \n",
       "115     2020-01-12 18:17:31+01:00          4  100.140625         20  20.0   \n",
       "...                           ...        ...         ...        ...   ...   \n",
       "6475622 2020-10-07 16:10:08+02:00         15  116.773438         17  17.0   \n",
       "6475623 2020-10-07 16:10:08+02:00         28  186.167969          4   4.0   \n",
       "6475628 2020-10-07 16:10:08+02:00         31   81.968750          1   1.0   \n",
       "6475630 2020-10-07 16:10:08+02:00         31  128.128906          1   1.0   \n",
       "6475640 2020-10-07 16:10:08+02:00         64  195.578125          0   0.0   \n",
       "\n",
       "          Used_Mem1 ExecutionHost QueueName  Free_Swap1  Used_Swap1  Load  \n",
       "111       15.003906     neshcl266  clmedium         NaN         NaN   NaN  \n",
       "112       16.597656     neshcl203     clfo2         NaN         NaN   NaN  \n",
       "113       22.703125     neshcl200     clfo2         NaN         NaN   NaN  \n",
       "114       18.691406     neshcl201     clfo2         NaN         NaN   NaN  \n",
       "115       27.753906     neshcl206     clfo2         NaN         NaN   NaN  \n",
       "...             ...           ...       ...         ...         ...   ...  \n",
       "6475622   73.937500     neshcl379    cllong   15.257812    0.000000  17.0  \n",
       "6475623    4.542969     neshcl380    cllong   15.253906    0.003906   4.1  \n",
       "6475628  108.742188     neshcl385    cllong   15.242188    0.015625   1.0  \n",
       "6475630   62.582031     neshcl387    cllong   15.160156    0.097656   1.0  \n",
       "6475640  571.132812  nesh-fe0-adm     feque    3.996094    0.000000   0.0  \n",
       "\n",
       "[2823178 rows x 11 columns]"
      ]
     },
     "execution_count": 9,
     "metadata": {},
     "output_type": "execute_result"
    }
   ],
   "source": [
    "host_logs"
   ]
  },
  {
   "cell_type": "markdown",
   "metadata": {},
   "source": [
    "### Define calculation"
   ]
  },
  {
   "cell_type": "code",
   "execution_count": 10,
   "metadata": {},
   "outputs": [],
   "source": [
    "i=9"
   ]
  },
  {
   "cell_type": "code",
   "execution_count": 11,
   "metadata": {},
   "outputs": [
    {
     "data": {
      "text/plain": [
       "Batch_class                         clmedium\n",
       "Submission_date    2020-05-09 02:05:09+02:00\n",
       "Waited                               163.817\n",
       "Start_date         2020-05-09 04:48:58+02:00\n",
       "Duration                              2010.4\n",
       "Nodes                                      1\n",
       "CPU                                  19.9475\n",
       "Memory                                 15.41\n",
       "delta_CPU                           0.344407\n",
       "delta_Memory                            0.07\n",
       "Name: 000545061a76c75a, dtype: object"
      ]
     },
     "execution_count": 11,
     "metadata": {},
     "output_type": "execute_result"
    }
   ],
   "source": [
    "job_chars.iloc[i]"
   ]
  },
  {
   "cell_type": "code",
   "execution_count": 12,
   "metadata": {},
   "outputs": [],
   "source": [
    "f1 = (host_logs['Date']>=job_chars.iloc[i].Submission_date) & \\\n",
    "(host_logs['Date']<=job_chars.iloc[i].Start_date) & \\\n",
    "(host_logs['QueueName'].str.contains(job_chars.iloc[i].Batch_class))"
   ]
  },
  {
   "cell_type": "code",
   "execution_count": 13,
   "metadata": {},
   "outputs": [
    {
     "name": "stdout",
     "output_type": "stream",
     "text": [
      "19.94751513527545\n",
      "2509630    12\n",
      "2509632    32\n",
      "2509634    32\n",
      "2509636    32\n",
      "2509644    12\n",
      "           ..\n",
      "2512708    12\n",
      "2512713    22\n",
      "2512714    32\n",
      "2512715    12\n",
      "2512716    12\n",
      "Name: Free_CPUs, Length: 613, dtype: int64\n"
     ]
    }
   ],
   "source": [
    "print(job_chars.iloc[i].CPU)\n",
    "print(host_logs.loc[f1]['Free_CPUs'])"
   ]
  },
  {
   "cell_type": "code",
   "execution_count": 14,
   "metadata": {},
   "outputs": [
    {
     "data": {
      "text/plain": [
       "0.8816775209364305"
      ]
     },
     "execution_count": 14,
     "metadata": {},
     "output_type": "execute_result"
    }
   ],
   "source": [
    "(host_logs.loc[f1]['Free_CPUs']/job_chars.iloc[i].CPU).mean()"
   ]
  },
  {
   "cell_type": "code",
   "execution_count": 15,
   "metadata": {},
   "outputs": [
    {
     "name": "stdout",
     "output_type": "stream",
     "text": [
      "15.41\n",
      "2509630    161.878906\n",
      "2509632    185.335938\n",
      "2509634    187.726562\n",
      "2509636    187.660156\n",
      "2509644    170.515625\n",
      "              ...    \n",
      "2512708    166.960938\n",
      "2512713    160.667969\n",
      "2512714    172.757812\n",
      "2512715    170.570312\n",
      "2512716    170.632812\n",
      "Name: Free_Mem1, Length: 613, dtype: float64\n"
     ]
    }
   ],
   "source": [
    "print(job_chars.iloc[i].Memory)\n",
    "print(host_logs.loc[f1]['Free_Mem1'])"
   ]
  },
  {
   "cell_type": "code",
   "execution_count": 16,
   "metadata": {},
   "outputs": [
    {
     "data": {
      "text/plain": [
       "10.96920750241099"
      ]
     },
     "execution_count": 16,
     "metadata": {},
     "output_type": "execute_result"
    }
   ],
   "source": [
    "(host_logs.loc[f1]['Free_Mem1']/job_chars.iloc[i].Memory).mean()"
   ]
  },
  {
   "cell_type": "markdown",
   "metadata": {},
   "source": [
    "### Parallelize using Multiprocessing\n",
    "a bit background knowledge: https://medium.com/@bfortuner/python-multithreading-vs-multiprocessing-73072ce5600b"
   ]
  },
  {
   "cell_type": "code",
   "execution_count": 17,
   "metadata": {},
   "outputs": [],
   "source": [
    "import multiprocessing"
   ]
  },
  {
   "cell_type": "code",
   "execution_count": 18,
   "metadata": {},
   "outputs": [],
   "source": [
    "def multiprocessing_worker(i):\n",
    "    f1 = (host_logs['Date']>=job_chars.loc[i].Submission_date) & \\\n",
    "        (host_logs['Date']<=job_chars.loc[i].Start_date) & \\\n",
    "        (host_logs['QueueName'].str.contains(job_chars.loc[i].Batch_class))\n",
    "    a = (host_logs.loc[f1]['Free_CPUs']/job_chars.loc[i].CPU).mean()\n",
    "    b = (host_logs.loc[f1]['Free_Mem1']/job_chars.loc[i].Memory).mean()\n",
    "    return i,a,b"
   ]
  },
  {
   "cell_type": "code",
   "execution_count": 19,
   "metadata": {},
   "outputs": [
    {
     "data": {
      "text/plain": [
       "126027"
      ]
     },
     "execution_count": 19,
     "metadata": {},
     "output_type": "execute_result"
    }
   ],
   "source": [
    "len(job_chars)"
   ]
  },
  {
   "cell_type": "code",
   "execution_count": 20,
   "metadata": {},
   "outputs": [
    {
     "data": {
      "text/plain": [
       "53366"
      ]
     },
     "execution_count": 20,
     "metadata": {},
     "output_type": "execute_result"
    }
   ],
   "source": [
    "sum(job_chars['Waited']>0.0)"
   ]
  },
  {
   "cell_type": "code",
   "execution_count": 21,
   "metadata": {},
   "outputs": [],
   "source": [
    "indices = job_chars.index.where(job_chars['Waited']>0.0).dropna()\n",
    "subset = 16*10\n",
    "indices = indices[:subset] # for now, only do this on a subset"
   ]
  },
  {
   "cell_type": "code",
   "execution_count": 22,
   "metadata": {},
   "outputs": [
    {
     "name": "stdout",
     "output_type": "stream",
     "text": [
      "CPU times: user 235 ms, sys: 277 ms, total: 512 ms\n",
      "Wall time: 10.7 s\n"
     ]
    }
   ],
   "source": [
    "%%time\n",
    "pool = multiprocessing.Pool(processes=16)\n",
    "t = pool.map(multiprocessing_worker, indices)"
   ]
  },
  {
   "cell_type": "code",
   "execution_count": 25,
   "metadata": {},
   "outputs": [
    {
     "name": "stdout",
     "output_type": "stream",
     "text": [
      "duration estimate:  59.48085416666665  minutes\n"
     ]
    }
   ],
   "source": [
    "print('duration estimate: ', sum(job_chars['Waited']>0.0)*(10.7/subset)/60, ' minutes')"
   ]
  },
  {
   "cell_type": "code",
   "execution_count": 26,
   "metadata": {},
   "outputs": [
    {
     "data": {
      "text/plain": [
       "[('000030ecd19c9c04', 216.16746085772635, 2400.171257456378),\n",
       " ('00020fcd04947084', nan, nan),\n",
       " ('00027e89035bec8d', 0.7158739219547768, 1.2684329640086998),\n",
       " ('0003a37a7a8562f1', nan, nan),\n",
       " ('00044e0a50d292e0', 0.5747807892775363, 64.79835739060137),\n",
       " ('000545061a76c75a', 0.8816775209364305, 10.96920750241099),\n",
       " ('0005bc60f93ebf7f', 0.45998184297725064, 78.09589527739438),\n",
       " ('0005f3be12f14ee2', 4474.247832738399, 3239.550852803003),\n",
       " ('00076c148e19768c', 0.6530874693624757, 11.295009132233936),\n",
       " ('000a8aec3a0f9051', 34.30119818789957, 40.1760859929078),\n",
       " ('000c3234e7b9c898', 0.5212648328848679, 80.57954642879412),\n",
       " ('000dd6b4587cd5fe', nan, nan),\n",
       " ('000fd86c40edf54e', 18.7130951933879, 213.74980089066347),\n",
       " ('00112d07bd1d1d9b', 0.6353050887924374, 78.0018188531773),\n",
       " ('0011ab30ec7dbac2', 21.572768256950695, 514.2942205752688),\n",
       " ('0013aaa63ec9ea37', nan, nan),\n",
       " ('0018c54ef12c5fa3', 11.013445261768018, 75.74941928762448),\n",
       " ('00191204988c0512', 0.5797077892159824, 82.43107086036743),\n",
       " ('001957ef70c47f5d', nan, nan),\n",
       " ('001b605f9e636cb0', nan, nan),\n",
       " ('001cf1585d3e8b34', 0.6697113097241288, 81.52405733109056),\n",
       " ('001dac67f2b97761', 0.6551433979165843, 4.43767791299635),\n",
       " ('001dd653c615c629', 0.38826230901815534, 72.1610957622694),\n",
       " ('001f390283cb549c', 0.5232914017364202, 985.8086948538121),\n",
       " ('001ff82247661e1c', nan, nan),\n",
       " ('00211b2b6fb00849', 1.349169441012513, 10.730278760539036),\n",
       " ('00216e027d3c127a', 0.4816629526523094, 1.8269187551172998),\n",
       " ('00226d4ac4f5d97c', nan, nan),\n",
       " ('00243724265bff45', nan, nan),\n",
       " ('0024d9ed0af7c35e', nan, nan),\n",
       " ('002502fd777942a9', 0.5293984080436396, 78.43364933416026),\n",
       " ('002605fc964f57d9', nan, nan),\n",
       " ('00278ad3e98f841f', nan, nan),\n",
       " ('0029bc0dc21febde', 18.5275396206807, 4680.259029352035),\n",
       " ('002a0ea744e176b0', 1.0763416168633506, 38.25497072045521),\n",
       " ('002a4f458efdd4df', 0.5008932800439713, 78.80002025164316),\n",
       " ('002ab6adbcb00e5e', 0.8250131465099086, 4.634595172054331),\n",
       " ('002bfcd56fb7700c', 0.6848970586848998, 10.318346467739387),\n",
       " ('002e1778c40302eb', 0.6532077047376378, 1312.4127020085102),\n",
       " ('002ee949bd980fd2', nan, nan),\n",
       " ('00322f418360ffce', 0.5267345667261832, 340.27400471032223),\n",
       " ('00340f29cccd1475', nan, nan),\n",
       " ('003540370784637b', 0.5786484023171748, 80.1493017414863),\n",
       " ('00388912d1015fe3', 0.44619898982677364, 73.41065961226444),\n",
       " ('0038927bad630691', nan, nan),\n",
       " ('0039643a537442a8', 15.86450270993426, 26.5757360412814),\n",
       " ('003ab09cde588f0b', 1.2456758287487797, 16.36385390774688),\n",
       " ('003bfa6a85288237', nan, nan),\n",
       " ('003c22286ef876e9', nan, nan),\n",
       " ('003d7904ac37b98a', nan, nan),\n",
       " ('004334242ac5fcc4', 0.45201367553914057, 17.334955587996156),\n",
       " ('0043571c1af83002', 0.6734116017293234, 8.207803963244393),\n",
       " ('004382c0680f8293', 21.908522332197208, 926.156320517393),\n",
       " ('00470397d7754437', 0.4741829835725831, 62.77383537542381),\n",
       " ('0047a6ee811cee8e', nan, nan),\n",
       " ('004d3cdfe9f2b503', nan, nan),\n",
       " ('004d728aa2c87ad0', nan, nan),\n",
       " ('004e746d2face9c3', 0.3899800604625642, 7.679045767459846),\n",
       " ('004eada59c79b718', 0.7929447242975539, 1.0962361870820452),\n",
       " ('005061c82fb4f1b4', nan, nan),\n",
       " ('0050db70aea231a3', 1.907305632748506, 78.20907008636787),\n",
       " ('0051d1b1edcebc13', 1.0830874097890342, 10.917313735835208),\n",
       " ('00544804c82d5452', nan, nan),\n",
       " ('0054e95289f0cd64', 0.896914834839486, 1323.7428161732691),\n",
       " ('005621808b44a099', 0.36975402316979367, 83.43502692008303),\n",
       " ('00567dbdb6b01e4c', 0.367570067028494, 86.45302646131401),\n",
       " ('0057229cc317fe42', 0.5469449566231381, 11.208157204978386),\n",
       " ('005b3c90d66e4367', 0.5583266961954897, 11.233468592921042),\n",
       " ('005b5f77af808e5f', 0.625562873179673, 80.60282072172978),\n",
       " ('005b7cf3f48f5041', 0.5890483732523893, 71.77269138870022),\n",
       " ('005c22f5cc1d8140', nan, nan),\n",
       " ('005ffcbe0f25b85c', 1902.3569023569023, 2060.71652255521),\n",
       " ('00604b53f9fae6e5', 0.44324870942219524, 1119.0722646206766),\n",
       " ('00607e1f3216decf', 0.6972821462312601, 87.53675022266376),\n",
       " ('0061e4bcddebb8d9', 1.1197033877211697, 10.592396346851979),\n",
       " ('006242acc81c51b0', 14.697959904079458, 15922.709423404342),\n",
       " ('00648ebed181d541', nan, nan),\n",
       " ('0064aa8792a79b1e', nan, nan),\n",
       " ('006539ca135e9715', nan, nan),\n",
       " ('00660d080dbf25ec', 0.4353184472046465, 21.56529442689518),\n",
       " ('006671d013ff4848', 0.7227478012981171, 81.43328862808914),\n",
       " ('0066fb2c05e19aa5', 0.6270192823067327, 63.554162946843725),\n",
       " ('00699df05601ff87', 0.44521214440521384, 72.01815082568065),\n",
       " ('006a1ff87aaddcd3', 0.48114435617292234, 79.87564120287898),\n",
       " ('006a85d95cb50ee7', 16.028464824967223, 26.394748279131843),\n",
       " ('006ad6d411fc3483', nan, nan),\n",
       " ('006b4ba82595a14c', nan, nan),\n",
       " ('006ea48107552e8e', 0.8103668934974448, 77.0884340661925),\n",
       " ('006fc53f5b78737a', 0.47493779211645276, 72.06334205747848),\n",
       " ('00706aeada6b151d', 0.4919394144147774, 3.18222834128933),\n",
       " ('0072007a1b5bffac', 0.6762559692338717, 76.16833787325487),\n",
       " ('00726d9187ad74d1', 16.851114084836684, 209.780536881591),\n",
       " ('0072b7b36d7359c3', 0.5249426462893271, 80.39984029310037),\n",
       " ('00733aa90779f4cb', 0.6244458149351125, 82.6655714403428),\n",
       " ('0073985469b99a91', 134.00126929610065, 2930.53188929944),\n",
       " ('0074e1e789f61d6f', nan, nan),\n",
       " ('0075c64853a36d38', 0.7498720402319718, 10.44142957866527),\n",
       " ('0076da2cb6d6e1d6', 1.0262835633224079, 10.726820082927992),\n",
       " ('007855cdd560cdd5', 0.8730478182682503, 170.82784079914862),\n",
       " ('007976d8ce5c0113', 15.008472993444178, 1095.7734449219595),\n",
       " ('007b2343a70aaf40', 15.727700637663661, 1013.9491831262637),\n",
       " ('007b295582b92984', nan, nan),\n",
       " ('007dc77256798d74', nan, nan),\n",
       " ('007e2d5cfb89e67f', nan, nan),\n",
       " ('007f3591124abd75', 0.9388885209289801, 11.00834149726867),\n",
       " ('007f4cfa66d1d28b', nan, nan),\n",
       " ('0080587dcfa013cf', 0.4967553169298024, 77.419315523484),\n",
       " ('0082bac0c2dabcdc', 1.007078964251, 10.085066708383549),\n",
       " ('0083bb0358f65e7d', nan, nan),\n",
       " ('0083c0120a82b64f', 0.5265004027794339, 1104.2744912140531),\n",
       " ('0084ca86867b5f13', 0.5504056493449189, 47.668774324973555),\n",
       " ('0084d566dead9a03', 0.6047736168891905, 77.32889090768518),\n",
       " ('008613bb0daf84bf', 28.12806334238946, 224.28979777598857),\n",
       " ('008682da4e9888f9', 1.0802224470860433, 38.3430950515479),\n",
       " ('008690a262f0ac5d', 0.7553523938284454, 199.92864556437286),\n",
       " ('0088a49657b141e6', 0.38638905819731867, 1.1700262942084423),\n",
       " ('008a65a771fcaebd', nan, nan),\n",
       " ('008abffae44cffc2', 0.6288676255743313, 82.68946173188556),\n",
       " ('008b9730a15778d7', 15.329570302787385, 26.818201487527013),\n",
       " ('008e72d7eb74f9f0', 1.0137169779006356, 9.636880954460855),\n",
       " ('008f15cb0c3ac16c', 0.4219558991555395, 1202.6826008360122),\n",
       " ('0090293d8c29bcb8', 0.4462052973551227, 77.85094424744639),\n",
       " ('0090e21495f04282', 1.3762447281686483, 19.42431081026309),\n",
       " ('00951ec612a80f9e', 0.6059890321750214, 508.9701008246628),\n",
       " ('00954bec2891f0cd', nan, nan),\n",
       " ('009b5b33927cd4a2', 0.535196343917417, 76.69195272373965),\n",
       " ('009b6bf1ee89ff48', 0.6483664362068723, 78.49102073918317),\n",
       " ('009bcd0130cc5ad8', 0.7991853971386412, 69.80640252024723),\n",
       " ('009cfca120ea46db', 12.463804364413214, 34.34045944516216),\n",
       " ('009daa9b31b46393', nan, nan),\n",
       " ('009e2255bd7c51d1', nan, nan),\n",
       " ('009ee4d100505feb', 68.57583010096008, 170.1169781194694),\n",
       " ('00a13789eef0cfa4', 1.8591246190531676, 13.032742459153745),\n",
       " ('00a2f711ff31df0e', 57.040998217468804, 684.0044981060605),\n",
       " ('00a45c6a5eb26ba2', nan, nan),\n",
       " ('00a4db7e7387f9f7', nan, nan),\n",
       " ('00a4fc004abe5d20', 17.823327528612296, 34.065574507757226),\n",
       " ('00a56cce9dd53e10', nan, nan),\n",
       " ('00a66485b99e7a29', nan, nan),\n",
       " ('00a78e790cd01148', 0.4411746640622111, 1153.166146577643),\n",
       " ('00a855fe74630804', 0.7859795521073124, 83.94167583219881),\n",
       " ('00aa6e5dba9ce77b', 0.7536333550309003, 188.90852502968167),\n",
       " ('00abdbf72311bfb9', 3.4185577115386594, 10.275429603374011),\n",
       " ('00ac9c839f3968be', nan, nan),\n",
       " ('00acede498bdf4a5', nan, nan),\n",
       " ('00ad4e9d119fb2c9', nan, nan),\n",
       " ('00ad9eb6ca262aed', nan, nan),\n",
       " ('00ae6c6846006f4b', 2205691.525423729, 3237.3628212389885),\n",
       " ('00af3bc91f2becb9', 0.7004126489306933, 74.47882095158347),\n",
       " ('00af3e7cc3bd8940', 14.336439956735347, 206.82080304935158),\n",
       " ('00b02217400efaf4', 0.5423452450961836, 73.01441507503117),\n",
       " ('00b27349674887bc', 0.40905567318263364, 70.59456717624177),\n",
       " ('00b5121063d84ada', nan, nan),\n",
       " ('00b5c4995d0b815d', nan, nan),\n",
       " ('00b742bd85ac44c3', 0.5490428908619484, 75.09419575825827),\n",
       " ('00b87ed1cfc082eb', nan, nan),\n",
       " ('00ba64e539b5bb0c', 0.6229223695852624, 1.6026333410766649),\n",
       " ('00ba878bbd61e584', nan, nan),\n",
       " ('00bb412ad14f0f20', 0.752156045243422, 67.49371355322897),\n",
       " ('00bd819aa64b75cc', 0.38408672720951725, 87.85304214015153)]"
      ]
     },
     "execution_count": 26,
     "metadata": {},
     "output_type": "execute_result"
    }
   ],
   "source": [
    "t"
   ]
  },
  {
   "cell_type": "markdown",
   "metadata": {},
   "source": [
    "### Python environment"
   ]
  },
  {
   "cell_type": "code",
   "execution_count": 50,
   "metadata": {},
   "outputs": [
    {
     "name": "stdout",
     "output_type": "stream",
     "text": [
      "# This file may be used to create an environment using:\n",
      "# $ conda create --name <env> --file <this file>\n",
      "# platform: linux-64\n",
      "@EXPLICIT\n",
      "https://conda.anaconda.org/conda-forge/linux-64/git-lfs-2.11.0-0.tar.bz2\n",
      "https://conda.anaconda.org/conda-forge/noarch/nomkl-1.0-h5ca1d4c_0.tar.bz2\n",
      "https://conda.anaconda.org/conda-forge/linux-64/_libgcc_mutex-0.1-conda_forge.tar.bz2\n",
      "https://conda.anaconda.org/conda-forge/linux-64/ca-certificates-2020.6.20-hecda079_0.tar.bz2\n",
      "https://conda.anaconda.org/conda-forge/linux-64/ld_impl_linux-64-2.35-h769bd43_9.tar.bz2\n",
      "https://conda.anaconda.org/conda-forge/linux-64/libgfortran5-9.3.0-he4bcb1c_17.tar.bz2\n",
      "https://conda.anaconda.org/conda-forge/linux-64/libstdcxx-ng-9.3.0-h2ae2ef3_17.tar.bz2\n",
      "https://conda.anaconda.org/conda-forge/linux-64/pandoc-2.11.0.2-hd18ef5c_0.tar.bz2\n",
      "https://conda.anaconda.org/conda-forge/noarch/poppler-data-0.4.9-1.tar.bz2\n",
      "https://conda.anaconda.org/conda-forge/linux-64/libgfortran-ng-9.3.0-he4bcb1c_17.tar.bz2\n",
      "https://conda.anaconda.org/conda-forge/linux-64/libgomp-9.3.0-h5dbcf3e_17.tar.bz2\n",
      "https://conda.anaconda.org/conda-forge/linux-64/_openmp_mutex-4.5-1_gnu.tar.bz2\n",
      "https://conda.anaconda.org/conda-forge/linux-64/libgcc-ng-9.3.0-h5dbcf3e_17.tar.bz2\n",
      "https://conda.anaconda.org/conda-forge/linux-64/bzip2-1.0.8-h516909a_3.tar.bz2\n",
      "https://conda.anaconda.org/conda-forge/linux-64/c-ares-1.16.1-h516909a_3.tar.bz2\n",
      "https://conda.anaconda.org/conda-forge/linux-64/expat-2.2.9-he1b5a44_2.tar.bz2\n",
      "https://conda.anaconda.org/conda-forge/linux-64/freexl-1.0.5-h516909a_1002.tar.bz2\n",
      "https://conda.anaconda.org/conda-forge/linux-64/geos-3.8.1-he1b5a44_0.tar.bz2\n",
      "https://conda.anaconda.org/conda-forge/linux-64/giflib-5.2.1-h516909a_2.tar.bz2\n",
      "https://conda.anaconda.org/conda-forge/linux-64/icu-67.1-he1b5a44_0.tar.bz2\n",
      "https://conda.anaconda.org/conda-forge/linux-64/jpeg-9d-h516909a_0.tar.bz2\n",
      "https://conda.anaconda.org/conda-forge/linux-64/json-c-0.13.1-hbfbb72e_1002.tar.bz2\n",
      "https://conda.anaconda.org/conda-forge/linux-64/libev-4.33-h516909a_1.tar.bz2\n",
      "https://conda.anaconda.org/conda-forge/linux-64/libffi-3.2.1-he1b5a44_1007.tar.bz2\n",
      "https://conda.anaconda.org/conda-forge/linux-64/libiconv-1.16-h516909a_0.tar.bz2\n",
      "https://conda.anaconda.org/conda-forge/linux-64/libopenblas-0.3.10-pthreads_h4812303_5.tar.bz2\n",
      "https://conda.anaconda.org/conda-forge/linux-64/libsodium-1.0.18-h516909a_1.tar.bz2\n",
      "https://conda.anaconda.org/conda-forge/linux-64/libuuid-2.32.1-h14c3975_1000.tar.bz2\n",
      "https://conda.anaconda.org/conda-forge/linux-64/libuv-1.40.0-hd18ef5c_0.tar.bz2\n",
      "https://conda.anaconda.org/conda-forge/linux-64/libwebp-base-1.1.0-h516909a_3.tar.bz2\n",
      "https://conda.anaconda.org/conda-forge/linux-64/lz4-c-1.9.2-he1b5a44_3.tar.bz2\n",
      "https://conda.anaconda.org/conda-forge/linux-64/ncurses-6.2-he1b5a44_2.tar.bz2\n",
      "https://conda.anaconda.org/conda-forge/linux-64/openssl-1.1.1h-h516909a_0.tar.bz2\n",
      "https://conda.anaconda.org/conda-forge/linux-64/pcre-8.44-he1b5a44_0.tar.bz2\n",
      "https://conda.anaconda.org/conda-forge/linux-64/perl-5.26.2-h516909a_1006.tar.bz2\n",
      "https://conda.anaconda.org/conda-forge/linux-64/pixman-0.38.0-h516909a_1003.tar.bz2\n",
      "https://conda.anaconda.org/conda-forge/linux-64/pthread-stubs-0.4-h14c3975_1001.tar.bz2\n",
      "https://conda.anaconda.org/conda-forge/linux-64/tini-0.18.0-h14c3975_1001.tar.bz2\n",
      "https://conda.anaconda.org/conda-forge/linux-64/tzcode-2020a-h516909a_0.tar.bz2\n",
      "https://conda.anaconda.org/conda-forge/linux-64/xorg-kbproto-1.0.7-h14c3975_1002.tar.bz2\n",
      "https://conda.anaconda.org/conda-forge/linux-64/xorg-libice-1.0.10-h516909a_0.tar.bz2\n",
      "https://conda.anaconda.org/conda-forge/linux-64/xorg-libxau-1.0.9-h14c3975_0.tar.bz2\n",
      "https://conda.anaconda.org/conda-forge/linux-64/xorg-libxdmcp-1.1.3-h516909a_0.tar.bz2\n",
      "https://conda.anaconda.org/conda-forge/linux-64/xorg-renderproto-0.11.1-h14c3975_1002.tar.bz2\n",
      "https://conda.anaconda.org/conda-forge/linux-64/xorg-xextproto-7.3.0-h14c3975_1002.tar.bz2\n",
      "https://conda.anaconda.org/conda-forge/linux-64/xorg-xproto-7.0.31-h14c3975_1007.tar.bz2\n",
      "https://conda.anaconda.org/conda-forge/linux-64/xz-5.2.5-h516909a_1.tar.bz2\n",
      "https://conda.anaconda.org/conda-forge/linux-64/yaml-0.2.5-h516909a_0.tar.bz2\n",
      "https://conda.anaconda.org/conda-forge/linux-64/zlib-1.2.11-h516909a_1010.tar.bz2\n",
      "https://conda.anaconda.org/conda-forge/linux-64/gettext-0.19.8.1-hf34092f_1003.tar.bz2\n",
      "https://conda.anaconda.org/conda-forge/linux-64/hdf4-4.2.13-hf30be14_1003.tar.bz2\n",
      "https://conda.anaconda.org/conda-forge/linux-64/libblas-3.8.0-17_openblas.tar.bz2\n",
      "https://conda.anaconda.org/conda-forge/linux-64/libedit-3.1.20191231-he28a2e2_2.tar.bz2\n",
      "https://conda.anaconda.org/conda-forge/linux-64/libllvm10-10.0.1-he513fc3_3.tar.bz2\n",
      "https://conda.anaconda.org/conda-forge/linux-64/libnghttp2-1.41.0-h8cfc5f6_2.tar.bz2\n",
      "https://conda.anaconda.org/conda-forge/linux-64/libpng-1.6.37-hed695b0_2.tar.bz2\n",
      "https://conda.anaconda.org/conda-forge/linux-64/libssh2-1.9.0-hab1572f_5.tar.bz2\n",
      "https://conda.anaconda.org/conda-forge/linux-64/libxcb-1.13-h14c3975_1002.tar.bz2\n",
      "https://conda.anaconda.org/conda-forge/linux-64/libxml2-2.9.10-h68273f3_2.tar.bz2\n",
      "https://conda.anaconda.org/conda-forge/linux-64/nodejs-14.13.1-h568c755_0.tar.bz2\n",
      "https://conda.anaconda.org/conda-forge/linux-64/readline-8.0-he28a2e2_2.tar.bz2\n",
      "https://conda.anaconda.org/conda-forge/linux-64/tk-8.6.10-hed695b0_1.tar.bz2\n",
      "https://conda.anaconda.org/conda-forge/linux-64/xerces-c-3.2.3-hfe33f54_1.tar.bz2\n",
      "https://conda.anaconda.org/conda-forge/linux-64/xorg-libsm-1.2.3-h84519dc_1000.tar.bz2\n",
      "https://conda.anaconda.org/conda-forge/linux-64/zeromq-4.3.3-he1b5a44_2.tar.bz2\n",
      "https://conda.anaconda.org/conda-forge/linux-64/zstd-1.4.5-h6597ccf_2.tar.bz2\n",
      "https://conda.anaconda.org/conda-forge/linux-64/boost-cpp-1.74.0-h9359b55_0.tar.bz2\n",
      "https://conda.anaconda.org/conda-forge/linux-64/configurable-http-proxy-1.3.0-0.tar.bz2\n",
      "https://conda.anaconda.org/conda-forge/linux-64/freetype-2.10.3-he06d7ca_0.tar.bz2\n",
      "https://conda.anaconda.org/conda-forge/linux-64/krb5-1.17.1-hfafb76e_3.tar.bz2\n",
      "https://conda.anaconda.org/conda-forge/linux-64/libcblas-3.8.0-17_openblas.tar.bz2\n",
      "https://conda.anaconda.org/conda-forge/linux-64/libglib-2.66.1-h0dae87d_1.tar.bz2\n",
      "https://conda.anaconda.org/conda-forge/linux-64/liblapack-3.8.0-17_openblas.tar.bz2\n",
      "https://conda.anaconda.org/conda-forge/linux-64/libtiff-4.1.0-hc7e4089_6.tar.bz2\n",
      "https://conda.anaconda.org/conda-forge/linux-64/sqlite-3.33.0-h4cf870e_1.tar.bz2\n",
      "https://conda.anaconda.org/conda-forge/linux-64/xorg-libx11-1.6.12-h516909a_0.tar.bz2\n",
      "https://conda.anaconda.org/conda-forge/linux-64/fontconfig-2.13.1-h1056068_1002.tar.bz2\n",
      "https://conda.anaconda.org/conda-forge/linux-64/lcms2-2.11-hbd6801e_0.tar.bz2\n",
      "https://conda.anaconda.org/conda-forge/linux-64/libcurl-7.71.1-hcdd3856_8.tar.bz2\n",
      "https://conda.anaconda.org/conda-forge/linux-64/libkml-1.3.0-h74f7ee3_1012.tar.bz2\n",
      "https://conda.anaconda.org/conda-forge/linux-64/libpq-12.3-h5513abc_2.tar.bz2\n",
      "https://conda.anaconda.org/conda-forge/linux-64/openjpeg-2.3.1-h981e76c_3.tar.bz2\n",
      "https://conda.anaconda.org/conda-forge/linux-64/python-3.8.6-h852b56e_0_cpython.tar.bz2\n",
      "https://conda.anaconda.org/conda-forge/linux-64/xorg-libxext-1.3.4-h516909a_0.tar.bz2\n",
      "https://conda.anaconda.org/conda-forge/linux-64/xorg-libxrender-0.9.10-h516909a_1002.tar.bz2\n",
      "https://conda.anaconda.org/conda-forge/noarch/appdirs-1.4.3-py_1.tar.bz2\n",
      "https://conda.anaconda.org/conda-forge/noarch/asciitree-0.3.3-py_2.tar.bz2\n",
      "https://conda.anaconda.org/conda-forge/noarch/async-timeout-3.0.1-py_1000.tar.bz2\n",
      "https://conda.anaconda.org/conda-forge/noarch/async_generator-1.10-py_0.tar.bz2\n",
      "https://conda.anaconda.org/conda-forge/noarch/attrs-20.2.0-pyh9f0ad1d_0.tar.bz2\n",
      "https://conda.anaconda.org/conda-forge/noarch/backcall-0.2.0-pyh9f0ad1d_0.tar.bz2\n",
      "https://conda.anaconda.org/conda-forge/noarch/backports-1.0-py_2.tar.bz2\n",
      "https://conda.anaconda.org/conda-forge/noarch/blinker-1.4-py_1.tar.bz2\n",
      "https://conda.anaconda.org/conda-forge/linux-64/cairo-1.16.0-h488836b_1006.tar.bz2\n",
      "https://conda.anaconda.org/conda-forge/linux-64/cfitsio-3.470-h0392d32_7.tar.bz2\n",
      "https://conda.anaconda.org/conda-forge/noarch/click-7.1.2-pyh9f0ad1d_0.tar.bz2\n",
      "https://conda.anaconda.org/conda-forge/noarch/cloudpickle-1.6.0-py_0.tar.bz2\n",
      "https://conda.anaconda.org/conda-forge/linux-64/curl-7.71.1-he644dc0_8.tar.bz2\n",
      "https://conda.anaconda.org/conda-forge/noarch/dataclasses-0.7-pyhb2cacf7_7.tar.bz2\n",
      "https://conda.anaconda.org/conda-forge/noarch/decorator-4.4.2-py_0.tar.bz2\n",
      "https://conda.anaconda.org/conda-forge/noarch/defusedxml-0.6.0-py_0.tar.bz2\n",
      "https://conda.anaconda.org/conda-forge/noarch/fsspec-0.8.4-py_0.tar.bz2\n",
      "https://conda.anaconda.org/conda-forge/linux-64/glib-2.66.1-he1b5a44_1.tar.bz2\n",
      "https://conda.anaconda.org/conda-forge/linux-64/hdf5-1.10.6-nompi_h1022a3e_1110.tar.bz2\n",
      "https://conda.anaconda.org/conda-forge/noarch/heapdict-1.0.1-py_0.tar.bz2\n",
      "https://conda.anaconda.org/conda-forge/noarch/idna-2.10-pyh9f0ad1d_0.tar.bz2\n",
      "https://conda.anaconda.org/conda-forge/noarch/iniconfig-1.1.0-pyh9f0ad1d_0.tar.bz2\n",
      "https://conda.anaconda.org/conda-forge/noarch/ipython_genutils-0.2.0-py_1.tar.bz2\n",
      "https://conda.anaconda.org/conda-forge/noarch/json5-0.9.5-pyh9f0ad1d_0.tar.bz2\n",
      "https://conda.anaconda.org/conda-forge/noarch/locket-0.2.0-py_2.tar.bz2\n",
      "https://conda.anaconda.org/conda-forge/noarch/monotonic-1.5-py_0.tar.bz2\n",
      "https://conda.anaconda.org/conda-forge/noarch/more-itertools-8.5.0-py_0.tar.bz2\n",
      "https://conda.anaconda.org/conda-forge/noarch/nest-asyncio-1.4.1-py_0.tar.bz2\n",
      "https://conda.anaconda.org/conda-forge/noarch/olefile-0.46-pyh9f0ad1d_1.tar.bz2\n",
      "https://conda.anaconda.org/conda-forge/noarch/pamela-1.0.0-py_0.tar.bz2\n",
      "https://conda.anaconda.org/conda-forge/noarch/pandocfilters-1.4.2-py_1.tar.bz2\n",
      "https://conda.anaconda.org/conda-forge/noarch/param-1.9.3-py_0.tar.bz2\n",
      "https://conda.anaconda.org/conda-forge/noarch/parso-0.7.1-pyh9f0ad1d_0.tar.bz2\n",
      "https://conda.anaconda.org/conda-forge/noarch/pathspec-0.8.0-pyh9f0ad1d_0.tar.bz2\n",
      "https://conda.anaconda.org/conda-forge/noarch/pickleshare-0.7.5-py_1003.tar.bz2\n",
      "https://conda.anaconda.org/conda-forge/linux-64/postgresql-12.3-h8573dbc_2.tar.bz2\n",
      "https://conda.anaconda.org/conda-forge/linux-64/proj-7.1.1-h966b41f_3.tar.bz2\n",
      "https://conda.anaconda.org/conda-forge/noarch/prometheus_client-0.8.0-pyh9f0ad1d_0.tar.bz2\n",
      "https://conda.anaconda.org/conda-forge/noarch/ptyprocess-0.6.0-py_1001.tar.bz2\n",
      "https://conda.anaconda.org/conda-forge/noarch/py-1.9.0-pyh9f0ad1d_0.tar.bz2\n",
      "https://conda.anaconda.org/conda-forge/noarch/pycparser-2.20-pyh9f0ad1d_2.tar.bz2\n",
      "https://conda.anaconda.org/conda-forge/noarch/pyparsing-2.4.7-pyh9f0ad1d_0.tar.bz2\n",
      "https://conda.anaconda.org/conda-forge/noarch/pyshp-2.1.2-pyh9f0ad1d_0.tar.bz2\n",
      "https://conda.anaconda.org/conda-forge/noarch/python-editor-1.0.4-py_0.tar.bz2\n",
      "https://conda.anaconda.org/conda-forge/noarch/python-json-logger-2.0.1-pyh9f0ad1d_0.tar.bz2\n",
      "https://conda.anaconda.org/conda-forge/linux-64/python_abi-3.8-1_cp38.tar.bz2\n",
      "https://conda.anaconda.org/conda-forge/noarch/pytz-2020.1-pyh9f0ad1d_0.tar.bz2\n",
      "https://conda.anaconda.org/conda-forge/noarch/send2trash-1.5.0-py_0.tar.bz2\n",
      "https://conda.anaconda.org/conda-forge/noarch/simpervisor-0.3-py_1.tar.bz2\n",
      "https://conda.anaconda.org/conda-forge/noarch/six-1.15.0-pyh9f0ad1d_0.tar.bz2\n",
      "https://conda.anaconda.org/conda-forge/noarch/sortedcontainers-2.2.2-pyh9f0ad1d_0.tar.bz2\n",
      "https://conda.anaconda.org/conda-forge/noarch/tblib-1.6.0-py_0.tar.bz2\n",
      "https://conda.anaconda.org/conda-forge/noarch/testpath-0.4.4-py_0.tar.bz2\n",
      "https://conda.anaconda.org/conda-forge/noarch/textwrap3-0.9.2-py_0.tar.bz2\n",
      "https://conda.anaconda.org/conda-forge/noarch/toml-0.10.1-pyh9f0ad1d_0.tar.bz2\n",
      "https://conda.anaconda.org/conda-forge/noarch/toolz-0.11.1-py_0.tar.bz2\n",
      "https://conda.anaconda.org/conda-forge/noarch/tqdm-4.50.2-pyh9f0ad1d_0.tar.bz2\n",
      "https://conda.anaconda.org/conda-forge/linux-64/typed-ast-1.4.1-py38h516909a_0.tar.bz2\n",
      "https://conda.anaconda.org/conda-forge/noarch/typing_extensions-3.7.4.3-py_0.tar.bz2\n",
      "https://conda.anaconda.org/conda-forge/noarch/webencodings-0.5.1-py_1.tar.bz2\n",
      "https://conda.anaconda.org/conda-forge/noarch/wheel-0.35.1-pyh9f0ad1d_0.tar.bz2\n",
      "https://conda.anaconda.org/conda-forge/noarch/zipp-3.3.1-py_0.tar.bz2\n",
      "https://conda.anaconda.org/conda-forge/noarch/ansiwrap-0.8.4-py_0.tar.bz2\n",
      "https://conda.anaconda.org/conda-forge/linux-64/certifi-2020.6.20-py38h924ce5b_2.tar.bz2\n",
      "https://conda.anaconda.org/conda-forge/linux-64/cffi-1.14.3-py38h1bdcb99_1.tar.bz2\n",
      "https://conda.anaconda.org/conda-forge/linux-64/chardet-3.0.4-py38h924ce5b_1008.tar.bz2\n",
      "https://conda.anaconda.org/conda-forge/linux-64/conda-package-handling-1.7.2-py38h8df0ef7_0.tar.bz2\n",
      "https://conda.anaconda.org/conda-forge/linux-64/coverage-5.3-py38h1e0a361_1.tar.bz2\n",
      "https://conda.anaconda.org/conda-forge/noarch/cycler-0.10.0-py_2.tar.bz2\n",
      "https://conda.anaconda.org/conda-forge/linux-64/cytoolz-0.11.0-py38h1e0a361_1.tar.bz2\n",
      "https://conda.anaconda.org/conda-forge/noarch/docrep-0.2.7-py_0.tar.bz2\n",
      "https://conda.anaconda.org/conda-forge/linux-64/entrypoints-0.3-py38h32f6830_1002.tar.bz2\n",
      "https://conda.anaconda.org/conda-forge/noarch/fasteners-0.14.1-py_3.tar.bz2\n",
      "https://conda.anaconda.org/conda-forge/linux-64/future-0.18.2-py38h32f6830_2.tar.bz2\n",
      "https://conda.anaconda.org/conda-forge/linux-64/geotiff-1.6.0-h5d11630_3.tar.bz2\n",
      "https://conda.anaconda.org/conda-forge/linux-64/git-2.28.0-pl526h5e3e691_1.tar.bz2\n",
      "https://conda.anaconda.org/conda-forge/noarch/importlib-metadata-2.0.0-py_1.tar.bz2\n",
      "https://conda.anaconda.org/conda-forge/linux-64/jedi-0.17.2-py38h32f6830_1.tar.bz2\n",
      "https://conda.anaconda.org/conda-forge/linux-64/kealib-1.4.13-h33137a7_1.tar.bz2\n",
      "https://conda.anaconda.org/conda-forge/linux-64/kiwisolver-1.2.0-py38hbf85e49_1.tar.bz2\n",
      "https://conda.anaconda.org/conda-forge/linux-64/libdap4-3.20.6-h1d1bd15_1.tar.bz2\n",
      "https://conda.anaconda.org/conda-forge/linux-64/libnetcdf-4.7.4-nompi_h84807e1_105.tar.bz2\n",
      "https://conda.anaconda.org/conda-forge/linux-64/libspatialite-5.0.0-h4dde289_0.tar.bz2\n",
      "https://conda.anaconda.org/conda-forge/linux-64/llvmlite-0.34.0-py38h4f45e52_2.tar.bz2\n",
      "https://conda.anaconda.org/conda-forge/noarch/markdown-it-py-0.5.5-py_0.tar.bz2\n",
      "https://conda.anaconda.org/conda-forge/linux-64/markupsafe-1.1.1-py38h8df0ef7_2.tar.bz2\n",
      "https://conda.anaconda.org/conda-forge/linux-64/mistune-0.8.4-py38h1e0a361_1002.tar.bz2\n",
      "https://conda.anaconda.org/conda-forge/linux-64/msgpack-python-1.0.0-py38hbf85e49_2.tar.bz2\n",
      "https://conda.anaconda.org/conda-forge/linux-64/multidict-4.7.5-py38h1e0a361_2.tar.bz2\n",
      "https://conda.anaconda.org/conda-forge/linux-64/mypy_extensions-0.4.3-py38h32f6830_1.tar.bz2\n",
      "https://conda.anaconda.org/conda-forge/linux-64/numpy-1.19.2-py38hbc27379_1.tar.bz2\n",
      "https://conda.anaconda.org/conda-forge/noarch/packaging-20.4-pyh9f0ad1d_0.tar.bz2\n",
      "https://conda.anaconda.org/conda-forge/noarch/partd-1.1.0-py_0.tar.bz2\n",
      "https://conda.anaconda.org/conda-forge/noarch/pexpect-4.8.0-pyh9f0ad1d_2.tar.bz2\n",
      "https://conda.anaconda.org/conda-forge/linux-64/pillow-8.0.0-py38h9776b28_0.tar.bz2\n",
      "https://conda.anaconda.org/conda-forge/linux-64/pluggy-0.13.1-py38h32f6830_3.tar.bz2\n",
      "https://conda.anaconda.org/conda-forge/linux-64/poppler-0.89.0-h4190859_1.tar.bz2\n",
      "https://conda.anaconda.org/conda-forge/linux-64/psutil-5.7.2-py38h8df0ef7_1.tar.bz2\n",
      "https://conda.anaconda.org/conda-forge/linux-64/pycosat-0.6.3-py38h8df0ef7_1005.tar.bz2\n",
      "https://conda.anaconda.org/conda-forge/noarch/pyct-core-0.4.6-py_0.tar.bz2\n",
      "https://conda.anaconda.org/conda-forge/linux-64/pycurl-7.43.0.5-py38hd8bd627_3.tar.bz2\n",
      "https://conda.anaconda.org/conda-forge/linux-64/pyproj-2.6.1.post1-py38h56787f0_3.tar.bz2\n",
      "https://conda.anaconda.org/conda-forge/linux-64/pyrsistent-0.17.3-py38h1e0a361_1.tar.bz2\n",
      "https://conda.anaconda.org/conda-forge/linux-64/pysocks-1.7.1-py38h924ce5b_2.tar.bz2\n",
      "https://conda.anaconda.org/conda-forge/noarch/python-dateutil-2.8.1-py_0.tar.bz2\n",
      "https://conda.anaconda.org/conda-forge/noarch/pyviz_comms-0.7.6-pyh9f0ad1d_0.tar.bz2\n",
      "https://conda.anaconda.org/conda-forge/linux-64/pyyaml-5.3.1-py38h8df0ef7_1.tar.bz2\n",
      "https://conda.anaconda.org/conda-forge/linux-64/pyzmq-19.0.2-py38ha71036d_2.tar.bz2\n",
      "https://conda.anaconda.org/conda-forge/linux-64/regex-2020.10.15-py38h1e0a361_0.tar.bz2\n",
      "https://conda.anaconda.org/conda-forge/linux-64/ruamel.yaml.clib-0.2.2-py38h1e0a361_1.tar.bz2\n",
      "https://conda.anaconda.org/conda-forge/linux-64/ruamel_yaml-0.15.80-py38h8df0ef7_1003.tar.bz2\n",
      "https://conda.anaconda.org/conda-forge/linux-64/sqlalchemy-1.3.20-py38h1e0a361_0.tar.bz2\n",
      "https://conda.anaconda.org/conda-forge/noarch/tenacity-6.2.0-py_1.tar.bz2\n",
      "https://conda.anaconda.org/conda-forge/linux-64/thrift-0.11.0-py38he1b5a44_1001.tar.bz2\n",
      "https://conda.anaconda.org/conda-forge/linux-64/tiledb-2.1.1-h47b529c_1.tar.bz2\n",
      "https://conda.anaconda.org/conda-forge/linux-64/tornado-6.0.4-py38h1e0a361_2.tar.bz2\n",
      "https://conda.anaconda.org/conda-forge/noarch/traitlets-5.0.5-py_0.tar.bz2\n",
      "https://conda.anaconda.org/conda-forge/noarch/zict-2.0.0-py_0.tar.bz2\n",
      "https://conda.anaconda.org/conda-forge/linux-64/argon2-cffi-20.1.0-py38h1e0a361_2.tar.bz2\n",
      "https://conda.anaconda.org/conda-forge/noarch/black-20.8b1-py_1.tar.bz2\n",
      "https://conda.anaconda.org/conda-forge/linux-64/brotlipy-0.7.0-py38h8df0ef7_1001.tar.bz2\n",
      "https://conda.anaconda.org/conda-forge/linux-64/cftime-1.2.1-py38hab2c0dc_1.tar.bz2\n",
      "https://conda.anaconda.org/conda-forge/noarch/colorspacious-1.1.2-pyh24bf2e0_0.tar.bz2\n",
      "https://conda.anaconda.org/conda-forge/linux-64/cryptography-3.1.1-py38hb23e4d4_1.tar.bz2\n",
      "https://conda.anaconda.org/conda-forge/noarch/dask-core-2.30.0-py_0.tar.bz2\n",
      "https://conda.anaconda.org/conda-forge/linux-64/gsw-3.4.0-py38hab2c0dc_1.tar.bz2\n",
      "https://conda.anaconda.org/conda-forge/linux-64/h5py-2.10.0-nompi_py38h7442b35_105.tar.bz2\n",
      "https://conda.anaconda.org/conda-forge/noarch/importlib_metadata-2.0.0-1.tar.bz2\n",
      "https://conda.anaconda.org/conda-forge/linux-64/jupyter_core-4.6.3-py38h32f6830_2.tar.bz2\n",
      "https://conda.anaconda.org/conda-forge/linux-64/libgdal-3.1.3-h670eac6_1.tar.bz2\n",
      "https://conda.anaconda.org/conda-forge/noarch/mako-1.1.3-pyh9f0ad1d_0.tar.bz2\n",
      "https://conda.anaconda.org/conda-forge/noarch/markdown-3.3.1-pyh9f0ad1d_0.tar.bz2\n",
      "https://conda.anaconda.org/conda-forge/linux-64/numcodecs-0.7.2-py38h950e882_1.tar.bz2\n",
      "https://conda.anaconda.org/conda-forge/linux-64/pandas-1.1.3-py38hc5bc63f_2.tar.bz2\n",
      "https://conda.anaconda.org/conda-forge/linux-64/pytest-6.1.1-py38h32f6830_1.tar.bz2\n",
      "https://conda.anaconda.org/conda-forge/linux-64/scipy-1.5.2-py38hd648e70_2.tar.bz2\n",
      "https://conda.anaconda.org/conda-forge/noarch/seawater-3.3.4-py_1.tar.bz2\n",
      "https://conda.anaconda.org/conda-forge/linux-64/setuptools-49.6.0-py38h924ce5b_2.tar.bz2\n",
      "https://conda.anaconda.org/conda-forge/linux-64/shapely-1.7.1-py38hc7361b7_1.tar.bz2\n",
      "https://conda.anaconda.org/conda-forge/linux-64/terminado-0.9.1-py38h32f6830_1.tar.bz2\n",
      "https://conda.anaconda.org/conda-forge/linux-64/yarl-1.6.2-py38h1e0a361_0.tar.bz2\n",
      "https://conda.anaconda.org/conda-forge/linux-64/aiohttp-3.6.2-py38h1e0a361_1.tar.bz2\n",
      "https://conda.anaconda.org/conda-forge/noarch/alembic-1.4.3-pyh9f0ad1d_0.tar.bz2\n",
      "https://conda.anaconda.org/conda-forge/noarch/backports.functools_lru_cache-1.6.1-py_0.tar.bz2\n",
      "https://conda.anaconda.org/conda-forge/noarch/bleach-3.2.1-pyh9f0ad1d_0.tar.bz2\n",
      "https://conda.anaconda.org/conda-forge/linux-64/distributed-2.30.0-py38h32f6830_1.tar.bz2\n",
      "https://conda.anaconda.org/conda-forge/linux-64/gdal-3.1.3-py38h9edfc58_1.tar.bz2\n",
      "https://conda.anaconda.org/conda-forge/noarch/h5netcdf-0.8.1-py_0.tar.bz2\n",
      "https://conda.anaconda.org/conda-forge/noarch/jinja2-2.11.2-pyh9f0ad1d_0.tar.bz2\n",
      "https://conda.anaconda.org/conda-forge/noarch/jsonschema-3.2.0-py_2.tar.bz2\n",
      "https://conda.anaconda.org/conda-forge/noarch/jupyter_client-6.1.7-py_0.tar.bz2\n",
      "https://conda.anaconda.org/conda-forge/linux-64/matplotlib-base-3.3.2-py38h4d1ce4f_1.tar.bz2\n",
      "https://conda.anaconda.org/conda-forge/linux-64/netcdf4-1.5.4-nompi_py38hec8b9af_103.tar.bz2\n",
      "https://conda.anaconda.org/conda-forge/linux-64/numba-0.51.2-py38hc5bc63f_0.tar.bz2\n",
      "https://conda.anaconda.org/conda-forge/noarch/patsy-0.5.1-py_0.tar.bz2\n",
      "https://conda.anaconda.org/conda-forge/noarch/pip-20.2.4-py_0.tar.bz2\n",
      "https://conda.anaconda.org/conda-forge/noarch/pygments-2.7.1-py_0.tar.bz2\n",
      "https://conda.anaconda.org/conda-forge/noarch/pyjwt-1.7.1-py_0.tar.bz2\n",
      "https://conda.anaconda.org/conda-forge/noarch/pyopenssl-19.1.0-py_1.tar.bz2\n",
      "https://conda.anaconda.org/conda-forge/linux-64/ruamel.yaml-0.16.12-py38h1e0a361_1.tar.bz2\n",
      "https://conda.anaconda.org/conda-forge/noarch/xarray-0.16.1-py_0.tar.bz2\n",
      "https://conda.anaconda.org/conda-forge/noarch/zarr-2.4.0-py_0.tar.bz2\n",
      "https://conda.anaconda.org/conda-forge/linux-64/basemap-1.2.2-py38h88488af_2.tar.bz2\n",
      "https://conda.anaconda.org/conda-forge/linux-64/bokeh-2.2.2-py38h32f6830_0.tar.bz2\n",
      "https://conda.anaconda.org/conda-forge/noarch/certipy-0.1.3-py_0.tar.bz2\n",
      "https://conda.anaconda.org/conda-forge/noarch/cmaps-1.0.3-pyh9f0ad1d_0.tar.bz2\n",
      "https://conda.anaconda.org/conda-forge/noarch/cmocean-2.0-py_3.tar.bz2\n",
      "https://conda.anaconda.org/conda-forge/noarch/dask-jobqueue-0.7.1-py_0.tar.bz2\n",
      "https://conda.anaconda.org/conda-forge/linux-64/fastparquet-0.4.1-py38h8790de6_0.tar.bz2\n",
      "https://conda.anaconda.org/conda-forge/noarch/jupyter_telemetry-0.0.5-py_0.tar.bz2\n",
      "https://conda.anaconda.org/conda-forge/noarch/jupyterlab_pygments-0.1.2-pyh9f0ad1d_0.tar.bz2\n",
      "https://conda.anaconda.org/conda-forge/noarch/nbformat-5.0.8-py_0.tar.bz2\n",
      "https://conda.anaconda.org/conda-forge/noarch/oauthlib-3.0.1-py_0.tar.bz2\n",
      "https://conda.anaconda.org/conda-forge/noarch/seaborn-base-0.11.0-py_0.tar.bz2\n",
      "https://conda.anaconda.org/conda-forge/linux-64/statsmodels-0.12.0-py38hab2c0dc_1.tar.bz2\n",
      "https://conda.anaconda.org/conda-forge/noarch/urllib3-1.25.10-py_0.tar.bz2\n",
      "https://conda.anaconda.org/conda-forge/noarch/wcwidth-0.2.5-pyh9f0ad1d_2.tar.bz2\n",
      "https://conda.anaconda.org/conda-forge/noarch/dask-2.30.0-py_0.tar.bz2\n",
      "https://conda.anaconda.org/conda-forge/noarch/jupytext-1.6.0-pyh9f0ad1d_0.tar.bz2\n",
      "https://conda.anaconda.org/conda-forge/noarch/nbclient-0.5.1-py_0.tar.bz2\n",
      "https://conda.anaconda.org/conda-forge/noarch/prompt-toolkit-3.0.8-py_0.tar.bz2\n",
      "https://conda.anaconda.org/conda-forge/noarch/requests-2.24.0-pyh9f0ad1d_0.tar.bz2\n",
      "https://conda.anaconda.org/conda-forge/linux-64/seaborn-0.11.0-0.tar.bz2\n",
      "https://conda.anaconda.org/conda-forge/linux-64/conda-4.8.5-py38h924ce5b_2.tar.bz2\n",
      "https://conda.anaconda.org/conda-forge/noarch/intake-0.6.0-py_0.tar.bz2\n",
      "https://conda.anaconda.org/conda-forge/linux-64/ipython-7.18.1-py38h1cdfbd6_1.tar.bz2\n",
      "https://conda.anaconda.org/conda-forge/linux-64/jupyterhub-base-1.1.0-py38h32f6830_4.tar.bz2\n",
      "https://conda.anaconda.org/conda-forge/linux-64/nbconvert-6.0.7-py38h32f6830_1.tar.bz2\n",
      "https://conda.anaconda.org/conda-forge/noarch/owslib-0.20.0-py_0.tar.bz2\n",
      "https://conda.anaconda.org/conda-forge/noarch/papermill-2.2.0-py_1.tar.bz2\n",
      "https://conda.anaconda.org/conda-forge/noarch/pyct-0.4.6-py_0.tar.bz2\n",
      "https://conda.anaconda.org/conda-forge/noarch/pyepsg-0.4.0-py_0.tar.bz2\n",
      "https://conda.anaconda.org/conda-forge/noarch/xgcm-0.5.1-py_0.tar.bz2\n",
      "https://conda.anaconda.org/conda-forge/noarch/xhistogram-0.1.1-py_0.tar.bz2\n",
      "https://conda.anaconda.org/conda-forge/linux-64/cartopy-0.18.0-py38hb21190c_3.tar.bz2\n",
      "https://conda.anaconda.org/conda-forge/noarch/colorcet-2.0.1-py_0.tar.bz2\n",
      "https://conda.anaconda.org/conda-forge/noarch/intake-xarray-0.4.0-py_0.tar.bz2\n",
      "https://conda.anaconda.org/conda-forge/linux-64/ipykernel-5.3.4-py38h1cdfbd6_1.tar.bz2\n",
      "https://conda.anaconda.org/conda-forge/linux-64/jupyterhub-1.1.0-py38h32f6830_4.tar.bz2\n",
      "https://conda.anaconda.org/conda-forge/noarch/panel-0.9.7-py_0.tar.bz2\n",
      "https://conda.anaconda.org/conda-forge/noarch/cartopy_offlinedata-0.2.3-pyh9f0ad1d_0.tar.bz2\n",
      "https://conda.anaconda.org/conda-forge/noarch/nbval-0.9.6-pyh9f0ad1d_0.tar.bz2\n",
      "https://conda.anaconda.org/conda-forge/linux-64/notebook-6.1.4-py38h32f6830_1.tar.bz2\n",
      "https://conda.anaconda.org/conda-forge/noarch/holoviews-1.13.4-pyh9f0ad1d_0.tar.bz2\n",
      "https://conda.anaconda.org/conda-forge/noarch/jupyter-server-proxy-1.5.0-py_0.tar.bz2\n",
      "https://conda.anaconda.org/conda-forge/noarch/jupyterlab_server-1.2.0-py_0.tar.bz2\n",
      "https://conda.anaconda.org/conda-forge/noarch/nbgitpuller-0.9.0-py_0.tar.bz2\n",
      "https://conda.anaconda.org/conda-forge/noarch/dask-labextension-3.0.0-py_0.tar.bz2\n",
      "https://conda.anaconda.org/conda-forge/noarch/hvplot-0.6.0-pyh9f0ad1d_0.tar.bz2\n",
      "https://conda.anaconda.org/conda-forge/noarch/jupyterlab-2.2.8-py_0.tar.bz2\n"
     ]
    }
   ],
   "source": [
    "!conda list --explicit"
   ]
  }
 ],
 "metadata": {
  "kernelspec": {
   "display_name": "Python 3",
   "language": "python",
   "name": "python3"
  },
  "language_info": {
   "codemirror_mode": {
    "name": "ipython",
    "version": 3
   },
   "file_extension": ".py",
   "mimetype": "text/x-python",
   "name": "python",
   "nbconvert_exporter": "python",
   "pygments_lexer": "ipython3",
   "version": "3.8.6"
  }
 },
 "nbformat": 4,
 "nbformat_minor": 4
}
